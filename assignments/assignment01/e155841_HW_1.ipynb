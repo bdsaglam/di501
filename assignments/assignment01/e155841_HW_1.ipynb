{
 "cells": [
  {
   "cell_type": "markdown",
   "metadata": {},
   "source": [
    "<h1 style=\"margin-bottom:0\"><center>DI 501 - Introduction to Data Informatics</center></h1>\n",
    "<h2 style=\"margin-top:0\"><center>Assignment #1</center></h2>\n",
    "<h3 style=\"margin-top:0\"><center>Due: October 31, Monday 23:59</center></h3>\n",
    "<br>\n",
    "<p style=\"margin-top:0\"><center><b>This assignment is prepared for Middle East Technical University's DI 501 - Introduction to Data Informatics course.</b></center></p>\n",
    "<hr style=\"height:2px;color:navy;margin-top:0\">\n",
    "<p style=\"margin-top:0; text-align: justify; font-size:15px\">This assignment consists of two distinct sections that you need to do required actions by writing Python code. <ul>This assignment will help you:\n",
    "    <li>Getting familiar with Python & Jupyter Notebook.</li>\n",
    "<li>Using NumPy and use functions on arrays.</li>\n",
    "<li>Using Pandas dataframes to import, clean and query data.</li></ul></p>\n",
    "\n",
    "### Submission and Grading Policy\n",
    "- Submit your assignments to the corresponding assignment link in https://odtuclass.metu.edu.tr.\n",
    "- Solutions should be submitted in a single **ipynb** file named: metu-username_HW_1.ipynb (e.g., “e123456_HW_1.ipynb”).\n",
    "- Late submissions will be accepted by November 3, 2021, 23:59 with a 5% per day penalty.\n",
    "- Do not change variable names in the code blocks and the texts in the markdowns.\n",
    "- **<font color=#C91414>This is an individual assignment. Please do not collaborate. You have to adhere to the academic integrity principles.</font>** \n",
    "- If needed, you are required to explain your reasonings by adding new blocks below your codes."
   ]
  },
  {
   "cell_type": "markdown",
   "metadata": {},
   "source": [
    "<h3 style=\"margin-bottom:0\">a) NumPy</h3>"
   ]
  },
  {
   "cell_type": "markdown",
   "metadata": {},
   "source": [
    "<h4 style=\"margin-bottom:0\">1) Importing NumPy</h4>"
   ]
  },
  {
   "cell_type": "markdown",
   "metadata": {},
   "source": [
    "Here, please import NumPy library of Python. You may also import any other library that you intend to use here."
   ]
  },
  {
   "cell_type": "code",
   "execution_count": 1,
   "metadata": {},
   "outputs": [],
   "source": [
    "import numpy as np"
   ]
  },
  {
   "cell_type": "markdown",
   "metadata": {},
   "source": [
    "<h4 style=\"margin-bottom:0\">2) Creating Array</h4>"
   ]
  },
  {
   "cell_type": "markdown",
   "metadata": {},
   "source": [
    "Create an array (4x4) named \"array\" that has consecutive numbers from 1 to 16."
   ]
  },
  {
   "cell_type": "code",
   "execution_count": 2,
   "metadata": {
    "scrolled": false
   },
   "outputs": [
    {
     "data": {
      "text/plain": [
       "array([[ 1,  2,  3,  4],\n",
       "       [ 5,  6,  7,  8],\n",
       "       [ 9, 10, 11, 12],\n",
       "       [13, 14, 15, 16]])"
      ]
     },
     "execution_count": 2,
     "metadata": {},
     "output_type": "execute_result"
    }
   ],
   "source": [
    "array = np.arange(1, 17).reshape(4,4)\n",
    "array"
   ]
  },
  {
   "cell_type": "markdown",
   "metadata": {},
   "source": [
    "Check the shape of the array to make sure you created it correctly."
   ]
  },
  {
   "cell_type": "code",
   "execution_count": 3,
   "metadata": {},
   "outputs": [
    {
     "data": {
      "text/plain": [
       "(4, 4)"
      ]
     },
     "execution_count": 3,
     "metadata": {},
     "output_type": "execute_result"
    }
   ],
   "source": [
    "assert array.shape == (4,4)\n",
    "array.shape"
   ]
  },
  {
   "cell_type": "markdown",
   "metadata": {},
   "source": [
    "<h4 style=\"margin-bottom:0\">3) Indexing and Slicing</h4>"
   ]
  },
  {
   "cell_type": "markdown",
   "metadata": {},
   "source": [
    "First, from your array, retrieve elements \"10,11 and 12\"."
   ]
  },
  {
   "cell_type": "code",
   "execution_count": 4,
   "metadata": {},
   "outputs": [
    {
     "data": {
      "text/plain": [
       "array([10, 11, 12])"
      ]
     },
     "execution_count": 4,
     "metadata": {},
     "output_type": "execute_result"
    }
   ],
   "source": [
    "array[2, 1:]"
   ]
  },
  {
   "cell_type": "markdown",
   "metadata": {},
   "source": [
    "Now, retrieve all elements that are greater than 9."
   ]
  },
  {
   "cell_type": "code",
   "execution_count": 5,
   "metadata": {},
   "outputs": [
    {
     "data": {
      "text/plain": [
       "array([10, 11, 12, 13, 14, 15, 16])"
      ]
     },
     "execution_count": 5,
     "metadata": {},
     "output_type": "execute_result"
    }
   ],
   "source": [
    "array[array > 9]"
   ]
  },
  {
   "cell_type": "markdown",
   "metadata": {},
   "source": [
    "Now, retrieve all odd numbers."
   ]
  },
  {
   "cell_type": "code",
   "execution_count": 6,
   "metadata": {},
   "outputs": [
    {
     "data": {
      "text/plain": [
       "array([ 1,  3,  5,  7,  9, 11, 13, 15])"
      ]
     },
     "execution_count": 6,
     "metadata": {},
     "output_type": "execute_result"
    }
   ],
   "source": [
    "array[array % 2 != 0]"
   ]
  },
  {
   "cell_type": "markdown",
   "metadata": {},
   "source": [
    "Finally, retrieve all numbers that are at the edges of your array (1, 4, 13 and 16)."
   ]
  },
  {
   "cell_type": "code",
   "execution_count": 7,
   "metadata": {},
   "outputs": [
    {
     "data": {
      "text/plain": [
       "array([ 1,  4, 13, 16])"
      ]
     },
     "execution_count": 7,
     "metadata": {},
     "output_type": "execute_result"
    }
   ],
   "source": [
    "array[(0,0,-1,-1), (0,-1,0,-1)]"
   ]
  },
  {
   "cell_type": "markdown",
   "metadata": {},
   "source": [
    "<h4 style=\"margin-bottom:0\">4) Array Manipulation</h4>"
   ]
  },
  {
   "cell_type": "markdown",
   "metadata": {},
   "source": [
    "First, delete the last <b>row </b>."
   ]
  },
  {
   "cell_type": "code",
   "execution_count": 11,
   "metadata": {},
   "outputs": [
    {
     "data": {
      "text/plain": [
       "array([[ 1,  2,  3,  4],\n",
       "       [ 5,  6,  7,  8],\n",
       "       [ 9, 10, 11, 12]])"
      ]
     },
     "execution_count": 11,
     "metadata": {},
     "output_type": "execute_result"
    }
   ],
   "source": [
    "array = np.delete(array, -1, axis=0)\n",
    "array"
   ]
  },
  {
   "cell_type": "markdown",
   "metadata": {},
   "source": [
    "Now, add a new <b> column </b> that has elements 17, 18 and 19."
   ]
  },
  {
   "cell_type": "code",
   "execution_count": 14,
   "metadata": {},
   "outputs": [
    {
     "data": {
      "text/plain": [
       "array([[ 1,  2,  3,  4, 17],\n",
       "       [ 5,  6,  7,  8, 18],\n",
       "       [ 9, 10, 11, 12, 19]])"
      ]
     },
     "execution_count": 14,
     "metadata": {},
     "output_type": "execute_result"
    }
   ],
   "source": [
    "array = np.append(array, np.array([17, 18, 19]).reshape(3,1), axis=1)\n",
    "array"
   ]
  },
  {
   "cell_type": "markdown",
   "metadata": {},
   "source": [
    "<h3 style=\"margin-bottom:0\">b) Pandas</h3>"
   ]
  },
  {
   "cell_type": "markdown",
   "metadata": {},
   "source": [
    "For understanding pandas library, we will be utilizing a dataset prepared for this assignment. This dataset shows fictional transactions between fictional companies that sell <b> Qutrian </b> (a made up metal) in 2020. Each individual elements are explained as follows:\n",
    "<ul>\n",
    "<li>Seller: seller company name</li>\n",
    "<li>Buyer: buyer company name</li>\n",
    "<li>Quantity: selling quantity (in tons), can be from 0 to 800 due to limitations.</li>\n",
    "<li>Price: selling price (in $), can be from 0 to 10 due to limitations.</li>\n",
    "<li>Date: transaction date, have to be in 2020.</li></ul>\n",
    "\n"
   ]
  },
  {
   "cell_type": "markdown",
   "metadata": {},
   "source": [
    "<h4 style=\"margin-bottom:0\">1) Import Pandas</h4>"
   ]
  },
  {
   "cell_type": "markdown",
   "metadata": {},
   "source": [
    "Here, please import Pandas library of Python. You may also import any other library that you intend to use here."
   ]
  },
  {
   "cell_type": "code",
   "execution_count": 16,
   "metadata": {},
   "outputs": [],
   "source": [
    "import pandas as pd"
   ]
  },
  {
   "cell_type": "markdown",
   "metadata": {},
   "source": [
    "<h4 style=\"margin-bottom:0\">2) Import Data</h4>"
   ]
  },
  {
   "cell_type": "markdown",
   "metadata": {},
   "source": [
    "Import the \"data.csv\" file here. You can check how the data is prepared by taking a look at Excel file. Be sure to use correct delimiter while exporting CSV file. Name your dataframe as \"df\"."
   ]
  },
  {
   "cell_type": "code",
   "execution_count": 17,
   "metadata": {},
   "outputs": [
    {
     "data": {
      "text/html": [
       "<div>\n",
       "<style scoped>\n",
       "    .dataframe tbody tr th:only-of-type {\n",
       "        vertical-align: middle;\n",
       "    }\n",
       "\n",
       "    .dataframe tbody tr th {\n",
       "        vertical-align: top;\n",
       "    }\n",
       "\n",
       "    .dataframe thead th {\n",
       "        text-align: right;\n",
       "    }\n",
       "</style>\n",
       "<table border=\"1\" class=\"dataframe\">\n",
       "  <thead>\n",
       "    <tr style=\"text-align: right;\">\n",
       "      <th></th>\n",
       "      <th>seller</th>\n",
       "      <th>buyer</th>\n",
       "      <th>quantity</th>\n",
       "      <th>price</th>\n",
       "      <th>date</th>\n",
       "    </tr>\n",
       "  </thead>\n",
       "  <tbody>\n",
       "    <tr>\n",
       "      <th>0</th>\n",
       "      <td>Qutrian Engineered</td>\n",
       "      <td>Qutrian All-Star</td>\n",
       "      <td>110.0</td>\n",
       "      <td>1.769704e+13</td>\n",
       "      <td>43831</td>\n",
       "    </tr>\n",
       "    <tr>\n",
       "      <th>1</th>\n",
       "      <td>Diluc</td>\n",
       "      <td>Qutrian Force</td>\n",
       "      <td>477.0</td>\n",
       "      <td>2.679111e+14</td>\n",
       "      <td>43831</td>\n",
       "    </tr>\n",
       "    <tr>\n",
       "      <th>2</th>\n",
       "      <td>Cygen</td>\n",
       "      <td>Qutrianx</td>\n",
       "      <td>722.0</td>\n",
       "      <td>1.255434e+14</td>\n",
       "      <td>43831</td>\n",
       "    </tr>\n",
       "    <tr>\n",
       "      <th>3</th>\n",
       "      <td>Iconic Qutrian</td>\n",
       "      <td>Grids</td>\n",
       "      <td>779.0</td>\n",
       "      <td>2.887408e+14</td>\n",
       "      <td>43831</td>\n",
       "    </tr>\n",
       "    <tr>\n",
       "      <th>4</th>\n",
       "      <td>USA Qutrian</td>\n",
       "      <td>Qutrian Gold</td>\n",
       "      <td>750.0</td>\n",
       "      <td>3.522572e+14</td>\n",
       "      <td>43832</td>\n",
       "    </tr>\n",
       "    <tr>\n",
       "      <th>...</th>\n",
       "      <td>...</td>\n",
       "      <td>...</td>\n",
       "      <td>...</td>\n",
       "      <td>...</td>\n",
       "      <td>...</td>\n",
       "    </tr>\n",
       "    <tr>\n",
       "      <th>3142</th>\n",
       "      <td>Origin</td>\n",
       "      <td>Japan Qutrian</td>\n",
       "      <td>496.0</td>\n",
       "      <td>7.950121e+14</td>\n",
       "      <td>44196</td>\n",
       "    </tr>\n",
       "    <tr>\n",
       "      <th>3143</th>\n",
       "      <td>Qutrian Network</td>\n",
       "      <td>Qutrian Crusade</td>\n",
       "      <td>404.0</td>\n",
       "      <td>3.946285e+14</td>\n",
       "      <td>44196</td>\n",
       "    </tr>\n",
       "    <tr>\n",
       "      <th>3144</th>\n",
       "      <td>Qutrianzoid</td>\n",
       "      <td>Omega</td>\n",
       "      <td>380.0</td>\n",
       "      <td>1.602037e+14</td>\n",
       "      <td>44196</td>\n",
       "    </tr>\n",
       "    <tr>\n",
       "      <th>3145</th>\n",
       "      <td>Cygen</td>\n",
       "      <td>Bliss</td>\n",
       "      <td>360.0</td>\n",
       "      <td>5.474980e+14</td>\n",
       "      <td>44196</td>\n",
       "    </tr>\n",
       "    <tr>\n",
       "      <th>3146</th>\n",
       "      <td>Qutrian All-Star</td>\n",
       "      <td>Omega</td>\n",
       "      <td>702.0</td>\n",
       "      <td>2.036948e+14</td>\n",
       "      <td>44196</td>\n",
       "    </tr>\n",
       "  </tbody>\n",
       "</table>\n",
       "<p>3147 rows × 5 columns</p>\n",
       "</div>"
      ],
      "text/plain": [
       "                  seller             buyer  quantity         price   date\n",
       "0     Qutrian Engineered  Qutrian All-Star     110.0  1.769704e+13  43831\n",
       "1                  Diluc     Qutrian Force     477.0  2.679111e+14  43831\n",
       "2                  Cygen          Qutrianx     722.0  1.255434e+14  43831\n",
       "3         Iconic Qutrian             Grids     779.0  2.887408e+14  43831\n",
       "4            USA Qutrian      Qutrian Gold     750.0  3.522572e+14  43832\n",
       "...                  ...               ...       ...           ...    ...\n",
       "3142              Origin     Japan Qutrian     496.0  7.950121e+14  44196\n",
       "3143     Qutrian Network   Qutrian Crusade     404.0  3.946285e+14  44196\n",
       "3144         Qutrianzoid             Omega     380.0  1.602037e+14  44196\n",
       "3145               Cygen             Bliss     360.0  5.474980e+14  44196\n",
       "3146    Qutrian All-Star             Omega     702.0  2.036948e+14  44196\n",
       "\n",
       "[3147 rows x 5 columns]"
      ]
     },
     "execution_count": 17,
     "metadata": {},
     "output_type": "execute_result"
    }
   ],
   "source": [
    "df = pd.read_csv('./data.csv', sep='/')\n",
    "df"
   ]
  },
  {
   "cell_type": "markdown",
   "metadata": {},
   "source": [
    "To look at whether you have correctly imported data, please have a look at top 5 row of your pandas dataframe."
   ]
  },
  {
   "cell_type": "code",
   "execution_count": 18,
   "metadata": {},
   "outputs": [
    {
     "data": {
      "text/html": [
       "<div>\n",
       "<style scoped>\n",
       "    .dataframe tbody tr th:only-of-type {\n",
       "        vertical-align: middle;\n",
       "    }\n",
       "\n",
       "    .dataframe tbody tr th {\n",
       "        vertical-align: top;\n",
       "    }\n",
       "\n",
       "    .dataframe thead th {\n",
       "        text-align: right;\n",
       "    }\n",
       "</style>\n",
       "<table border=\"1\" class=\"dataframe\">\n",
       "  <thead>\n",
       "    <tr style=\"text-align: right;\">\n",
       "      <th></th>\n",
       "      <th>seller</th>\n",
       "      <th>buyer</th>\n",
       "      <th>quantity</th>\n",
       "      <th>price</th>\n",
       "      <th>date</th>\n",
       "    </tr>\n",
       "  </thead>\n",
       "  <tbody>\n",
       "    <tr>\n",
       "      <th>0</th>\n",
       "      <td>Qutrian Engineered</td>\n",
       "      <td>Qutrian All-Star</td>\n",
       "      <td>110.0</td>\n",
       "      <td>1.769704e+13</td>\n",
       "      <td>43831</td>\n",
       "    </tr>\n",
       "    <tr>\n",
       "      <th>1</th>\n",
       "      <td>Diluc</td>\n",
       "      <td>Qutrian Force</td>\n",
       "      <td>477.0</td>\n",
       "      <td>2.679111e+14</td>\n",
       "      <td>43831</td>\n",
       "    </tr>\n",
       "    <tr>\n",
       "      <th>2</th>\n",
       "      <td>Cygen</td>\n",
       "      <td>Qutrianx</td>\n",
       "      <td>722.0</td>\n",
       "      <td>1.255434e+14</td>\n",
       "      <td>43831</td>\n",
       "    </tr>\n",
       "    <tr>\n",
       "      <th>3</th>\n",
       "      <td>Iconic Qutrian</td>\n",
       "      <td>Grids</td>\n",
       "      <td>779.0</td>\n",
       "      <td>2.887408e+14</td>\n",
       "      <td>43831</td>\n",
       "    </tr>\n",
       "    <tr>\n",
       "      <th>4</th>\n",
       "      <td>USA Qutrian</td>\n",
       "      <td>Qutrian Gold</td>\n",
       "      <td>750.0</td>\n",
       "      <td>3.522572e+14</td>\n",
       "      <td>43832</td>\n",
       "    </tr>\n",
       "  </tbody>\n",
       "</table>\n",
       "</div>"
      ],
      "text/plain": [
       "               seller             buyer  quantity         price   date\n",
       "0  Qutrian Engineered  Qutrian All-Star     110.0  1.769704e+13  43831\n",
       "1               Diluc     Qutrian Force     477.0  2.679111e+14  43831\n",
       "2               Cygen          Qutrianx     722.0  1.255434e+14  43831\n",
       "3      Iconic Qutrian             Grids     779.0  2.887408e+14  43831\n",
       "4         USA Qutrian      Qutrian Gold     750.0  3.522572e+14  43832"
      ]
     },
     "execution_count": 18,
     "metadata": {},
     "output_type": "execute_result"
    }
   ],
   "source": [
    "df.head(5)"
   ]
  },
  {
   "cell_type": "markdown",
   "metadata": {},
   "source": [
    "<h4 style=\"margin-bottom:0\">3) Cleanse Data</h4>"
   ]
  },
  {
   "cell_type": "markdown",
   "metadata": {},
   "source": [
    "Before querying, we need to be sure that our data is ready. As a hint, I will show you potential errors that you may encounter with:\n",
    "<ul>\n",
    "<li>If you have checked price and date columns above, you may see there is something wrong with them. It seems price information is written as very big numbers (probably they forgot to put a \".\" after first digit) and date seems strange, perhaps there is a way to convert this Excel format into pandas format.</li>\n",
    "<li>There may be missing values. You may want to fill out those values with meaningful numbers.</li>\n",
    "<li>In data explanations above, you may see some limitations. You may want to do something if there is something wrong with numbers in dataset.</li>"
   ]
  },
  {
   "cell_type": "markdown",
   "metadata": {},
   "source": [
    "<h5 style=\"margin-bottom:0\">i) Price & Date</h5>"
   ]
  },
  {
   "cell_type": "markdown",
   "metadata": {},
   "source": [
    "As mentioned above, price information seems strange. This is because they forgot to put a dot after first digit. Also, even if this was a correct column, there would be a huge amount of decimal points that is not necessary in our analysis. So, 3 decimal points is enough for us. After transformation, show your first 5 line to see whether price is transformed correctly.\n",
    "<br>\n",
    "\n",
    "<p><i><b>Hint: you may want to use df.apply(lambda ...)</b></i></p>"
   ]
  },
  {
   "cell_type": "code",
   "execution_count": 19,
   "metadata": {},
   "outputs": [
    {
     "data": {
      "text/html": [
       "<div>\n",
       "<style scoped>\n",
       "    .dataframe tbody tr th:only-of-type {\n",
       "        vertical-align: middle;\n",
       "    }\n",
       "\n",
       "    .dataframe tbody tr th {\n",
       "        vertical-align: top;\n",
       "    }\n",
       "\n",
       "    .dataframe thead th {\n",
       "        text-align: right;\n",
       "    }\n",
       "</style>\n",
       "<table border=\"1\" class=\"dataframe\">\n",
       "  <thead>\n",
       "    <tr style=\"text-align: right;\">\n",
       "      <th></th>\n",
       "      <th>seller</th>\n",
       "      <th>buyer</th>\n",
       "      <th>quantity</th>\n",
       "      <th>price</th>\n",
       "      <th>date</th>\n",
       "    </tr>\n",
       "  </thead>\n",
       "  <tbody>\n",
       "    <tr>\n",
       "      <th>0</th>\n",
       "      <td>Qutrian Engineered</td>\n",
       "      <td>Qutrian All-Star</td>\n",
       "      <td>110.0</td>\n",
       "      <td>1.769</td>\n",
       "      <td>43831</td>\n",
       "    </tr>\n",
       "    <tr>\n",
       "      <th>1</th>\n",
       "      <td>Diluc</td>\n",
       "      <td>Qutrian Force</td>\n",
       "      <td>477.0</td>\n",
       "      <td>2.679</td>\n",
       "      <td>43831</td>\n",
       "    </tr>\n",
       "    <tr>\n",
       "      <th>2</th>\n",
       "      <td>Cygen</td>\n",
       "      <td>Qutrianx</td>\n",
       "      <td>722.0</td>\n",
       "      <td>1.255</td>\n",
       "      <td>43831</td>\n",
       "    </tr>\n",
       "    <tr>\n",
       "      <th>3</th>\n",
       "      <td>Iconic Qutrian</td>\n",
       "      <td>Grids</td>\n",
       "      <td>779.0</td>\n",
       "      <td>2.887</td>\n",
       "      <td>43831</td>\n",
       "    </tr>\n",
       "    <tr>\n",
       "      <th>4</th>\n",
       "      <td>USA Qutrian</td>\n",
       "      <td>Qutrian Gold</td>\n",
       "      <td>750.0</td>\n",
       "      <td>3.522</td>\n",
       "      <td>43832</td>\n",
       "    </tr>\n",
       "  </tbody>\n",
       "</table>\n",
       "</div>"
      ],
      "text/plain": [
       "               seller             buyer  quantity  price   date\n",
       "0  Qutrian Engineered  Qutrian All-Star     110.0  1.769  43831\n",
       "1               Diluc     Qutrian Force     477.0  2.679  43831\n",
       "2               Cygen          Qutrianx     722.0  1.255  43831\n",
       "3      Iconic Qutrian             Grids     779.0  2.887  43831\n",
       "4         USA Qutrian      Qutrian Gold     750.0  3.522  43832"
      ]
     },
     "execution_count": 19,
     "metadata": {},
     "output_type": "execute_result"
    }
   ],
   "source": [
    "def parse_price(price):\n",
    "    if np.isnan(price):\n",
    "        return price\n",
    "    s = str(price)\n",
    "    return float(f'{s[0]}.{s[1:4]}')\n",
    "df['price']=df['price'].apply(parse_price)\n",
    "df.head(5)"
   ]
  },
  {
   "cell_type": "markdown",
   "metadata": {},
   "source": [
    "Then, you may see date information is also strange. This is due to excel date format. You are required to convert this format into ISO 8601 format (yyyy-mm-dd). After transformation, show your first 5 line to see whether date is transformed correctly.\n",
    "\n",
    "<p><i><b>Hint: xlrd library have functions for date conversions, you can find useful functions here.</b></i></p>"
   ]
  },
  {
   "cell_type": "code",
   "execution_count": 98,
   "metadata": {},
   "outputs": [
    {
     "name": "stdout",
     "output_type": "stream",
     "text": [
      "Requirement already satisfied: xlrd in /Users/bdsaglam/miniconda3/envs/di501/lib/python3.9/site-packages (2.0.1)\n"
     ]
    }
   ],
   "source": [
    "!pip install xlrd"
   ]
  },
  {
   "cell_type": "code",
   "execution_count": 20,
   "metadata": {
    "scrolled": true
   },
   "outputs": [
    {
     "data": {
      "text/html": [
       "<div>\n",
       "<style scoped>\n",
       "    .dataframe tbody tr th:only-of-type {\n",
       "        vertical-align: middle;\n",
       "    }\n",
       "\n",
       "    .dataframe tbody tr th {\n",
       "        vertical-align: top;\n",
       "    }\n",
       "\n",
       "    .dataframe thead th {\n",
       "        text-align: right;\n",
       "    }\n",
       "</style>\n",
       "<table border=\"1\" class=\"dataframe\">\n",
       "  <thead>\n",
       "    <tr style=\"text-align: right;\">\n",
       "      <th></th>\n",
       "      <th>seller</th>\n",
       "      <th>buyer</th>\n",
       "      <th>quantity</th>\n",
       "      <th>price</th>\n",
       "      <th>date</th>\n",
       "    </tr>\n",
       "  </thead>\n",
       "  <tbody>\n",
       "    <tr>\n",
       "      <th>0</th>\n",
       "      <td>Qutrian Engineered</td>\n",
       "      <td>Qutrian All-Star</td>\n",
       "      <td>110.0</td>\n",
       "      <td>1.769</td>\n",
       "      <td>2020-01-01</td>\n",
       "    </tr>\n",
       "    <tr>\n",
       "      <th>1</th>\n",
       "      <td>Diluc</td>\n",
       "      <td>Qutrian Force</td>\n",
       "      <td>477.0</td>\n",
       "      <td>2.679</td>\n",
       "      <td>2020-01-01</td>\n",
       "    </tr>\n",
       "    <tr>\n",
       "      <th>2</th>\n",
       "      <td>Cygen</td>\n",
       "      <td>Qutrianx</td>\n",
       "      <td>722.0</td>\n",
       "      <td>1.255</td>\n",
       "      <td>2020-01-01</td>\n",
       "    </tr>\n",
       "    <tr>\n",
       "      <th>3</th>\n",
       "      <td>Iconic Qutrian</td>\n",
       "      <td>Grids</td>\n",
       "      <td>779.0</td>\n",
       "      <td>2.887</td>\n",
       "      <td>2020-01-01</td>\n",
       "    </tr>\n",
       "    <tr>\n",
       "      <th>4</th>\n",
       "      <td>USA Qutrian</td>\n",
       "      <td>Qutrian Gold</td>\n",
       "      <td>750.0</td>\n",
       "      <td>3.522</td>\n",
       "      <td>2020-01-02</td>\n",
       "    </tr>\n",
       "  </tbody>\n",
       "</table>\n",
       "</div>"
      ],
      "text/plain": [
       "               seller             buyer  quantity  price       date\n",
       "0  Qutrian Engineered  Qutrian All-Star     110.0  1.769 2020-01-01\n",
       "1               Diluc     Qutrian Force     477.0  2.679 2020-01-01\n",
       "2               Cygen          Qutrianx     722.0  1.255 2020-01-01\n",
       "3      Iconic Qutrian             Grids     779.0  2.887 2020-01-01\n",
       "4         USA Qutrian      Qutrian Gold     750.0  3.522 2020-01-02"
      ]
     },
     "execution_count": 20,
     "metadata": {},
     "output_type": "execute_result"
    }
   ],
   "source": [
    "import xlrd\n",
    "\n",
    "def parse_date(xl_date):\n",
    "    dt = xlrd.xldate_as_datetime(xl_date, 0)\n",
    "    return dt.date().isoformat()\n",
    "\n",
    "df['date']=df['date'].apply(parse_date).astype('datetime64[ns]')\n",
    "df.head(5)"
   ]
  },
  {
   "cell_type": "markdown",
   "metadata": {},
   "source": [
    "<h5 style=\"margin-bottom:0\">ii) Null Values</h5>"
   ]
  },
  {
   "cell_type": "markdown",
   "metadata": {},
   "source": [
    "Now, we have converted our strange variables into meaningful ones. Now, we should deal with null values. Before dealing with values, you should have a look at rows with null values to determine what to do with them. Please show us all of the rows that have at least one null value."
   ]
  },
  {
   "cell_type": "code",
   "execution_count": 21,
   "metadata": {},
   "outputs": [
    {
     "data": {
      "text/html": [
       "<div>\n",
       "<style scoped>\n",
       "    .dataframe tbody tr th:only-of-type {\n",
       "        vertical-align: middle;\n",
       "    }\n",
       "\n",
       "    .dataframe tbody tr th {\n",
       "        vertical-align: top;\n",
       "    }\n",
       "\n",
       "    .dataframe thead th {\n",
       "        text-align: right;\n",
       "    }\n",
       "</style>\n",
       "<table border=\"1\" class=\"dataframe\">\n",
       "  <thead>\n",
       "    <tr style=\"text-align: right;\">\n",
       "      <th></th>\n",
       "      <th>seller</th>\n",
       "      <th>buyer</th>\n",
       "      <th>quantity</th>\n",
       "      <th>price</th>\n",
       "      <th>date</th>\n",
       "    </tr>\n",
       "  </thead>\n",
       "  <tbody>\n",
       "    <tr>\n",
       "      <th>490</th>\n",
       "      <td>Qutrian Trust</td>\n",
       "      <td>NaN</td>\n",
       "      <td>563.0</td>\n",
       "      <td>5.993</td>\n",
       "      <td>2020-02-28</td>\n",
       "    </tr>\n",
       "    <tr>\n",
       "      <th>793</th>\n",
       "      <td>French Qutrian</td>\n",
       "      <td>Qutrianx</td>\n",
       "      <td>3.0</td>\n",
       "      <td>NaN</td>\n",
       "      <td>2020-04-03</td>\n",
       "    </tr>\n",
       "    <tr>\n",
       "      <th>1123</th>\n",
       "      <td>Grids</td>\n",
       "      <td>USA Qutrian</td>\n",
       "      <td>NaN</td>\n",
       "      <td>1.149</td>\n",
       "      <td>2020-05-10</td>\n",
       "    </tr>\n",
       "    <tr>\n",
       "      <th>1568</th>\n",
       "      <td>Vital</td>\n",
       "      <td>Qutrianx</td>\n",
       "      <td>97.0</td>\n",
       "      <td>NaN</td>\n",
       "      <td>2020-07-02</td>\n",
       "    </tr>\n",
       "    <tr>\n",
       "      <th>1649</th>\n",
       "      <td>NaN</td>\n",
       "      <td>Diluc</td>\n",
       "      <td>670.0</td>\n",
       "      <td>2.721</td>\n",
       "      <td>2020-07-11</td>\n",
       "    </tr>\n",
       "    <tr>\n",
       "      <th>1783</th>\n",
       "      <td>Queentrian</td>\n",
       "      <td>NaN</td>\n",
       "      <td>674.0</td>\n",
       "      <td>7.218</td>\n",
       "      <td>2020-07-25</td>\n",
       "    </tr>\n",
       "    <tr>\n",
       "      <th>1925</th>\n",
       "      <td>Ca$h</td>\n",
       "      <td>Omega</td>\n",
       "      <td>577.0</td>\n",
       "      <td>NaN</td>\n",
       "      <td>2020-08-09</td>\n",
       "    </tr>\n",
       "    <tr>\n",
       "      <th>2053</th>\n",
       "      <td>Vertex</td>\n",
       "      <td>NaN</td>\n",
       "      <td>348.0</td>\n",
       "      <td>1.585</td>\n",
       "      <td>2020-08-24</td>\n",
       "    </tr>\n",
       "    <tr>\n",
       "      <th>2179</th>\n",
       "      <td>NaN</td>\n",
       "      <td>Qutrian Essence</td>\n",
       "      <td>541.0</td>\n",
       "      <td>2.776</td>\n",
       "      <td>2020-09-08</td>\n",
       "    </tr>\n",
       "    <tr>\n",
       "      <th>2318</th>\n",
       "      <td>Bliss</td>\n",
       "      <td>Qutrian Engineered</td>\n",
       "      <td>776.0</td>\n",
       "      <td>NaN</td>\n",
       "      <td>2020-09-24</td>\n",
       "    </tr>\n",
       "    <tr>\n",
       "      <th>2436</th>\n",
       "      <td>French Qutrian</td>\n",
       "      <td>NaN</td>\n",
       "      <td>443.0</td>\n",
       "      <td>6.404</td>\n",
       "      <td>2020-10-08</td>\n",
       "    </tr>\n",
       "    <tr>\n",
       "      <th>2564</th>\n",
       "      <td>NaN</td>\n",
       "      <td>Diluc</td>\n",
       "      <td>241.0</td>\n",
       "      <td>2.635</td>\n",
       "      <td>2020-10-24</td>\n",
       "    </tr>\n",
       "    <tr>\n",
       "      <th>2686</th>\n",
       "      <td>Qutrian Trust</td>\n",
       "      <td>NaN</td>\n",
       "      <td>63.0</td>\n",
       "      <td>2.399</td>\n",
       "      <td>2020-11-09</td>\n",
       "    </tr>\n",
       "    <tr>\n",
       "      <th>2936</th>\n",
       "      <td>Vertex</td>\n",
       "      <td>Qutrianx</td>\n",
       "      <td>5.0</td>\n",
       "      <td>NaN</td>\n",
       "      <td>2020-12-09</td>\n",
       "    </tr>\n",
       "    <tr>\n",
       "      <th>3126</th>\n",
       "      <td>Best Qutrian</td>\n",
       "      <td>NaN</td>\n",
       "      <td>346.0</td>\n",
       "      <td>2.465</td>\n",
       "      <td>2020-12-29</td>\n",
       "    </tr>\n",
       "  </tbody>\n",
       "</table>\n",
       "</div>"
      ],
      "text/plain": [
       "              seller               buyer  quantity  price       date\n",
       "490    Qutrian Trust                 NaN     563.0  5.993 2020-02-28\n",
       "793   French Qutrian            Qutrianx       3.0    NaN 2020-04-03\n",
       "1123           Grids         USA Qutrian       NaN  1.149 2020-05-10\n",
       "1568           Vital            Qutrianx      97.0    NaN 2020-07-02\n",
       "1649             NaN               Diluc     670.0  2.721 2020-07-11\n",
       "1783      Queentrian                 NaN     674.0  7.218 2020-07-25\n",
       "1925            Ca$h               Omega     577.0    NaN 2020-08-09\n",
       "2053          Vertex                 NaN     348.0  1.585 2020-08-24\n",
       "2179             NaN     Qutrian Essence     541.0  2.776 2020-09-08\n",
       "2318           Bliss  Qutrian Engineered     776.0    NaN 2020-09-24\n",
       "2436  French Qutrian                 NaN     443.0  6.404 2020-10-08\n",
       "2564             NaN               Diluc     241.0  2.635 2020-10-24\n",
       "2686   Qutrian Trust                 NaN      63.0  2.399 2020-11-09\n",
       "2936          Vertex            Qutrianx       5.0    NaN 2020-12-09\n",
       "3126    Best Qutrian                 NaN     346.0  2.465 2020-12-29"
      ]
     },
     "execution_count": 21,
     "metadata": {},
     "output_type": "execute_result"
    }
   ],
   "source": [
    "df[df.isna().any(axis=1)]"
   ]
  },
  {
   "cell_type": "markdown",
   "metadata": {},
   "source": [
    "Now, you can only fill null values for \"quantity\" and \"price\" as filling \"seller\" and \"buyer\" would be very misleading. You can simply use mean values of those columns to fill them out. After filling them, show the rull nows again to ensure only seller or buyer have null values."
   ]
  },
  {
   "cell_type": "code",
   "execution_count": 22,
   "metadata": {
    "scrolled": true
   },
   "outputs": [
    {
     "data": {
      "text/html": [
       "<div>\n",
       "<style scoped>\n",
       "    .dataframe tbody tr th:only-of-type {\n",
       "        vertical-align: middle;\n",
       "    }\n",
       "\n",
       "    .dataframe tbody tr th {\n",
       "        vertical-align: top;\n",
       "    }\n",
       "\n",
       "    .dataframe thead th {\n",
       "        text-align: right;\n",
       "    }\n",
       "</style>\n",
       "<table border=\"1\" class=\"dataframe\">\n",
       "  <thead>\n",
       "    <tr style=\"text-align: right;\">\n",
       "      <th></th>\n",
       "      <th>seller</th>\n",
       "      <th>buyer</th>\n",
       "      <th>quantity</th>\n",
       "      <th>price</th>\n",
       "      <th>date</th>\n",
       "    </tr>\n",
       "  </thead>\n",
       "  <tbody>\n",
       "    <tr>\n",
       "      <th>490</th>\n",
       "      <td>Qutrian Trust</td>\n",
       "      <td>NaN</td>\n",
       "      <td>563.0</td>\n",
       "      <td>5.993</td>\n",
       "      <td>2020-02-28</td>\n",
       "    </tr>\n",
       "    <tr>\n",
       "      <th>1649</th>\n",
       "      <td>NaN</td>\n",
       "      <td>Diluc</td>\n",
       "      <td>670.0</td>\n",
       "      <td>2.721</td>\n",
       "      <td>2020-07-11</td>\n",
       "    </tr>\n",
       "    <tr>\n",
       "      <th>1783</th>\n",
       "      <td>Queentrian</td>\n",
       "      <td>NaN</td>\n",
       "      <td>674.0</td>\n",
       "      <td>7.218</td>\n",
       "      <td>2020-07-25</td>\n",
       "    </tr>\n",
       "    <tr>\n",
       "      <th>2053</th>\n",
       "      <td>Vertex</td>\n",
       "      <td>NaN</td>\n",
       "      <td>348.0</td>\n",
       "      <td>1.585</td>\n",
       "      <td>2020-08-24</td>\n",
       "    </tr>\n",
       "    <tr>\n",
       "      <th>2179</th>\n",
       "      <td>NaN</td>\n",
       "      <td>Qutrian Essence</td>\n",
       "      <td>541.0</td>\n",
       "      <td>2.776</td>\n",
       "      <td>2020-09-08</td>\n",
       "    </tr>\n",
       "    <tr>\n",
       "      <th>2436</th>\n",
       "      <td>French Qutrian</td>\n",
       "      <td>NaN</td>\n",
       "      <td>443.0</td>\n",
       "      <td>6.404</td>\n",
       "      <td>2020-10-08</td>\n",
       "    </tr>\n",
       "    <tr>\n",
       "      <th>2564</th>\n",
       "      <td>NaN</td>\n",
       "      <td>Diluc</td>\n",
       "      <td>241.0</td>\n",
       "      <td>2.635</td>\n",
       "      <td>2020-10-24</td>\n",
       "    </tr>\n",
       "    <tr>\n",
       "      <th>2686</th>\n",
       "      <td>Qutrian Trust</td>\n",
       "      <td>NaN</td>\n",
       "      <td>63.0</td>\n",
       "      <td>2.399</td>\n",
       "      <td>2020-11-09</td>\n",
       "    </tr>\n",
       "    <tr>\n",
       "      <th>3126</th>\n",
       "      <td>Best Qutrian</td>\n",
       "      <td>NaN</td>\n",
       "      <td>346.0</td>\n",
       "      <td>2.465</td>\n",
       "      <td>2020-12-29</td>\n",
       "    </tr>\n",
       "  </tbody>\n",
       "</table>\n",
       "</div>"
      ],
      "text/plain": [
       "              seller            buyer  quantity  price       date\n",
       "490    Qutrian Trust              NaN     563.0  5.993 2020-02-28\n",
       "1649             NaN            Diluc     670.0  2.721 2020-07-11\n",
       "1783      Queentrian              NaN     674.0  7.218 2020-07-25\n",
       "2053          Vertex              NaN     348.0  1.585 2020-08-24\n",
       "2179             NaN  Qutrian Essence     541.0  2.776 2020-09-08\n",
       "2436  French Qutrian              NaN     443.0  6.404 2020-10-08\n",
       "2564             NaN            Diluc     241.0  2.635 2020-10-24\n",
       "2686   Qutrian Trust              NaN      63.0  2.399 2020-11-09\n",
       "3126    Best Qutrian              NaN     346.0  2.465 2020-12-29"
      ]
     },
     "execution_count": 22,
     "metadata": {},
     "output_type": "execute_result"
    }
   ],
   "source": [
    "df.fillna(df[['quantity', 'price']].mean(), inplace=True)\n",
    "df[df.isna().any(axis=1)]"
   ]
  },
  {
   "cell_type": "markdown",
   "metadata": {},
   "source": [
    "<h5 style=\"margin-bottom:0\">iii) Limitations</h5>"
   ]
  },
  {
   "cell_type": "markdown",
   "metadata": {},
   "source": [
    "Finally, to clean the data, we will need to see whether certain entries are below or above limitations. As different types of entries need a different type of corrections, we will consider them separately."
   ]
  },
  {
   "cell_type": "markdown",
   "metadata": {},
   "source": [
    "First, let's have a look at whether there is a quantity or price that is off limits. Please show all of the rows that has either off-limit quantity of price."
   ]
  },
  {
   "cell_type": "code",
   "execution_count": 23,
   "metadata": {},
   "outputs": [
    {
     "data": {
      "text/html": [
       "<div>\n",
       "<style scoped>\n",
       "    .dataframe tbody tr th:only-of-type {\n",
       "        vertical-align: middle;\n",
       "    }\n",
       "\n",
       "    .dataframe tbody tr th {\n",
       "        vertical-align: top;\n",
       "    }\n",
       "\n",
       "    .dataframe thead th {\n",
       "        text-align: right;\n",
       "    }\n",
       "</style>\n",
       "<table border=\"1\" class=\"dataframe\">\n",
       "  <thead>\n",
       "    <tr style=\"text-align: right;\">\n",
       "      <th></th>\n",
       "      <th>seller</th>\n",
       "      <th>buyer</th>\n",
       "      <th>quantity</th>\n",
       "      <th>price</th>\n",
       "      <th>date</th>\n",
       "    </tr>\n",
       "  </thead>\n",
       "  <tbody>\n",
       "    <tr>\n",
       "      <th>369</th>\n",
       "      <td>Qutrian Gold</td>\n",
       "      <td>Vista</td>\n",
       "      <td>-118.0</td>\n",
       "      <td>-0.237</td>\n",
       "      <td>2020-02-13</td>\n",
       "    </tr>\n",
       "    <tr>\n",
       "      <th>572</th>\n",
       "      <td>Alpha</td>\n",
       "      <td>Qutrianx</td>\n",
       "      <td>-300.0</td>\n",
       "      <td>2.592</td>\n",
       "      <td>2020-03-08</td>\n",
       "    </tr>\n",
       "    <tr>\n",
       "      <th>724</th>\n",
       "      <td>German Qutrian</td>\n",
       "      <td>French Qutrian</td>\n",
       "      <td>7777.0</td>\n",
       "      <td>2.925</td>\n",
       "      <td>2020-03-27</td>\n",
       "    </tr>\n",
       "    <tr>\n",
       "      <th>1911</th>\n",
       "      <td>Swedish Qutrian</td>\n",
       "      <td>Best Qutrian</td>\n",
       "      <td>1950.0</td>\n",
       "      <td>2.013</td>\n",
       "      <td>2020-08-08</td>\n",
       "    </tr>\n",
       "    <tr>\n",
       "      <th>1998</th>\n",
       "      <td>Swedish Qutrian</td>\n",
       "      <td>USA Qutrian</td>\n",
       "      <td>262.0</td>\n",
       "      <td>-0.257</td>\n",
       "      <td>2020-08-18</td>\n",
       "    </tr>\n",
       "    <tr>\n",
       "      <th>2504</th>\n",
       "      <td>Qutrian Box</td>\n",
       "      <td>Qutrianx</td>\n",
       "      <td>2231.0</td>\n",
       "      <td>2.828</td>\n",
       "      <td>2020-10-16</td>\n",
       "    </tr>\n",
       "  </tbody>\n",
       "</table>\n",
       "</div>"
      ],
      "text/plain": [
       "               seller           buyer  quantity  price       date\n",
       "369      Qutrian Gold           Vista    -118.0 -0.237 2020-02-13\n",
       "572             Alpha        Qutrianx    -300.0  2.592 2020-03-08\n",
       "724    German Qutrian  French Qutrian    7777.0  2.925 2020-03-27\n",
       "1911  Swedish Qutrian    Best Qutrian    1950.0  2.013 2020-08-08\n",
       "1998  Swedish Qutrian     USA Qutrian     262.0 -0.257 2020-08-18\n",
       "2504      Qutrian Box        Qutrianx    2231.0  2.828 2020-10-16"
      ]
     },
     "execution_count": 23,
     "metadata": {},
     "output_type": "execute_result"
    }
   ],
   "source": [
    "df[(df['price'] < 0) | (df['price'] > 10) | (df['quantity'] < 0) | (df['quantity'] > 800)]"
   ]
  },
  {
   "cell_type": "markdown",
   "metadata": {},
   "source": [
    "There are many things you can do to deal with those values. However, to practice lambda functions, you are required to do the following for quantity and price:\n",
    "<ul>\n",
    "<li>If there is a negative number, take absolute value of it (because \"minus\" sign is most probably an accident) </li>\n",
    "<li>If there is a number above the limit, simply set it to upper limit.</li>\n",
    "</ul>"
   ]
  },
  {
   "cell_type": "code",
   "execution_count": 24,
   "metadata": {
    "scrolled": false
   },
   "outputs": [
    {
     "data": {
      "text/html": [
       "<div>\n",
       "<style scoped>\n",
       "    .dataframe tbody tr th:only-of-type {\n",
       "        vertical-align: middle;\n",
       "    }\n",
       "\n",
       "    .dataframe tbody tr th {\n",
       "        vertical-align: top;\n",
       "    }\n",
       "\n",
       "    .dataframe thead th {\n",
       "        text-align: right;\n",
       "    }\n",
       "</style>\n",
       "<table border=\"1\" class=\"dataframe\">\n",
       "  <thead>\n",
       "    <tr style=\"text-align: right;\">\n",
       "      <th></th>\n",
       "      <th>seller</th>\n",
       "      <th>buyer</th>\n",
       "      <th>quantity</th>\n",
       "      <th>price</th>\n",
       "      <th>date</th>\n",
       "    </tr>\n",
       "  </thead>\n",
       "  <tbody>\n",
       "  </tbody>\n",
       "</table>\n",
       "</div>"
      ],
      "text/plain": [
       "Empty DataFrame\n",
       "Columns: [seller, buyer, quantity, price, date]\n",
       "Index: []"
      ]
     },
     "execution_count": 24,
     "metadata": {},
     "output_type": "execute_result"
    }
   ],
   "source": [
    "df[['quantity', 'price']] = df[['quantity', 'price']].apply(np.abs)\n",
    "df['price'].clip(upper=10, inplace=True)\n",
    "df['quantity'].clip(upper=800, inplace=True)\n",
    "\n",
    "df[(df['price'] < 0) | (df['price'] > 10) | (df['quantity'] < 0) | (df['quantity'] > 800)]"
   ]
  },
  {
   "cell_type": "markdown",
   "metadata": {},
   "source": [
    "Then, there can be some values for \"date\" that is not in 2020. First, you need to retrieve them. You can simply sort date value to see extreme values."
   ]
  },
  {
   "cell_type": "code",
   "execution_count": 25,
   "metadata": {},
   "outputs": [
    {
     "data": {
      "text/plain": [
       "array(['1937-12-20T00:00:00.000000000', '2020-01-01T00:00:00.000000000',\n",
       "       '2020-01-01T00:00:00.000000000', ...,\n",
       "       '2020-12-31T00:00:00.000000000', '2023-04-03T00:00:00.000000000',\n",
       "       '2058-10-16T00:00:00.000000000'], dtype='datetime64[ns]')"
      ]
     },
     "execution_count": 25,
     "metadata": {},
     "output_type": "execute_result"
    }
   ],
   "source": [
    "np.sort(df['date'].values)"
   ]
  },
  {
   "cell_type": "markdown",
   "metadata": {},
   "source": [
    "There are some dates that are not in 2020. Here, we can simply convert those values into 2020 as they are probably a mistake. After converting, show your sorted date value again to visualize there is not an extreme value anymore."
   ]
  },
  {
   "cell_type": "code",
   "execution_count": 26,
   "metadata": {},
   "outputs": [
    {
     "data": {
      "text/plain": [
       "array(['2020-01-01T00:00:00.000000000', '2020-01-01T00:00:00.000000000',\n",
       "       '2020-01-01T00:00:00.000000000', ...,\n",
       "       '2020-12-31T00:00:00.000000000', '2020-12-31T00:00:00.000000000',\n",
       "       '2020-12-31T00:00:00.000000000'], dtype='datetime64[ns]')"
      ]
     },
     "execution_count": 26,
     "metadata": {},
     "output_type": "execute_result"
    }
   ],
   "source": [
    "df['date'] = df['date'].apply(lambda dt: dt.replace(year=2020))\n",
    "np.sort(df['date'].values)"
   ]
  },
  {
   "cell_type": "markdown",
   "metadata": {},
   "source": [
    "<h4 style=\"margin-bottom:0\">4) Querying Data</h4>"
   ]
  },
  {
   "cell_type": "markdown",
   "metadata": {},
   "source": [
    "We have cleansed our data as much as we could. In this final step, you will need to query data to get useful information."
   ]
  },
  {
   "cell_type": "markdown",
   "metadata": {},
   "source": [
    "First, add a new column that shows revenue (quantity * price) and name it as \"revenue\", show first 5 columns."
   ]
  },
  {
   "cell_type": "code",
   "execution_count": 27,
   "metadata": {},
   "outputs": [
    {
     "data": {
      "text/html": [
       "<div>\n",
       "<style scoped>\n",
       "    .dataframe tbody tr th:only-of-type {\n",
       "        vertical-align: middle;\n",
       "    }\n",
       "\n",
       "    .dataframe tbody tr th {\n",
       "        vertical-align: top;\n",
       "    }\n",
       "\n",
       "    .dataframe thead th {\n",
       "        text-align: right;\n",
       "    }\n",
       "</style>\n",
       "<table border=\"1\" class=\"dataframe\">\n",
       "  <thead>\n",
       "    <tr style=\"text-align: right;\">\n",
       "      <th></th>\n",
       "      <th>seller</th>\n",
       "      <th>buyer</th>\n",
       "      <th>quantity</th>\n",
       "      <th>price</th>\n",
       "      <th>date</th>\n",
       "      <th>revenue</th>\n",
       "    </tr>\n",
       "  </thead>\n",
       "  <tbody>\n",
       "    <tr>\n",
       "      <th>0</th>\n",
       "      <td>Qutrian Engineered</td>\n",
       "      <td>Qutrian All-Star</td>\n",
       "      <td>110.0</td>\n",
       "      <td>1.769</td>\n",
       "      <td>2020-01-01</td>\n",
       "      <td>194.590</td>\n",
       "    </tr>\n",
       "    <tr>\n",
       "      <th>1</th>\n",
       "      <td>Diluc</td>\n",
       "      <td>Qutrian Force</td>\n",
       "      <td>477.0</td>\n",
       "      <td>2.679</td>\n",
       "      <td>2020-01-01</td>\n",
       "      <td>1277.883</td>\n",
       "    </tr>\n",
       "    <tr>\n",
       "      <th>2</th>\n",
       "      <td>Cygen</td>\n",
       "      <td>Qutrianx</td>\n",
       "      <td>722.0</td>\n",
       "      <td>1.255</td>\n",
       "      <td>2020-01-01</td>\n",
       "      <td>906.110</td>\n",
       "    </tr>\n",
       "    <tr>\n",
       "      <th>3</th>\n",
       "      <td>Iconic Qutrian</td>\n",
       "      <td>Grids</td>\n",
       "      <td>779.0</td>\n",
       "      <td>2.887</td>\n",
       "      <td>2020-01-01</td>\n",
       "      <td>2248.973</td>\n",
       "    </tr>\n",
       "    <tr>\n",
       "      <th>4</th>\n",
       "      <td>USA Qutrian</td>\n",
       "      <td>Qutrian Gold</td>\n",
       "      <td>750.0</td>\n",
       "      <td>3.522</td>\n",
       "      <td>2020-01-02</td>\n",
       "      <td>2641.500</td>\n",
       "    </tr>\n",
       "  </tbody>\n",
       "</table>\n",
       "</div>"
      ],
      "text/plain": [
       "               seller             buyer  quantity  price       date   revenue\n",
       "0  Qutrian Engineered  Qutrian All-Star     110.0  1.769 2020-01-01   194.590\n",
       "1               Diluc     Qutrian Force     477.0  2.679 2020-01-01  1277.883\n",
       "2               Cygen          Qutrianx     722.0  1.255 2020-01-01   906.110\n",
       "3      Iconic Qutrian             Grids     779.0  2.887 2020-01-01  2248.973\n",
       "4         USA Qutrian      Qutrian Gold     750.0  3.522 2020-01-02  2641.500"
      ]
     },
     "execution_count": 27,
     "metadata": {},
     "output_type": "execute_result"
    }
   ],
   "source": [
    "df['revenue'] = df['quantity'] * df['price']\n",
    "df.head(5)"
   ]
  },
  {
   "cell_type": "markdown",
   "metadata": {},
   "source": [
    "Also, add a new column that indicates the month that the transaction occured and name it as \"month\". This will help us later. Show first 5 columns."
   ]
  },
  {
   "cell_type": "code",
   "execution_count": 28,
   "metadata": {
    "scrolled": true
   },
   "outputs": [
    {
     "data": {
      "text/html": [
       "<div>\n",
       "<style scoped>\n",
       "    .dataframe tbody tr th:only-of-type {\n",
       "        vertical-align: middle;\n",
       "    }\n",
       "\n",
       "    .dataframe tbody tr th {\n",
       "        vertical-align: top;\n",
       "    }\n",
       "\n",
       "    .dataframe thead th {\n",
       "        text-align: right;\n",
       "    }\n",
       "</style>\n",
       "<table border=\"1\" class=\"dataframe\">\n",
       "  <thead>\n",
       "    <tr style=\"text-align: right;\">\n",
       "      <th></th>\n",
       "      <th>seller</th>\n",
       "      <th>buyer</th>\n",
       "      <th>quantity</th>\n",
       "      <th>price</th>\n",
       "      <th>date</th>\n",
       "      <th>revenue</th>\n",
       "      <th>month</th>\n",
       "    </tr>\n",
       "  </thead>\n",
       "  <tbody>\n",
       "    <tr>\n",
       "      <th>0</th>\n",
       "      <td>Qutrian Engineered</td>\n",
       "      <td>Qutrian All-Star</td>\n",
       "      <td>110.0</td>\n",
       "      <td>1.769</td>\n",
       "      <td>2020-01-01</td>\n",
       "      <td>194.590</td>\n",
       "      <td>1</td>\n",
       "    </tr>\n",
       "    <tr>\n",
       "      <th>1</th>\n",
       "      <td>Diluc</td>\n",
       "      <td>Qutrian Force</td>\n",
       "      <td>477.0</td>\n",
       "      <td>2.679</td>\n",
       "      <td>2020-01-01</td>\n",
       "      <td>1277.883</td>\n",
       "      <td>1</td>\n",
       "    </tr>\n",
       "    <tr>\n",
       "      <th>2</th>\n",
       "      <td>Cygen</td>\n",
       "      <td>Qutrianx</td>\n",
       "      <td>722.0</td>\n",
       "      <td>1.255</td>\n",
       "      <td>2020-01-01</td>\n",
       "      <td>906.110</td>\n",
       "      <td>1</td>\n",
       "    </tr>\n",
       "    <tr>\n",
       "      <th>3</th>\n",
       "      <td>Iconic Qutrian</td>\n",
       "      <td>Grids</td>\n",
       "      <td>779.0</td>\n",
       "      <td>2.887</td>\n",
       "      <td>2020-01-01</td>\n",
       "      <td>2248.973</td>\n",
       "      <td>1</td>\n",
       "    </tr>\n",
       "    <tr>\n",
       "      <th>4</th>\n",
       "      <td>USA Qutrian</td>\n",
       "      <td>Qutrian Gold</td>\n",
       "      <td>750.0</td>\n",
       "      <td>3.522</td>\n",
       "      <td>2020-01-02</td>\n",
       "      <td>2641.500</td>\n",
       "      <td>1</td>\n",
       "    </tr>\n",
       "  </tbody>\n",
       "</table>\n",
       "</div>"
      ],
      "text/plain": [
       "               seller             buyer  quantity  price       date   revenue  \\\n",
       "0  Qutrian Engineered  Qutrian All-Star     110.0  1.769 2020-01-01   194.590   \n",
       "1               Diluc     Qutrian Force     477.0  2.679 2020-01-01  1277.883   \n",
       "2               Cygen          Qutrianx     722.0  1.255 2020-01-01   906.110   \n",
       "3      Iconic Qutrian             Grids     779.0  2.887 2020-01-01  2248.973   \n",
       "4         USA Qutrian      Qutrian Gold     750.0  3.522 2020-01-02  2641.500   \n",
       "\n",
       "   month  \n",
       "0      1  \n",
       "1      1  \n",
       "2      1  \n",
       "3      1  \n",
       "4      1  "
      ]
     },
     "execution_count": 28,
     "metadata": {},
     "output_type": "execute_result"
    }
   ],
   "source": [
    "df['month'] = df['date'].apply(lambda dt: dt.month)\n",
    "df.head(5)"
   ]
  },
  {
   "cell_type": "markdown",
   "metadata": {},
   "source": [
    "Now, you are required to find how much qutrian is sold (in tons) in each month. Then, you are required to sort them by quantity in descending order and show us the top 5 months in terms of total qutrian sold.\n",
    "\n",
    "<p><i><b>Hint: you may want to use groupby function of pandas.</b></i></p>"
   ]
  },
  {
   "cell_type": "code",
   "execution_count": 29,
   "metadata": {},
   "outputs": [
    {
     "data": {
      "text/html": [
       "<div>\n",
       "<style scoped>\n",
       "    .dataframe tbody tr th:only-of-type {\n",
       "        vertical-align: middle;\n",
       "    }\n",
       "\n",
       "    .dataframe tbody tr th {\n",
       "        vertical-align: top;\n",
       "    }\n",
       "\n",
       "    .dataframe thead th {\n",
       "        text-align: right;\n",
       "    }\n",
       "</style>\n",
       "<table border=\"1\" class=\"dataframe\">\n",
       "  <thead>\n",
       "    <tr style=\"text-align: right;\">\n",
       "      <th></th>\n",
       "      <th>quantity</th>\n",
       "    </tr>\n",
       "    <tr>\n",
       "      <th>month</th>\n",
       "      <th></th>\n",
       "    </tr>\n",
       "  </thead>\n",
       "  <tbody>\n",
       "    <tr>\n",
       "      <th>5</th>\n",
       "      <td>118972.367133</td>\n",
       "    </tr>\n",
       "    <tr>\n",
       "      <th>12</th>\n",
       "      <td>116179.000000</td>\n",
       "    </tr>\n",
       "    <tr>\n",
       "      <th>7</th>\n",
       "      <td>112796.000000</td>\n",
       "    </tr>\n",
       "    <tr>\n",
       "      <th>1</th>\n",
       "      <td>107002.000000</td>\n",
       "    </tr>\n",
       "    <tr>\n",
       "      <th>9</th>\n",
       "      <td>106932.000000</td>\n",
       "    </tr>\n",
       "  </tbody>\n",
       "</table>\n",
       "</div>"
      ],
      "text/plain": [
       "            quantity\n",
       "month               \n",
       "5      118972.367133\n",
       "12     116179.000000\n",
       "7      112796.000000\n",
       "1      107002.000000\n",
       "9      106932.000000"
      ]
     },
     "execution_count": 29,
     "metadata": {},
     "output_type": "execute_result"
    }
   ],
   "source": [
    "df.groupby('month')[['quantity']].sum().sort_values(by='quantity', ascending=False).head(5)"
   ]
  },
  {
   "cell_type": "markdown",
   "metadata": {},
   "source": [
    "Now, you are required to find mean price charged by each of the companies (you can ignore quantities here, just focus on the price). Then, you are required to find 5 cheapest companies and retrieve them."
   ]
  },
  {
   "cell_type": "code",
   "execution_count": 30,
   "metadata": {},
   "outputs": [
    {
     "data": {
      "text/html": [
       "<div>\n",
       "<style scoped>\n",
       "    .dataframe tbody tr th:only-of-type {\n",
       "        vertical-align: middle;\n",
       "    }\n",
       "\n",
       "    .dataframe tbody tr th {\n",
       "        vertical-align: top;\n",
       "    }\n",
       "\n",
       "    .dataframe thead th {\n",
       "        text-align: right;\n",
       "    }\n",
       "</style>\n",
       "<table border=\"1\" class=\"dataframe\">\n",
       "  <thead>\n",
       "    <tr style=\"text-align: right;\">\n",
       "      <th></th>\n",
       "      <th>price</th>\n",
       "    </tr>\n",
       "    <tr>\n",
       "      <th>seller</th>\n",
       "      <th></th>\n",
       "    </tr>\n",
       "  </thead>\n",
       "  <tbody>\n",
       "    <tr>\n",
       "      <th>Qutrian Boss</th>\n",
       "      <td>2.436070</td>\n",
       "    </tr>\n",
       "    <tr>\n",
       "      <th>Turkish Qutrian</th>\n",
       "      <td>2.823104</td>\n",
       "    </tr>\n",
       "    <tr>\n",
       "      <th>Swedish Qutrian</th>\n",
       "      <td>2.835537</td>\n",
       "    </tr>\n",
       "    <tr>\n",
       "      <th>Qutrian All-Star</th>\n",
       "      <td>2.842206</td>\n",
       "    </tr>\n",
       "    <tr>\n",
       "      <th>Iconic Qutrian</th>\n",
       "      <td>2.884176</td>\n",
       "    </tr>\n",
       "  </tbody>\n",
       "</table>\n",
       "</div>"
      ],
      "text/plain": [
       "                     price\n",
       "seller                    \n",
       "Qutrian Boss      2.436070\n",
       "Turkish Qutrian   2.823104\n",
       "Swedish Qutrian   2.835537\n",
       "Qutrian All-Star  2.842206\n",
       "Iconic Qutrian    2.884176"
      ]
     },
     "execution_count": 30,
     "metadata": {},
     "output_type": "execute_result"
    }
   ],
   "source": [
    "df.groupby('seller')[['price']].mean().sort_values(by='price', ascending=True).head(5)"
   ]
  },
  {
   "cell_type": "markdown",
   "metadata": {},
   "source": [
    "Finally, you are required to show the two companies that has the highest total revenue traded (for simplicity, you should consider one way relationships, i.e. all revenue generated from A -> B is different from B -> A, you do not need to add them up)."
   ]
  },
  {
   "cell_type": "code",
   "execution_count": 31,
   "metadata": {},
   "outputs": [
    {
     "data": {
      "text/html": [
       "<div>\n",
       "<style scoped>\n",
       "    .dataframe tbody tr th:only-of-type {\n",
       "        vertical-align: middle;\n",
       "    }\n",
       "\n",
       "    .dataframe tbody tr th {\n",
       "        vertical-align: top;\n",
       "    }\n",
       "\n",
       "    .dataframe thead th {\n",
       "        text-align: right;\n",
       "    }\n",
       "</style>\n",
       "<table border=\"1\" class=\"dataframe\">\n",
       "  <thead>\n",
       "    <tr style=\"text-align: right;\">\n",
       "      <th></th>\n",
       "      <th>revenue</th>\n",
       "    </tr>\n",
       "    <tr>\n",
       "      <th>seller</th>\n",
       "      <th></th>\n",
       "    </tr>\n",
       "  </thead>\n",
       "  <tbody>\n",
       "    <tr>\n",
       "      <th>UK Qutrian</th>\n",
       "      <td>126910.971</td>\n",
       "    </tr>\n",
       "    <tr>\n",
       "      <th>Qutrian Box</th>\n",
       "      <td>110604.831</td>\n",
       "    </tr>\n",
       "    <tr>\n",
       "      <th>Qutrian Corp</th>\n",
       "      <td>104778.670</td>\n",
       "    </tr>\n",
       "    <tr>\n",
       "      <th>Qutrian Force</th>\n",
       "      <td>100852.487</td>\n",
       "    </tr>\n",
       "    <tr>\n",
       "      <th>Catalyst</th>\n",
       "      <td>96506.957</td>\n",
       "    </tr>\n",
       "  </tbody>\n",
       "</table>\n",
       "</div>"
      ],
      "text/plain": [
       "                  revenue\n",
       "seller                   \n",
       "UK Qutrian     126910.971\n",
       "Qutrian Box    110604.831\n",
       "Qutrian Corp   104778.670\n",
       "Qutrian Force  100852.487\n",
       "Catalyst        96506.957"
      ]
     },
     "execution_count": 31,
     "metadata": {},
     "output_type": "execute_result"
    }
   ],
   "source": [
    "df.groupby('seller')[['revenue']].sum().sort_values(by='revenue', ascending=False).head(5)"
   ]
  }
 ],
 "metadata": {
  "interpreter": {
   "hash": "874414792ebf3c5bf4b1baf4d41659eb4163dae12f53cf42f0541461b7f0268d"
  },
  "kernelspec": {
   "display_name": "Python 3.9.7 64-bit ('di501': conda)",
   "name": "python3"
  },
  "language_info": {
   "codemirror_mode": {
    "name": "ipython",
    "version": 3
   },
   "file_extension": ".py",
   "mimetype": "text/x-python",
   "name": "python",
   "nbconvert_exporter": "python",
   "pygments_lexer": "ipython3",
   "version": "3.9.7"
  }
 },
 "nbformat": 4,
 "nbformat_minor": 2
}
