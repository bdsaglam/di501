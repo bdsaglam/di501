{
 "cells": [
  {
   "cell_type": "markdown",
   "id": "6921ec9c",
   "metadata": {},
   "source": [
    "<h1 style=\"margin-bottom:0\"><center>DI 501 - Introduction to Data Informatics</center></h1>\n",
    "<h2 style=\"margin-top:0\"><center>Assignment #4</center></h2>\n",
    "<h3 style=\"margin-top:0\"><center>Due: December 26, Sunday 23:59</center></h3>\n",
    "<br>\n",
    "<p style=\"margin-top:0\"><center><b>This assignment is prepared for DI 501 - Introduction to Data Informatics course offered by  Middle East Technical University.</b></center></p>\n",
    "<hr style=\"height:2px;color:navy;margin-top:0\">\n",
    "<p style=\"margin-top:0; text-align: justify; font-size:15px\">The objectives of this assignment are:\n",
    "    <li>You will be able to use standardization and normalization. </li>\n",
    "    <li>You will be able to perform PCA.</li>\n",
    "    <li>You will be able to perform classification algorithms.</li>\n",
    "    \n",
    "### Submission and Grading Policy ###\n",
    "<p style=\"margin-top:0\"><center><b></b></center></p>\n",
    "  \n",
    "- Submit your assignments to the corresponding assignment link in https://odtuclass.metu.edu.tr.\n",
    "- Solutions should be submitted in a single **ipynb** file named: metu-username_HW_4.ipynb (e.g., “e123456_HW_4.ipynb”).\n",
    "- Late submissions will be accepted by December 29, 2021, 23:59 with a 5% per day penalty.\n",
    "- Do not change variable names in the code blocks and the texts in the markdowns.\n",
    "- **<font color=#C91414>This is an individual assignment. Please do not collaborate. You have to adhere to the academic integrity principles.</font>** \n",
    "- If needed, you are required to explain your reasonings by adding new blocks below your codes."
   ]
  },
  {
   "cell_type": "markdown",
   "id": "b4964199",
   "metadata": {},
   "source": [
    "<h3 style=\"margin-bottom:0\">Import Libraries</h4>"
   ]
  },
  {
   "cell_type": "markdown",
   "id": "9c4f8d03",
   "metadata": {},
   "source": [
    "Here, please import pyplot and seaborn libraries of Python. You may also import any other library that you intend to use here."
   ]
  },
  {
   "cell_type": "code",
   "execution_count": 1,
   "id": "608606f8",
   "metadata": {},
   "outputs": [],
   "source": [
    "### answer ###\n",
    "import pandas as pd\n",
    "import numpy as np\n",
    "\n",
    "import matplotlib.pyplot as plt\n",
    "import seaborn as sns\n",
    "\n",
    "np.random.seed(42)"
   ]
  },
  {
   "cell_type": "markdown",
   "id": "ad49e44c",
   "metadata": {},
   "source": [
    "<h3 style=\"margin-bottom:0\">1) Data (5 pts)</h3>"
   ]
  },
  {
   "cell_type": "markdown",
   "id": "2324fe2a",
   "metadata": {},
   "source": [
    "We will be utilizing a dataset that is used for classification. It is called music genre classification dataset. It consist of 16 explanatory variables and 1 target variable (class). In total it has about 18000 rows. \n",
    "\n",
    "Please import data with correct delimiter here and retrieve the first 5 rows. Then, you should drop the first two columns (artist name and track name)."
   ]
  },
  {
   "cell_type": "code",
   "execution_count": 2,
   "id": "7d8bc83c",
   "metadata": {},
   "outputs": [
    {
     "data": {
      "text/html": [
       "<div>\n",
       "<style scoped>\n",
       "    .dataframe tbody tr th:only-of-type {\n",
       "        vertical-align: middle;\n",
       "    }\n",
       "\n",
       "    .dataframe tbody tr th {\n",
       "        vertical-align: top;\n",
       "    }\n",
       "\n",
       "    .dataframe thead th {\n",
       "        text-align: right;\n",
       "    }\n",
       "</style>\n",
       "<table border=\"1\" class=\"dataframe\">\n",
       "  <thead>\n",
       "    <tr style=\"text-align: right;\">\n",
       "      <th></th>\n",
       "      <th>Artist Name</th>\n",
       "      <th>Track Name</th>\n",
       "      <th>Popularity</th>\n",
       "      <th>danceability</th>\n",
       "      <th>energy</th>\n",
       "      <th>key</th>\n",
       "      <th>loudness</th>\n",
       "      <th>mode</th>\n",
       "      <th>speechiness</th>\n",
       "      <th>acousticness</th>\n",
       "      <th>instrumentalness</th>\n",
       "      <th>liveness</th>\n",
       "      <th>valence</th>\n",
       "      <th>tempo</th>\n",
       "      <th>duration_in min/ms</th>\n",
       "      <th>time_signature</th>\n",
       "      <th>Class</th>\n",
       "    </tr>\n",
       "  </thead>\n",
       "  <tbody>\n",
       "    <tr>\n",
       "      <th>0</th>\n",
       "      <td>Bruno Mars</td>\n",
       "      <td>That's What I Like (feat. Gucci Mane)</td>\n",
       "      <td>60.0</td>\n",
       "      <td>0.854</td>\n",
       "      <td>0.564</td>\n",
       "      <td>1.0</td>\n",
       "      <td>-4.964</td>\n",
       "      <td>1</td>\n",
       "      <td>0.0485</td>\n",
       "      <td>0.017100</td>\n",
       "      <td>NaN</td>\n",
       "      <td>0.0849</td>\n",
       "      <td>0.8990</td>\n",
       "      <td>134.071</td>\n",
       "      <td>234596.0</td>\n",
       "      <td>4</td>\n",
       "      <td>5</td>\n",
       "    </tr>\n",
       "    <tr>\n",
       "      <th>1</th>\n",
       "      <td>Boston</td>\n",
       "      <td>Hitch a Ride</td>\n",
       "      <td>54.0</td>\n",
       "      <td>0.382</td>\n",
       "      <td>0.814</td>\n",
       "      <td>3.0</td>\n",
       "      <td>-7.230</td>\n",
       "      <td>1</td>\n",
       "      <td>0.0406</td>\n",
       "      <td>0.001100</td>\n",
       "      <td>0.004010</td>\n",
       "      <td>0.1010</td>\n",
       "      <td>0.5690</td>\n",
       "      <td>116.454</td>\n",
       "      <td>251733.0</td>\n",
       "      <td>4</td>\n",
       "      <td>10</td>\n",
       "    </tr>\n",
       "    <tr>\n",
       "      <th>2</th>\n",
       "      <td>The Raincoats</td>\n",
       "      <td>No Side to Fall In</td>\n",
       "      <td>35.0</td>\n",
       "      <td>0.434</td>\n",
       "      <td>0.614</td>\n",
       "      <td>6.0</td>\n",
       "      <td>-8.334</td>\n",
       "      <td>1</td>\n",
       "      <td>0.0525</td>\n",
       "      <td>0.486000</td>\n",
       "      <td>0.000196</td>\n",
       "      <td>0.3940</td>\n",
       "      <td>0.7870</td>\n",
       "      <td>147.681</td>\n",
       "      <td>109667.0</td>\n",
       "      <td>4</td>\n",
       "      <td>6</td>\n",
       "    </tr>\n",
       "    <tr>\n",
       "      <th>3</th>\n",
       "      <td>Deno</td>\n",
       "      <td>Lingo (feat. J.I &amp; Chunkz)</td>\n",
       "      <td>66.0</td>\n",
       "      <td>0.853</td>\n",
       "      <td>0.597</td>\n",
       "      <td>10.0</td>\n",
       "      <td>-6.528</td>\n",
       "      <td>0</td>\n",
       "      <td>0.0555</td>\n",
       "      <td>0.021200</td>\n",
       "      <td>NaN</td>\n",
       "      <td>0.1220</td>\n",
       "      <td>0.5690</td>\n",
       "      <td>107.033</td>\n",
       "      <td>173968.0</td>\n",
       "      <td>4</td>\n",
       "      <td>5</td>\n",
       "    </tr>\n",
       "    <tr>\n",
       "      <th>4</th>\n",
       "      <td>Red Hot Chili Peppers</td>\n",
       "      <td>Nobody Weird Like Me - Remastered</td>\n",
       "      <td>53.0</td>\n",
       "      <td>0.167</td>\n",
       "      <td>0.975</td>\n",
       "      <td>2.0</td>\n",
       "      <td>-4.279</td>\n",
       "      <td>1</td>\n",
       "      <td>0.2160</td>\n",
       "      <td>0.000169</td>\n",
       "      <td>0.016100</td>\n",
       "      <td>0.1720</td>\n",
       "      <td>0.0918</td>\n",
       "      <td>199.060</td>\n",
       "      <td>229960.0</td>\n",
       "      <td>4</td>\n",
       "      <td>10</td>\n",
       "    </tr>\n",
       "  </tbody>\n",
       "</table>\n",
       "</div>"
      ],
      "text/plain": [
       "             Artist Name                             Track Name  Popularity  \\\n",
       "0             Bruno Mars  That's What I Like (feat. Gucci Mane)        60.0   \n",
       "1                 Boston                           Hitch a Ride        54.0   \n",
       "2          The Raincoats                     No Side to Fall In        35.0   \n",
       "3                   Deno             Lingo (feat. J.I & Chunkz)        66.0   \n",
       "4  Red Hot Chili Peppers      Nobody Weird Like Me - Remastered        53.0   \n",
       "\n",
       "   danceability  energy   key  loudness  mode  speechiness  acousticness  \\\n",
       "0         0.854   0.564   1.0    -4.964     1       0.0485      0.017100   \n",
       "1         0.382   0.814   3.0    -7.230     1       0.0406      0.001100   \n",
       "2         0.434   0.614   6.0    -8.334     1       0.0525      0.486000   \n",
       "3         0.853   0.597  10.0    -6.528     0       0.0555      0.021200   \n",
       "4         0.167   0.975   2.0    -4.279     1       0.2160      0.000169   \n",
       "\n",
       "   instrumentalness  liveness  valence    tempo  duration_in min/ms  \\\n",
       "0               NaN    0.0849   0.8990  134.071            234596.0   \n",
       "1          0.004010    0.1010   0.5690  116.454            251733.0   \n",
       "2          0.000196    0.3940   0.7870  147.681            109667.0   \n",
       "3               NaN    0.1220   0.5690  107.033            173968.0   \n",
       "4          0.016100    0.1720   0.0918  199.060            229960.0   \n",
       "\n",
       "   time_signature  Class  \n",
       "0               4      5  \n",
       "1               4     10  \n",
       "2               4      6  \n",
       "3               4      5  \n",
       "4               4     10  "
      ]
     },
     "execution_count": 2,
     "metadata": {},
     "output_type": "execute_result"
    }
   ],
   "source": [
    "### answer ###\n",
    "df = pd.read_csv('./genre.csv', delimiter=',')\n",
    "df.head(5)"
   ]
  },
  {
   "cell_type": "markdown",
   "id": "e1a8252d",
   "metadata": {},
   "source": [
    "<h3 style=\"margin-bottom:0\">2) Classification</h3>"
   ]
  },
  {
   "cell_type": "markdown",
   "id": "21182a15",
   "metadata": {},
   "source": [
    "For the following use mushroom data.\n",
    "\n",
    "    a) Perform five fold cross validation. You are supposed to reserve one fold to a test dataset and the remaining is to a training and validation dataset.\n",
    "    b) Apply 3 different types of classification algorithms that we have learned and used 2 different types of parameters. Explain how you selected the parameters. You will have 6 classification models. Considering all the folds, you will have a total of 30 models.\n",
    "    c) Create a table that summarizes accuracy, recall and precision values for each of the 6 classifications. Which algorithm performs the best here? Compare their performances and comment on them.\n",
    "    \n",
    "    \n",
    "    Notes:\n",
    "    1) Please use standardization, normalization or a combination of them. Explain how you selected it.\n",
    "    2) Your graphs should be reproducible. It means whenever I run your code, I should be able to get same numbers.\n",
    "    3) Never use test dataset for model selection.\n",
    "    4) For a 5-fold cross validation, you will have 5 models belonging to the same type of model with the same parameters (->a cla. Choose the best model configuration which produced the best overall result on the validation dataset. "
   ]
  },
  {
   "cell_type": "markdown",
   "id": "458688a4",
   "metadata": {},
   "source": [
    "### Exploration"
   ]
  },
  {
   "cell_type": "markdown",
   "id": "8c131959",
   "metadata": {},
   "source": [
    "`Artist Name` and `Track Name` are text, so we won't use them to train our models."
   ]
  },
  {
   "cell_type": "code",
   "execution_count": 3,
   "id": "c70b7d54",
   "metadata": {},
   "outputs": [
    {
     "data": {
      "text/html": [
       "<div>\n",
       "<style scoped>\n",
       "    .dataframe tbody tr th:only-of-type {\n",
       "        vertical-align: middle;\n",
       "    }\n",
       "\n",
       "    .dataframe tbody tr th {\n",
       "        vertical-align: top;\n",
       "    }\n",
       "\n",
       "    .dataframe thead th {\n",
       "        text-align: right;\n",
       "    }\n",
       "</style>\n",
       "<table border=\"1\" class=\"dataframe\">\n",
       "  <thead>\n",
       "    <tr style=\"text-align: right;\">\n",
       "      <th></th>\n",
       "      <th>Popularity</th>\n",
       "      <th>danceability</th>\n",
       "      <th>energy</th>\n",
       "      <th>key</th>\n",
       "      <th>loudness</th>\n",
       "      <th>mode</th>\n",
       "      <th>speechiness</th>\n",
       "      <th>acousticness</th>\n",
       "      <th>instrumentalness</th>\n",
       "      <th>liveness</th>\n",
       "      <th>valence</th>\n",
       "      <th>tempo</th>\n",
       "      <th>duration_in min/ms</th>\n",
       "      <th>time_signature</th>\n",
       "      <th>Class</th>\n",
       "    </tr>\n",
       "  </thead>\n",
       "  <tbody>\n",
       "    <tr>\n",
       "      <th>0</th>\n",
       "      <td>60.0</td>\n",
       "      <td>0.854</td>\n",
       "      <td>0.564</td>\n",
       "      <td>1.0</td>\n",
       "      <td>-4.964</td>\n",
       "      <td>1</td>\n",
       "      <td>0.0485</td>\n",
       "      <td>0.017100</td>\n",
       "      <td>NaN</td>\n",
       "      <td>0.0849</td>\n",
       "      <td>0.8990</td>\n",
       "      <td>134.071</td>\n",
       "      <td>234596.0</td>\n",
       "      <td>4</td>\n",
       "      <td>5</td>\n",
       "    </tr>\n",
       "    <tr>\n",
       "      <th>1</th>\n",
       "      <td>54.0</td>\n",
       "      <td>0.382</td>\n",
       "      <td>0.814</td>\n",
       "      <td>3.0</td>\n",
       "      <td>-7.230</td>\n",
       "      <td>1</td>\n",
       "      <td>0.0406</td>\n",
       "      <td>0.001100</td>\n",
       "      <td>0.004010</td>\n",
       "      <td>0.1010</td>\n",
       "      <td>0.5690</td>\n",
       "      <td>116.454</td>\n",
       "      <td>251733.0</td>\n",
       "      <td>4</td>\n",
       "      <td>10</td>\n",
       "    </tr>\n",
       "    <tr>\n",
       "      <th>2</th>\n",
       "      <td>35.0</td>\n",
       "      <td>0.434</td>\n",
       "      <td>0.614</td>\n",
       "      <td>6.0</td>\n",
       "      <td>-8.334</td>\n",
       "      <td>1</td>\n",
       "      <td>0.0525</td>\n",
       "      <td>0.486000</td>\n",
       "      <td>0.000196</td>\n",
       "      <td>0.3940</td>\n",
       "      <td>0.7870</td>\n",
       "      <td>147.681</td>\n",
       "      <td>109667.0</td>\n",
       "      <td>4</td>\n",
       "      <td>6</td>\n",
       "    </tr>\n",
       "    <tr>\n",
       "      <th>3</th>\n",
       "      <td>66.0</td>\n",
       "      <td>0.853</td>\n",
       "      <td>0.597</td>\n",
       "      <td>10.0</td>\n",
       "      <td>-6.528</td>\n",
       "      <td>0</td>\n",
       "      <td>0.0555</td>\n",
       "      <td>0.021200</td>\n",
       "      <td>NaN</td>\n",
       "      <td>0.1220</td>\n",
       "      <td>0.5690</td>\n",
       "      <td>107.033</td>\n",
       "      <td>173968.0</td>\n",
       "      <td>4</td>\n",
       "      <td>5</td>\n",
       "    </tr>\n",
       "    <tr>\n",
       "      <th>4</th>\n",
       "      <td>53.0</td>\n",
       "      <td>0.167</td>\n",
       "      <td>0.975</td>\n",
       "      <td>2.0</td>\n",
       "      <td>-4.279</td>\n",
       "      <td>1</td>\n",
       "      <td>0.2160</td>\n",
       "      <td>0.000169</td>\n",
       "      <td>0.016100</td>\n",
       "      <td>0.1720</td>\n",
       "      <td>0.0918</td>\n",
       "      <td>199.060</td>\n",
       "      <td>229960.0</td>\n",
       "      <td>4</td>\n",
       "      <td>10</td>\n",
       "    </tr>\n",
       "  </tbody>\n",
       "</table>\n",
       "</div>"
      ],
      "text/plain": [
       "   Popularity  danceability  energy   key  loudness  mode  speechiness  \\\n",
       "0        60.0         0.854   0.564   1.0    -4.964     1       0.0485   \n",
       "1        54.0         0.382   0.814   3.0    -7.230     1       0.0406   \n",
       "2        35.0         0.434   0.614   6.0    -8.334     1       0.0525   \n",
       "3        66.0         0.853   0.597  10.0    -6.528     0       0.0555   \n",
       "4        53.0         0.167   0.975   2.0    -4.279     1       0.2160   \n",
       "\n",
       "   acousticness  instrumentalness  liveness  valence    tempo  \\\n",
       "0      0.017100               NaN    0.0849   0.8990  134.071   \n",
       "1      0.001100          0.004010    0.1010   0.5690  116.454   \n",
       "2      0.486000          0.000196    0.3940   0.7870  147.681   \n",
       "3      0.021200               NaN    0.1220   0.5690  107.033   \n",
       "4      0.000169          0.016100    0.1720   0.0918  199.060   \n",
       "\n",
       "   duration_in min/ms  time_signature  Class  \n",
       "0            234596.0               4      5  \n",
       "1            251733.0               4     10  \n",
       "2            109667.0               4      6  \n",
       "3            173968.0               4      5  \n",
       "4            229960.0               4     10  "
      ]
     },
     "execution_count": 3,
     "metadata": {},
     "output_type": "execute_result"
    }
   ],
   "source": [
    "df.drop(columns=['Artist Name', 'Track Name'], axis=1, inplace=True)\n",
    "df.head(5)"
   ]
  },
  {
   "cell_type": "markdown",
   "id": "72e631e4",
   "metadata": {},
   "source": [
    "The target variable is `Class` and it is a categorical variable with 11 values."
   ]
  },
  {
   "cell_type": "code",
   "execution_count": 4,
   "id": "3d104cc5",
   "metadata": {},
   "outputs": [
    {
     "data": {
      "text/plain": [
       "[0, 1, 2, 3, 4, 5, 6, 7, 8, 9, 10]"
      ]
     },
     "execution_count": 4,
     "metadata": {},
     "output_type": "execute_result"
    }
   ],
   "source": [
    "sorted(df['Class'].unique().tolist())"
   ]
  },
  {
   "cell_type": "code",
   "execution_count": 5,
   "id": "02afc9a7",
   "metadata": {},
   "outputs": [
    {
     "name": "stdout",
     "output_type": "stream",
     "text": [
      "input variables ['Popularity', 'danceability', 'energy', 'key', 'loudness', 'mode', 'speechiness', 'acousticness', 'instrumentalness', 'liveness', 'valence', 'tempo', 'duration_in min/ms', 'time_signature']\n",
      "target variable ['Class']\n"
     ]
    }
   ],
   "source": [
    "y_cols = df.columns[-1:].tolist()\n",
    "x_cols = df.columns[:-1].tolist()\n",
    "print(f'input variables {x_cols}')\n",
    "print(f'target variable {y_cols}')"
   ]
  },
  {
   "cell_type": "markdown",
   "id": "d7339dcb",
   "metadata": {},
   "source": [
    "Let's drop any row without target variable."
   ]
  },
  {
   "cell_type": "code",
   "execution_count": 6,
   "id": "12342427",
   "metadata": {},
   "outputs": [],
   "source": [
    "df.dropna(how='any', axis=0, subset=y_cols, inplace=True)"
   ]
  },
  {
   "cell_type": "markdown",
   "id": "607a1cc5",
   "metadata": {},
   "source": [
    "Let's check some useful characteristics of the variables with `describe` method of pandas. We'll also check number of unique and missing values for each variable."
   ]
  },
  {
   "cell_type": "code",
   "execution_count": 7,
   "id": "c65efd64",
   "metadata": {},
   "outputs": [],
   "source": [
    "def describe(df):\n",
    "    desc = df.describe()\n",
    "    desc.loc['n_unique', :] = df.nunique().values\n",
    "    desc.loc['n_missing', :] = df.isna().sum().values\n",
    "    return desc"
   ]
  },
  {
   "cell_type": "code",
   "execution_count": 8,
   "id": "490aa98c",
   "metadata": {},
   "outputs": [
    {
     "data": {
      "text/html": [
       "<div>\n",
       "<style scoped>\n",
       "    .dataframe tbody tr th:only-of-type {\n",
       "        vertical-align: middle;\n",
       "    }\n",
       "\n",
       "    .dataframe tbody tr th {\n",
       "        vertical-align: top;\n",
       "    }\n",
       "\n",
       "    .dataframe thead th {\n",
       "        text-align: right;\n",
       "    }\n",
       "</style>\n",
       "<table border=\"1\" class=\"dataframe\">\n",
       "  <thead>\n",
       "    <tr style=\"text-align: right;\">\n",
       "      <th></th>\n",
       "      <th>Popularity</th>\n",
       "      <th>danceability</th>\n",
       "      <th>energy</th>\n",
       "      <th>key</th>\n",
       "      <th>loudness</th>\n",
       "      <th>mode</th>\n",
       "      <th>speechiness</th>\n",
       "      <th>acousticness</th>\n",
       "      <th>instrumentalness</th>\n",
       "      <th>liveness</th>\n",
       "      <th>valence</th>\n",
       "      <th>tempo</th>\n",
       "      <th>duration_in min/ms</th>\n",
       "      <th>time_signature</th>\n",
       "      <th>Class</th>\n",
       "    </tr>\n",
       "  </thead>\n",
       "  <tbody>\n",
       "    <tr>\n",
       "      <th>count</th>\n",
       "      <td>17568.000000</td>\n",
       "      <td>17996.000000</td>\n",
       "      <td>17996.000000</td>\n",
       "      <td>15982.000000</td>\n",
       "      <td>17996.000000</td>\n",
       "      <td>17996.000000</td>\n",
       "      <td>17996.000000</td>\n",
       "      <td>17996.000000</td>\n",
       "      <td>13619.000000</td>\n",
       "      <td>17996.000000</td>\n",
       "      <td>17996.000000</td>\n",
       "      <td>17996.000000</td>\n",
       "      <td>1.799600e+04</td>\n",
       "      <td>17996.000000</td>\n",
       "      <td>17996.000000</td>\n",
       "    </tr>\n",
       "    <tr>\n",
       "      <th>mean</th>\n",
       "      <td>44.512124</td>\n",
       "      <td>0.543433</td>\n",
       "      <td>0.662777</td>\n",
       "      <td>5.952447</td>\n",
       "      <td>-7.910660</td>\n",
       "      <td>0.636753</td>\n",
       "      <td>0.079707</td>\n",
       "      <td>0.247082</td>\n",
       "      <td>0.177562</td>\n",
       "      <td>0.196170</td>\n",
       "      <td>0.486208</td>\n",
       "      <td>122.623294</td>\n",
       "      <td>2.007445e+05</td>\n",
       "      <td>3.924039</td>\n",
       "      <td>6.695821</td>\n",
       "    </tr>\n",
       "    <tr>\n",
       "      <th>std</th>\n",
       "      <td>17.426928</td>\n",
       "      <td>0.166268</td>\n",
       "      <td>0.235373</td>\n",
       "      <td>3.196854</td>\n",
       "      <td>4.049151</td>\n",
       "      <td>0.480949</td>\n",
       "      <td>0.083576</td>\n",
       "      <td>0.310632</td>\n",
       "      <td>0.304048</td>\n",
       "      <td>0.159212</td>\n",
       "      <td>0.240195</td>\n",
       "      <td>29.571527</td>\n",
       "      <td>1.119891e+05</td>\n",
       "      <td>0.361618</td>\n",
       "      <td>3.206073</td>\n",
       "    </tr>\n",
       "    <tr>\n",
       "      <th>min</th>\n",
       "      <td>1.000000</td>\n",
       "      <td>0.059600</td>\n",
       "      <td>0.000020</td>\n",
       "      <td>1.000000</td>\n",
       "      <td>-39.952000</td>\n",
       "      <td>0.000000</td>\n",
       "      <td>0.022500</td>\n",
       "      <td>0.000000</td>\n",
       "      <td>0.000001</td>\n",
       "      <td>0.011900</td>\n",
       "      <td>0.018300</td>\n",
       "      <td>30.557000</td>\n",
       "      <td>5.016500e-01</td>\n",
       "      <td>1.000000</td>\n",
       "      <td>0.000000</td>\n",
       "    </tr>\n",
       "    <tr>\n",
       "      <th>25%</th>\n",
       "      <td>33.000000</td>\n",
       "      <td>0.432000</td>\n",
       "      <td>0.509000</td>\n",
       "      <td>3.000000</td>\n",
       "      <td>-9.538000</td>\n",
       "      <td>0.000000</td>\n",
       "      <td>0.034800</td>\n",
       "      <td>0.004300</td>\n",
       "      <td>0.000089</td>\n",
       "      <td>0.097500</td>\n",
       "      <td>0.297000</td>\n",
       "      <td>99.620750</td>\n",
       "      <td>1.663370e+05</td>\n",
       "      <td>4.000000</td>\n",
       "      <td>5.000000</td>\n",
       "    </tr>\n",
       "    <tr>\n",
       "      <th>50%</th>\n",
       "      <td>44.000000</td>\n",
       "      <td>0.545000</td>\n",
       "      <td>0.700000</td>\n",
       "      <td>6.000000</td>\n",
       "      <td>-7.016000</td>\n",
       "      <td>1.000000</td>\n",
       "      <td>0.047400</td>\n",
       "      <td>0.081400</td>\n",
       "      <td>0.003910</td>\n",
       "      <td>0.129000</td>\n",
       "      <td>0.481000</td>\n",
       "      <td>120.065500</td>\n",
       "      <td>2.091600e+05</td>\n",
       "      <td>4.000000</td>\n",
       "      <td>8.000000</td>\n",
       "    </tr>\n",
       "    <tr>\n",
       "      <th>75%</th>\n",
       "      <td>56.000000</td>\n",
       "      <td>0.659000</td>\n",
       "      <td>0.860000</td>\n",
       "      <td>9.000000</td>\n",
       "      <td>-5.189000</td>\n",
       "      <td>1.000000</td>\n",
       "      <td>0.083000</td>\n",
       "      <td>0.434000</td>\n",
       "      <td>0.200000</td>\n",
       "      <td>0.258000</td>\n",
       "      <td>0.672000</td>\n",
       "      <td>141.969250</td>\n",
       "      <td>2.524900e+05</td>\n",
       "      <td>4.000000</td>\n",
       "      <td>10.000000</td>\n",
       "    </tr>\n",
       "    <tr>\n",
       "      <th>max</th>\n",
       "      <td>100.000000</td>\n",
       "      <td>0.989000</td>\n",
       "      <td>1.000000</td>\n",
       "      <td>11.000000</td>\n",
       "      <td>1.355000</td>\n",
       "      <td>1.000000</td>\n",
       "      <td>0.955000</td>\n",
       "      <td>0.996000</td>\n",
       "      <td>0.996000</td>\n",
       "      <td>1.000000</td>\n",
       "      <td>0.986000</td>\n",
       "      <td>217.416000</td>\n",
       "      <td>1.477187e+06</td>\n",
       "      <td>5.000000</td>\n",
       "      <td>10.000000</td>\n",
       "    </tr>\n",
       "    <tr>\n",
       "      <th>n_unique</th>\n",
       "      <td>100.000000</td>\n",
       "      <td>909.000000</td>\n",
       "      <td>1208.000000</td>\n",
       "      <td>11.000000</td>\n",
       "      <td>9002.000000</td>\n",
       "      <td>2.000000</td>\n",
       "      <td>1194.000000</td>\n",
       "      <td>3930.000000</td>\n",
       "      <td>4253.000000</td>\n",
       "      <td>1459.000000</td>\n",
       "      <td>1320.000000</td>\n",
       "      <td>13562.000000</td>\n",
       "      <td>1.412100e+04</td>\n",
       "      <td>4.000000</td>\n",
       "      <td>11.000000</td>\n",
       "    </tr>\n",
       "    <tr>\n",
       "      <th>n_missing</th>\n",
       "      <td>428.000000</td>\n",
       "      <td>0.000000</td>\n",
       "      <td>0.000000</td>\n",
       "      <td>2014.000000</td>\n",
       "      <td>0.000000</td>\n",
       "      <td>0.000000</td>\n",
       "      <td>0.000000</td>\n",
       "      <td>0.000000</td>\n",
       "      <td>4377.000000</td>\n",
       "      <td>0.000000</td>\n",
       "      <td>0.000000</td>\n",
       "      <td>0.000000</td>\n",
       "      <td>0.000000e+00</td>\n",
       "      <td>0.000000</td>\n",
       "      <td>0.000000</td>\n",
       "    </tr>\n",
       "  </tbody>\n",
       "</table>\n",
       "</div>"
      ],
      "text/plain": [
       "             Popularity  danceability        energy           key  \\\n",
       "count      17568.000000  17996.000000  17996.000000  15982.000000   \n",
       "mean          44.512124      0.543433      0.662777      5.952447   \n",
       "std           17.426928      0.166268      0.235373      3.196854   \n",
       "min            1.000000      0.059600      0.000020      1.000000   \n",
       "25%           33.000000      0.432000      0.509000      3.000000   \n",
       "50%           44.000000      0.545000      0.700000      6.000000   \n",
       "75%           56.000000      0.659000      0.860000      9.000000   \n",
       "max          100.000000      0.989000      1.000000     11.000000   \n",
       "n_unique     100.000000    909.000000   1208.000000     11.000000   \n",
       "n_missing    428.000000      0.000000      0.000000   2014.000000   \n",
       "\n",
       "               loudness          mode   speechiness  acousticness  \\\n",
       "count      17996.000000  17996.000000  17996.000000  17996.000000   \n",
       "mean          -7.910660      0.636753      0.079707      0.247082   \n",
       "std            4.049151      0.480949      0.083576      0.310632   \n",
       "min          -39.952000      0.000000      0.022500      0.000000   \n",
       "25%           -9.538000      0.000000      0.034800      0.004300   \n",
       "50%           -7.016000      1.000000      0.047400      0.081400   \n",
       "75%           -5.189000      1.000000      0.083000      0.434000   \n",
       "max            1.355000      1.000000      0.955000      0.996000   \n",
       "n_unique    9002.000000      2.000000   1194.000000   3930.000000   \n",
       "n_missing      0.000000      0.000000      0.000000      0.000000   \n",
       "\n",
       "           instrumentalness      liveness       valence         tempo  \\\n",
       "count          13619.000000  17996.000000  17996.000000  17996.000000   \n",
       "mean               0.177562      0.196170      0.486208    122.623294   \n",
       "std                0.304048      0.159212      0.240195     29.571527   \n",
       "min                0.000001      0.011900      0.018300     30.557000   \n",
       "25%                0.000089      0.097500      0.297000     99.620750   \n",
       "50%                0.003910      0.129000      0.481000    120.065500   \n",
       "75%                0.200000      0.258000      0.672000    141.969250   \n",
       "max                0.996000      1.000000      0.986000    217.416000   \n",
       "n_unique        4253.000000   1459.000000   1320.000000  13562.000000   \n",
       "n_missing       4377.000000      0.000000      0.000000      0.000000   \n",
       "\n",
       "           duration_in min/ms  time_signature         Class  \n",
       "count            1.799600e+04    17996.000000  17996.000000  \n",
       "mean             2.007445e+05        3.924039      6.695821  \n",
       "std              1.119891e+05        0.361618      3.206073  \n",
       "min              5.016500e-01        1.000000      0.000000  \n",
       "25%              1.663370e+05        4.000000      5.000000  \n",
       "50%              2.091600e+05        4.000000      8.000000  \n",
       "75%              2.524900e+05        4.000000     10.000000  \n",
       "max              1.477187e+06        5.000000     10.000000  \n",
       "n_unique         1.412100e+04        4.000000     11.000000  \n",
       "n_missing        0.000000e+00        0.000000      0.000000  "
      ]
     },
     "execution_count": 8,
     "metadata": {},
     "output_type": "execute_result"
    }
   ],
   "source": [
    "describe(df)"
   ]
  },
  {
   "cell_type": "markdown",
   "id": "951b56fa",
   "metadata": {},
   "source": [
    "From the table above, we can assume that `key`, `mode`, and `time_signature` are categorical variables since they have very few unique values compared to the size of the dataset. `Popularity` is a discretized variable."
   ]
  },
  {
   "cell_type": "code",
   "execution_count": 9,
   "id": "a2ada87f",
   "metadata": {},
   "outputs": [
    {
     "name": "stdout",
     "output_type": "stream",
     "text": [
      "Categorical variables: ['key', 'mode', 'time_signature']\n",
      "Numerical variables: ['acousticness', 'liveness', 'energy', 'instrumentalness', 'valence', 'tempo', 'loudness', 'Popularity', 'duration_in min/ms', 'speechiness', 'danceability']\n"
     ]
    }
   ],
   "source": [
    "categs = ['key', 'mode', 'time_signature'] \n",
    "numericals = list(set(df[x_cols].columns).difference(categs))\n",
    "print(f'Categorical variables: {categs}')\n",
    "print(f'Numerical variables: {numericals}')"
   ]
  },
  {
   "cell_type": "markdown",
   "id": "ec99aa53",
   "metadata": {},
   "source": [
    "Let's plot histograms of categorical and numerical variables."
   ]
  },
  {
   "cell_type": "code",
   "execution_count": 10,
   "id": "7c449896",
   "metadata": {},
   "outputs": [
    {
     "data": {
      "image/png": "[encoded data removed]",
      "text/plain": [
       "<Figure size 2304x2304 with 4 Axes>"
      ]
     },
     "metadata": {
      "needs_background": "light"
     },
     "output_type": "display_data"
    }
   ],
   "source": [
    "df[categs].hist(figsize=(32, 32));\n",
    "plt.show();"
   ]
  },
  {
   "cell_type": "code",
   "execution_count": 11,
   "id": "9d450f4e",
   "metadata": {},
   "outputs": [
    {
     "data": {
      "image/png": "[encoded data removed]",
      "text/plain": [
       "<Figure size 2304x2304 with 12 Axes>"
      ]
     },
     "metadata": {
      "needs_background": "light"
     },
     "output_type": "display_data"
    }
   ],
   "source": [
    "df[numericals].hist(figsize=(32, 32));\n",
    "plt.show();"
   ]
  },
  {
   "cell_type": "markdown",
   "id": "9d1139ac",
   "metadata": {},
   "source": [
    "`Popularity`, `danceability`, `valence`, and `tempo` have roughly symmetrical distributions. \n",
    "Whereas, `loudness`, `acousticness`, `speechiness`, `liveness`, `tempo`, `duration_in min/ms`, `instrumentalness`, and `energy` variables have skewed distributions."
   ]
  },
  {
   "cell_type": "code",
   "execution_count": 12,
   "id": "cc487945",
   "metadata": {},
   "outputs": [
    {
     "data": {
      "image/png": "[encoded data removed]",
      "text/plain": [
       "<Figure size 432x432 with 1 Axes>"
      ]
     },
     "metadata": {
      "needs_background": "light"
     },
     "output_type": "display_data"
    }
   ],
   "source": [
    "df[y_cols].hist(figsize=(6, 6));\n",
    "plt.show();"
   ]
  },
  {
   "cell_type": "markdown",
   "id": "3da7986a",
   "metadata": {},
   "source": [
    "The target variable's distribution is skewed, in other words, our dataset is imbalanced."
   ]
  },
  {
   "cell_type": "markdown",
   "id": "4f1213b4",
   "metadata": {},
   "source": [
    "### Missing values"
   ]
  },
  {
   "cell_type": "markdown",
   "id": "d8534acd",
   "metadata": {},
   "source": [
    "Let's see which variables has missing values and how many."
   ]
  },
  {
   "cell_type": "code",
   "execution_count": 13,
   "id": "5de488eb",
   "metadata": {},
   "outputs": [
    {
     "data": {
      "text/plain": [
       "Popularity           428\n",
       "key                 2014\n",
       "instrumentalness    4377\n",
       "dtype: int64"
      ]
     },
     "execution_count": 13,
     "metadata": {},
     "output_type": "execute_result"
    }
   ],
   "source": [
    "missing_counts = df.isna().sum()\n",
    "missings = missing_counts[df.columns[missing_counts > 0]]\n",
    "vars_w_missing = missings.index.values\n",
    "missings"
   ]
  },
  {
   "cell_type": "markdown",
   "id": "8e08733a",
   "metadata": {},
   "source": [
    "None of them are categorical variables. We'll fill missing values with mean of variable."
   ]
  },
  {
   "cell_type": "code",
   "execution_count": 14,
   "id": "c6473f6e",
   "metadata": {},
   "outputs": [],
   "source": [
    "df[vars_w_missing] = df[vars_w_missing].fillna(df[vars_w_missing].mean(axis=0))"
   ]
  },
  {
   "cell_type": "markdown",
   "id": "49e34f3e",
   "metadata": {},
   "source": [
    "Let's verify there is no missing cell left."
   ]
  },
  {
   "cell_type": "code",
   "execution_count": 15,
   "id": "81cf499d",
   "metadata": {},
   "outputs": [
    {
     "data": {
      "text/plain": [
       "True"
      ]
     },
     "execution_count": 15,
     "metadata": {},
     "output_type": "execute_result"
    }
   ],
   "source": [
    "(df.isna().sum() == 0).all()"
   ]
  },
  {
   "cell_type": "markdown",
   "id": "06809437",
   "metadata": {},
   "source": [
    "Let's adjust `dtype`s of variables."
   ]
  },
  {
   "cell_type": "code",
   "execution_count": 16,
   "id": "cb591881",
   "metadata": {},
   "outputs": [
    {
     "data": {
      "text/plain": [
       "Popularity             float64\n",
       "danceability           float64\n",
       "energy                 float64\n",
       "key                   category\n",
       "loudness               float64\n",
       "mode                  category\n",
       "speechiness            float64\n",
       "acousticness           float64\n",
       "instrumentalness       float64\n",
       "liveness               float64\n",
       "valence                float64\n",
       "tempo                  float64\n",
       "duration_in min/ms     float64\n",
       "time_signature        category\n",
       "Class                 category\n",
       "dtype: object"
      ]
     },
     "execution_count": 16,
     "metadata": {},
     "output_type": "execute_result"
    }
   ],
   "source": [
    "df = df.astype(float)\n",
    "df[categs] = df[categs].astype(int).astype(\"category\")\n",
    "df[y_cols] = df[y_cols].astype(int).astype(\"category\")\n",
    "df.dtypes"
   ]
  },
  {
   "cell_type": "markdown",
   "id": "2336e3ab",
   "metadata": {},
   "source": [
    "### Train-Test Split"
   ]
  },
  {
   "cell_type": "markdown",
   "id": "1e56217c",
   "metadata": {},
   "source": [
    "We'll create a stratified train-test split since our dataset is imbalanced. We'll split 20% of the dataset as test set."
   ]
  },
  {
   "cell_type": "code",
   "execution_count": 17,
   "id": "6e5e7f7d",
   "metadata": {},
   "outputs": [],
   "source": [
    "from sklearn.model_selection import train_test_split\n",
    "\n",
    "x_train, x_test, y_train, y_test = train_test_split(\n",
    "    df[x_cols], df[y_cols], \n",
    "    test_size=0.2, \n",
    "    stratify=df[y_cols].values.ravel(), \n",
    "    random_state=42\n",
    ")"
   ]
  },
  {
   "cell_type": "markdown",
   "id": "33d8e304",
   "metadata": {},
   "source": [
    "### Normalization, Standardization"
   ]
  },
  {
   "cell_type": "markdown",
   "id": "0027350b",
   "metadata": {},
   "source": [
    "We'll standardize the num. variables with symmetrical distributions and min-max normalize the ones with skewed distributions."
   ]
  },
  {
   "cell_type": "code",
   "execution_count": 18,
   "id": "e8e2918c",
   "metadata": {},
   "outputs": [],
   "source": [
    "from sklearn.preprocessing import MinMaxScaler\n",
    "from sklearn.preprocessing import StandardScaler"
   ]
  },
  {
   "cell_type": "code",
   "execution_count": 19,
   "id": "98dfefd6",
   "metadata": {},
   "outputs": [],
   "source": [
    "sym_cols = ['Popularity', 'danceability', 'valence', 'tempo']\n",
    "skewed_cols = [ 'loudness', 'acousticness', 'speechiness', 'liveness', 'tempo', 'duration_in min/ms', 'instrumentalness', 'energy']"
   ]
  },
  {
   "cell_type": "code",
   "execution_count": 20,
   "id": "5d73bb4f",
   "metadata": {},
   "outputs": [],
   "source": [
    "x_train_proc = x_train.copy()\n",
    "x_test_proc = x_test.copy()"
   ]
  },
  {
   "cell_type": "code",
   "execution_count": 21,
   "id": "df073eeb",
   "metadata": {},
   "outputs": [],
   "source": [
    "standardize = StandardScaler()\n",
    "x_train_proc.loc[:, sym_cols] = standardize.fit_transform(x_train.loc[:, sym_cols])\n",
    "x_test_proc.loc[:, sym_cols] = standardize.transform(x_test.loc[:, sym_cols])"
   ]
  },
  {
   "cell_type": "code",
   "execution_count": 22,
   "id": "524f5575",
   "metadata": {},
   "outputs": [],
   "source": [
    "normalizer = MinMaxScaler()\n",
    "x_train_proc.loc[:, skewed_cols] = normalizer.fit_transform(x_train.loc[:, skewed_cols])\n",
    "x_test_proc.loc[:, skewed_cols] = normalizer.transform(x_test.loc[:, skewed_cols])"
   ]
  },
  {
   "cell_type": "code",
   "execution_count": 23,
   "id": "020a3327",
   "metadata": {},
   "outputs": [
    {
     "data": {
      "image/png": "[encoded data removed]",
      "text/plain": [
       "<Figure size 2304x2304 with 12 Axes>"
      ]
     },
     "metadata": {
      "needs_background": "light"
     },
     "output_type": "display_data"
    }
   ],
   "source": [
    "x_train_proc.hist(figsize=(32, 32));\n",
    "plt.show();"
   ]
  },
  {
   "cell_type": "code",
   "execution_count": 24,
   "id": "5c80f0b9",
   "metadata": {},
   "outputs": [
    {
     "data": {
      "image/png": "[encoded data removed]",
      "text/plain": [
       "<Figure size 2304x2304 with 12 Axes>"
      ]
     },
     "metadata": {
      "needs_background": "light"
     },
     "output_type": "display_data"
    }
   ],
   "source": [
    "x_test_proc.hist(figsize=(32, 32));\n",
    "plt.show();"
   ]
  },
  {
   "cell_type": "markdown",
   "id": "e2a2e7b2",
   "metadata": {},
   "source": [
    "### Encoding categorical variables"
   ]
  },
  {
   "cell_type": "markdown",
   "id": "aa471d05",
   "metadata": {},
   "source": [
    "We'll one-hot encode categorical input variables."
   ]
  },
  {
   "cell_type": "code",
   "execution_count": 25,
   "id": "412fe6b8",
   "metadata": {},
   "outputs": [
    {
     "data": {
      "text/html": [
       "<div>\n",
       "<style scoped>\n",
       "    .dataframe tbody tr th:only-of-type {\n",
       "        vertical-align: middle;\n",
       "    }\n",
       "\n",
       "    .dataframe tbody tr th {\n",
       "        vertical-align: top;\n",
       "    }\n",
       "\n",
       "    .dataframe thead th {\n",
       "        text-align: right;\n",
       "    }\n",
       "</style>\n",
       "<table border=\"1\" class=\"dataframe\">\n",
       "  <thead>\n",
       "    <tr style=\"text-align: right;\">\n",
       "      <th></th>\n",
       "      <th>Popularity</th>\n",
       "      <th>danceability</th>\n",
       "      <th>energy</th>\n",
       "      <th>loudness</th>\n",
       "      <th>speechiness</th>\n",
       "      <th>acousticness</th>\n",
       "      <th>instrumentalness</th>\n",
       "      <th>liveness</th>\n",
       "      <th>valence</th>\n",
       "      <th>tempo</th>\n",
       "      <th>duration_in min/ms</th>\n",
       "    </tr>\n",
       "  </thead>\n",
       "  <tbody>\n",
       "    <tr>\n",
       "      <th>count</th>\n",
       "      <td>1.439600e+04</td>\n",
       "      <td>1.439600e+04</td>\n",
       "      <td>14396.000000</td>\n",
       "      <td>14396.000000</td>\n",
       "      <td>14396.000000</td>\n",
       "      <td>14396.000000</td>\n",
       "      <td>14396.000000</td>\n",
       "      <td>14396.000000</td>\n",
       "      <td>1.439600e+04</td>\n",
       "      <td>14396.000000</td>\n",
       "      <td>14396.000000</td>\n",
       "    </tr>\n",
       "    <tr>\n",
       "      <th>mean</th>\n",
       "      <td>5.607027e-17</td>\n",
       "      <td>2.751650e-17</td>\n",
       "      <td>0.662236</td>\n",
       "      <td>0.775722</td>\n",
       "      <td>0.061037</td>\n",
       "      <td>0.248499</td>\n",
       "      <td>0.176717</td>\n",
       "      <td>0.186852</td>\n",
       "      <td>-9.868306e-17</td>\n",
       "      <td>0.493366</td>\n",
       "      <td>0.135602</td>\n",
       "    </tr>\n",
       "    <tr>\n",
       "      <th>std</th>\n",
       "      <td>1.000035e+00</td>\n",
       "      <td>1.000035e+00</td>\n",
       "      <td>0.235318</td>\n",
       "      <td>0.097654</td>\n",
       "      <td>0.089503</td>\n",
       "      <td>0.311814</td>\n",
       "      <td>0.264480</td>\n",
       "      <td>0.162507</td>\n",
       "      <td>1.000035e+00</td>\n",
       "      <td>0.158587</td>\n",
       "      <td>0.075607</td>\n",
       "    </tr>\n",
       "    <tr>\n",
       "      <th>min</th>\n",
       "      <td>-2.526934e+00</td>\n",
       "      <td>-2.908886e+00</td>\n",
       "      <td>0.000000</td>\n",
       "      <td>0.000000</td>\n",
       "      <td>0.000000</td>\n",
       "      <td>0.000000</td>\n",
       "      <td>0.000000</td>\n",
       "      <td>0.000000</td>\n",
       "      <td>-1.952971e+00</td>\n",
       "      <td>0.000000</td>\n",
       "      <td>0.000000</td>\n",
       "    </tr>\n",
       "    <tr>\n",
       "      <th>25%</th>\n",
       "      <td>-6.713977e-01</td>\n",
       "      <td>-6.692304e-01</td>\n",
       "      <td>0.507990</td>\n",
       "      <td>0.736794</td>\n",
       "      <td>0.013083</td>\n",
       "      <td>0.004297</td>\n",
       "      <td>0.000294</td>\n",
       "      <td>0.085650</td>\n",
       "      <td>-7.880894e-01</td>\n",
       "      <td>0.369978</td>\n",
       "      <td>0.112375</td>\n",
       "    </tr>\n",
       "    <tr>\n",
       "      <th>50%</th>\n",
       "      <td>-3.355695e-02</td>\n",
       "      <td>1.637860e-02</td>\n",
       "      <td>0.698994</td>\n",
       "      <td>0.796984</td>\n",
       "      <td>0.026702</td>\n",
       "      <td>0.082631</td>\n",
       "      <td>0.047740</td>\n",
       "      <td>0.117948</td>\n",
       "      <td>-2.177444e-02</td>\n",
       "      <td>0.479736</td>\n",
       "      <td>0.141490</td>\n",
       "    </tr>\n",
       "    <tr>\n",
       "      <th>75%</th>\n",
       "      <td>6.622693e-01</td>\n",
       "      <td>6.959735e-01</td>\n",
       "      <td>0.860997</td>\n",
       "      <td>0.841607</td>\n",
       "      <td>0.064236</td>\n",
       "      <td>0.433735</td>\n",
       "      <td>0.178274</td>\n",
       "      <td>0.250818</td>\n",
       "      <td>7.736938e-01</td>\n",
       "      <td>0.596462</td>\n",
       "      <td>0.170777</td>\n",
       "    </tr>\n",
       "    <tr>\n",
       "      <th>max</th>\n",
       "      <td>3.155647e+00</td>\n",
       "      <td>2.638532e+00</td>\n",
       "      <td>1.000000</td>\n",
       "      <td>1.000000</td>\n",
       "      <td>1.000000</td>\n",
       "      <td>1.000000</td>\n",
       "      <td>1.000000</td>\n",
       "      <td>1.000000</td>\n",
       "      <td>2.060603e+00</td>\n",
       "      <td>1.000000</td>\n",
       "      <td>1.000000</td>\n",
       "    </tr>\n",
       "  </tbody>\n",
       "</table>\n",
       "</div>"
      ],
      "text/plain": [
       "         Popularity  danceability        energy      loudness   speechiness  \\\n",
       "count  1.439600e+04  1.439600e+04  14396.000000  14396.000000  14396.000000   \n",
       "mean   5.607027e-17  2.751650e-17      0.662236      0.775722      0.061037   \n",
       "std    1.000035e+00  1.000035e+00      0.235318      0.097654      0.089503   \n",
       "min   -2.526934e+00 -2.908886e+00      0.000000      0.000000      0.000000   \n",
       "25%   -6.713977e-01 -6.692304e-01      0.507990      0.736794      0.013083   \n",
       "50%   -3.355695e-02  1.637860e-02      0.698994      0.796984      0.026702   \n",
       "75%    6.622693e-01  6.959735e-01      0.860997      0.841607      0.064236   \n",
       "max    3.155647e+00  2.638532e+00      1.000000      1.000000      1.000000   \n",
       "\n",
       "       acousticness  instrumentalness      liveness       valence  \\\n",
       "count  14396.000000      14396.000000  14396.000000  1.439600e+04   \n",
       "mean       0.248499          0.176717      0.186852 -9.868306e-17   \n",
       "std        0.311814          0.264480      0.162507  1.000035e+00   \n",
       "min        0.000000          0.000000      0.000000 -1.952971e+00   \n",
       "25%        0.004297          0.000294      0.085650 -7.880894e-01   \n",
       "50%        0.082631          0.047740      0.117948 -2.177444e-02   \n",
       "75%        0.433735          0.178274      0.250818  7.736938e-01   \n",
       "max        1.000000          1.000000      1.000000  2.060603e+00   \n",
       "\n",
       "              tempo  duration_in min/ms  \n",
       "count  14396.000000        14396.000000  \n",
       "mean       0.493366            0.135602  \n",
       "std        0.158587            0.075607  \n",
       "min        0.000000            0.000000  \n",
       "25%        0.369978            0.112375  \n",
       "50%        0.479736            0.141490  \n",
       "75%        0.596462            0.170777  \n",
       "max        1.000000            1.000000  "
      ]
     },
     "execution_count": 25,
     "metadata": {},
     "output_type": "execute_result"
    }
   ],
   "source": [
    "x_train_proc.describe()"
   ]
  },
  {
   "cell_type": "code",
   "execution_count": 26,
   "id": "15de00c8",
   "metadata": {},
   "outputs": [],
   "source": [
    "x_train_enc = pd.get_dummies(x_train_proc)\n",
    "x_test_enc = pd.get_dummies(x_test_proc)"
   ]
  },
  {
   "cell_type": "markdown",
   "id": "253e9b07",
   "metadata": {},
   "source": [
    "### Train & Evaluate"
   ]
  },
  {
   "cell_type": "markdown",
   "id": "ca7c74be",
   "metadata": {},
   "source": [
    "We'll train \n",
    "\n",
    "- DecisionTreeClassifier with min number of samples at leaves [3, 10]\n",
    "- KNeighborsClassifier with number of neighbors [5, 10]\n",
    "- LogisticRegression with inverse regularization strength `C` [1, 1.5]\n",
    " \n",
    "with 5 fold cross validation. Then, we'll compare `precision`, `recall` and `accuracy` scores.\n",
    "    "
   ]
  },
  {
   "cell_type": "markdown",
   "id": "b2ffab81",
   "metadata": {},
   "source": [
    "We'll use `GridSearchCV` from `scikit-learn` library to train our model with 5-fold cross validation and different hyper parameters."
   ]
  },
  {
   "cell_type": "code",
   "execution_count": 27,
   "id": "84ac47ba",
   "metadata": {},
   "outputs": [],
   "source": [
    "from sklearn.model_selection import GridSearchCV\n",
    "from sklearn.metrics import make_scorer\n",
    "from sklearn.metrics import accuracy_score, precision_score, recall_score\n",
    "\n",
    "def make_searcher(estimator, param_grid, cv=5, score_averaging = 'weighted', seed=42):\n",
    "    return GridSearchCV(\n",
    "        estimator = estimator, \n",
    "        param_grid = param_grid,\n",
    "        scoring = {\n",
    "            'precision': make_scorer(precision_score, average=score_averaging), \n",
    "            'recall': make_scorer(recall_score, average=score_averaging),\n",
    "            'accuracy': 'accuracy'\n",
    "        }, \n",
    "        refit = 'accuracy',\n",
    "        cv = cv, # number of folds for cross validation\n",
    "        verbose=0, \n",
    "        n_jobs = -1\n",
    "    )"
   ]
  },
  {
   "cell_type": "code",
   "execution_count": 28,
   "id": "f082b289",
   "metadata": {},
   "outputs": [],
   "source": [
    "import json\n",
    "\n",
    "def fmt_search_results(search):\n",
    "    sdf = pd.DataFrame(search.cv_results_)\n",
    "    cols2keep = [col for col in sdf.columns if col=='params' or col.startswith('split')]\n",
    "    sdf = sdf[cols2keep]\n",
    "    sdf.columns = pd.MultiIndex.from_tuples([(np.nan, col) if col=='params' else (col[:6], col[12:]) for col in sdf.columns])\n",
    "    sdf = (sdf.stack(0)\n",
    "       .ffill()\n",
    "       .reset_index()\n",
    "       .drop(columns=['level_0'])\n",
    "       .dropna(how='any', axis=0)\n",
    "       .rename(columns={\"level_1\": \"split\"})\n",
    "      )\n",
    "    \n",
    "    sdf['estimator'] = search.estimator.__class__.__name__\n",
    "    return sdf[['estimator', 'params', 'split', 'accuracy', 'precision', 'recall']]"
   ]
  },
  {
   "cell_type": "code",
   "execution_count": 29,
   "id": "4cac2724",
   "metadata": {},
   "outputs": [
    {
     "name": "stderr",
     "output_type": "stream",
     "text": [
      "/Users/bdsaglam/miniconda3/envs/di501/lib/python3.9/site-packages/sklearn/metrics/_classification.py:1308: UndefinedMetricWarning: Precision is ill-defined and being set to 0.0 in labels with no predicted samples. Use `zero_division` parameter to control this behavior.\n",
      "  _warn_prf(average, modifier, msg_start, len(result))\n",
      "/Users/bdsaglam/miniconda3/envs/di501/lib/python3.9/site-packages/sklearn/metrics/_classification.py:1308: UndefinedMetricWarning: Precision is ill-defined and being set to 0.0 in labels with no predicted samples. Use `zero_division` parameter to control this behavior.\n",
      "  _warn_prf(average, modifier, msg_start, len(result))\n",
      "/Users/bdsaglam/miniconda3/envs/di501/lib/python3.9/site-packages/sklearn/metrics/_classification.py:1308: UndefinedMetricWarning: Precision is ill-defined and being set to 0.0 in labels with no predicted samples. Use `zero_division` parameter to control this behavior.\n",
      "  _warn_prf(average, modifier, msg_start, len(result))\n",
      "/Users/bdsaglam/miniconda3/envs/di501/lib/python3.9/site-packages/sklearn/metrics/_classification.py:1308: UndefinedMetricWarning: Precision is ill-defined and being set to 0.0 in labels with no predicted samples. Use `zero_division` parameter to control this behavior.\n",
      "  _warn_prf(average, modifier, msg_start, len(result))\n",
      "/Users/bdsaglam/miniconda3/envs/di501/lib/python3.9/site-packages/sklearn/metrics/_classification.py:1308: UndefinedMetricWarning: Precision is ill-defined and being set to 0.0 in labels with no predicted samples. Use `zero_division` parameter to control this behavior.\n",
      "  _warn_prf(average, modifier, msg_start, len(result))\n",
      "/Users/bdsaglam/miniconda3/envs/di501/lib/python3.9/site-packages/sklearn/metrics/_classification.py:1308: UndefinedMetricWarning: Precision is ill-defined and being set to 0.0 in labels with no predicted samples. Use `zero_division` parameter to control this behavior.\n",
      "  _warn_prf(average, modifier, msg_start, len(result))\n",
      "/Users/bdsaglam/miniconda3/envs/di501/lib/python3.9/site-packages/sklearn/metrics/_classification.py:1308: UndefinedMetricWarning: Precision is ill-defined and being set to 0.0 in labels with no predicted samples. Use `zero_division` parameter to control this behavior.\n",
      "  _warn_prf(average, modifier, msg_start, len(result))\n",
      "/Users/bdsaglam/miniconda3/envs/di501/lib/python3.9/site-packages/sklearn/metrics/_classification.py:1308: UndefinedMetricWarning: Precision is ill-defined and being set to 0.0 in labels with no predicted samples. Use `zero_division` parameter to control this behavior.\n",
      "  _warn_prf(average, modifier, msg_start, len(result))\n",
      "/Users/bdsaglam/miniconda3/envs/di501/lib/python3.9/site-packages/sklearn/metrics/_classification.py:1308: UndefinedMetricWarning: Precision is ill-defined and being set to 0.0 in labels with no predicted samples. Use `zero_division` parameter to control this behavior.\n",
      "  _warn_prf(average, modifier, msg_start, len(result))\n",
      "/Users/bdsaglam/miniconda3/envs/di501/lib/python3.9/site-packages/sklearn/metrics/_classification.py:1308: UndefinedMetricWarning: Precision is ill-defined and being set to 0.0 in labels with no predicted samples. Use `zero_division` parameter to control this behavior.\n",
      "  _warn_prf(average, modifier, msg_start, len(result))\n"
     ]
    }
   ],
   "source": [
    "from sklearn.neighbors import KNeighborsClassifier\n",
    "from sklearn.tree import DecisionTreeClassifier\n",
    "from sklearn.linear_model import LogisticRegression\n",
    "\n",
    "model_param_grids = [\n",
    "    (DecisionTreeClassifier(), dict(min_samples_leaf = [3, 10])),\n",
    "    (KNeighborsClassifier(), dict(n_neighbors = [5, 10])),\n",
    "    (LogisticRegression(max_iter=1000), dict(C=[1, 1.5]))\n",
    "]\n",
    "\n",
    "sdf = pd.concat([\n",
    "    fmt_search_results(make_searcher(estim, pg).fit(x_train_enc, y_train.values.ravel())) \n",
    "    for (estim, pg) in model_param_grids\n",
    "])"
   ]
  },
  {
   "cell_type": "code",
   "execution_count": 30,
   "id": "06f4c4ba",
   "metadata": {
    "scrolled": false
   },
   "outputs": [
    {
     "data": {
      "text/html": [
       "<div>\n",
       "<style scoped>\n",
       "    .dataframe tbody tr th:only-of-type {\n",
       "        vertical-align: middle;\n",
       "    }\n",
       "\n",
       "    .dataframe tbody tr th {\n",
       "        vertical-align: top;\n",
       "    }\n",
       "\n",
       "    .dataframe thead th {\n",
       "        text-align: right;\n",
       "    }\n",
       "</style>\n",
       "<table border=\"1\" class=\"dataframe\">\n",
       "  <thead>\n",
       "    <tr style=\"text-align: right;\">\n",
       "      <th></th>\n",
       "      <th>estimator</th>\n",
       "      <th>params</th>\n",
       "      <th>split</th>\n",
       "      <th>accuracy</th>\n",
       "      <th>precision</th>\n",
       "      <th>recall</th>\n",
       "    </tr>\n",
       "  </thead>\n",
       "  <tbody>\n",
       "    <tr>\n",
       "      <th>11</th>\n",
       "      <td>LogisticRegression</td>\n",
       "      <td>{'C': 1.5}</td>\n",
       "      <td>split4</td>\n",
       "      <td>0.486627</td>\n",
       "      <td>0.456088</td>\n",
       "      <td>0.486627</td>\n",
       "    </tr>\n",
       "    <tr>\n",
       "      <th>9</th>\n",
       "      <td>LogisticRegression</td>\n",
       "      <td>{'C': 1.5}</td>\n",
       "      <td>split2</td>\n",
       "      <td>0.485933</td>\n",
       "      <td>0.453468</td>\n",
       "      <td>0.485933</td>\n",
       "    </tr>\n",
       "    <tr>\n",
       "      <th>5</th>\n",
       "      <td>LogisticRegression</td>\n",
       "      <td>{'C': 1}</td>\n",
       "      <td>split4</td>\n",
       "      <td>0.485933</td>\n",
       "      <td>0.454998</td>\n",
       "      <td>0.485933</td>\n",
       "    </tr>\n",
       "    <tr>\n",
       "      <th>10</th>\n",
       "      <td>LogisticRegression</td>\n",
       "      <td>{'C': 1.5}</td>\n",
       "      <td>split3</td>\n",
       "      <td>0.485238</td>\n",
       "      <td>0.449026</td>\n",
       "      <td>0.485238</td>\n",
       "    </tr>\n",
       "    <tr>\n",
       "      <th>7</th>\n",
       "      <td>LogisticRegression</td>\n",
       "      <td>{'C': 1.5}</td>\n",
       "      <td>split0</td>\n",
       "      <td>0.484028</td>\n",
       "      <td>0.451209</td>\n",
       "      <td>0.484028</td>\n",
       "    </tr>\n",
       "    <tr>\n",
       "      <th>4</th>\n",
       "      <td>LogisticRegression</td>\n",
       "      <td>{'C': 1}</td>\n",
       "      <td>split3</td>\n",
       "      <td>0.482459</td>\n",
       "      <td>0.448118</td>\n",
       "      <td>0.482459</td>\n",
       "    </tr>\n",
       "    <tr>\n",
       "      <th>1</th>\n",
       "      <td>LogisticRegression</td>\n",
       "      <td>{'C': 1}</td>\n",
       "      <td>split0</td>\n",
       "      <td>0.479861</td>\n",
       "      <td>0.448046</td>\n",
       "      <td>0.479861</td>\n",
       "    </tr>\n",
       "    <tr>\n",
       "      <th>3</th>\n",
       "      <td>LogisticRegression</td>\n",
       "      <td>{'C': 1}</td>\n",
       "      <td>split2</td>\n",
       "      <td>0.479680</td>\n",
       "      <td>0.447287</td>\n",
       "      <td>0.479680</td>\n",
       "    </tr>\n",
       "    <tr>\n",
       "      <th>8</th>\n",
       "      <td>LogisticRegression</td>\n",
       "      <td>{'C': 1.5}</td>\n",
       "      <td>split1</td>\n",
       "      <td>0.476902</td>\n",
       "      <td>0.450427</td>\n",
       "      <td>0.476902</td>\n",
       "    </tr>\n",
       "    <tr>\n",
       "      <th>2</th>\n",
       "      <td>LogisticRegression</td>\n",
       "      <td>{'C': 1}</td>\n",
       "      <td>split1</td>\n",
       "      <td>0.474470</td>\n",
       "      <td>0.447224</td>\n",
       "      <td>0.474470</td>\n",
       "    </tr>\n",
       "    <tr>\n",
       "      <th>8</th>\n",
       "      <td>DecisionTreeClassifier</td>\n",
       "      <td>{'min_samples_leaf': 10}</td>\n",
       "      <td>split1</td>\n",
       "      <td>0.443209</td>\n",
       "      <td>0.436743</td>\n",
       "      <td>0.443209</td>\n",
       "    </tr>\n",
       "    <tr>\n",
       "      <th>9</th>\n",
       "      <td>DecisionTreeClassifier</td>\n",
       "      <td>{'min_samples_leaf': 10}</td>\n",
       "      <td>split2</td>\n",
       "      <td>0.439736</td>\n",
       "      <td>0.433217</td>\n",
       "      <td>0.439736</td>\n",
       "    </tr>\n",
       "    <tr>\n",
       "      <th>10</th>\n",
       "      <td>DecisionTreeClassifier</td>\n",
       "      <td>{'min_samples_leaf': 10}</td>\n",
       "      <td>split3</td>\n",
       "      <td>0.439736</td>\n",
       "      <td>0.429835</td>\n",
       "      <td>0.439736</td>\n",
       "    </tr>\n",
       "    <tr>\n",
       "      <th>7</th>\n",
       "      <td>DecisionTreeClassifier</td>\n",
       "      <td>{'min_samples_leaf': 10}</td>\n",
       "      <td>split0</td>\n",
       "      <td>0.434028</td>\n",
       "      <td>0.425164</td>\n",
       "      <td>0.434028</td>\n",
       "    </tr>\n",
       "    <tr>\n",
       "      <th>11</th>\n",
       "      <td>DecisionTreeClassifier</td>\n",
       "      <td>{'min_samples_leaf': 10}</td>\n",
       "      <td>split4</td>\n",
       "      <td>0.426884</td>\n",
       "      <td>0.413913</td>\n",
       "      <td>0.426884</td>\n",
       "    </tr>\n",
       "    <tr>\n",
       "      <th>2</th>\n",
       "      <td>DecisionTreeClassifier</td>\n",
       "      <td>{'min_samples_leaf': 3}</td>\n",
       "      <td>split1</td>\n",
       "      <td>0.387982</td>\n",
       "      <td>0.391171</td>\n",
       "      <td>0.387982</td>\n",
       "    </tr>\n",
       "    <tr>\n",
       "      <th>1</th>\n",
       "      <td>DecisionTreeClassifier</td>\n",
       "      <td>{'min_samples_leaf': 3}</td>\n",
       "      <td>split0</td>\n",
       "      <td>0.387847</td>\n",
       "      <td>0.399251</td>\n",
       "      <td>0.387847</td>\n",
       "    </tr>\n",
       "    <tr>\n",
       "      <th>3</th>\n",
       "      <td>DecisionTreeClassifier</td>\n",
       "      <td>{'min_samples_leaf': 3}</td>\n",
       "      <td>split2</td>\n",
       "      <td>0.384509</td>\n",
       "      <td>0.391451</td>\n",
       "      <td>0.384509</td>\n",
       "    </tr>\n",
       "    <tr>\n",
       "      <th>4</th>\n",
       "      <td>DecisionTreeClassifier</td>\n",
       "      <td>{'min_samples_leaf': 3}</td>\n",
       "      <td>split3</td>\n",
       "      <td>0.381382</td>\n",
       "      <td>0.392804</td>\n",
       "      <td>0.381382</td>\n",
       "    </tr>\n",
       "    <tr>\n",
       "      <th>5</th>\n",
       "      <td>DecisionTreeClassifier</td>\n",
       "      <td>{'min_samples_leaf': 3}</td>\n",
       "      <td>split4</td>\n",
       "      <td>0.377909</td>\n",
       "      <td>0.382703</td>\n",
       "      <td>0.377909</td>\n",
       "    </tr>\n",
       "    <tr>\n",
       "      <th>9</th>\n",
       "      <td>KNeighborsClassifier</td>\n",
       "      <td>{'n_neighbors': 10}</td>\n",
       "      <td>split2</td>\n",
       "      <td>0.358458</td>\n",
       "      <td>0.338567</td>\n",
       "      <td>0.358458</td>\n",
       "    </tr>\n",
       "    <tr>\n",
       "      <th>11</th>\n",
       "      <td>KNeighborsClassifier</td>\n",
       "      <td>{'n_neighbors': 10}</td>\n",
       "      <td>split4</td>\n",
       "      <td>0.349427</td>\n",
       "      <td>0.332017</td>\n",
       "      <td>0.349427</td>\n",
       "    </tr>\n",
       "    <tr>\n",
       "      <th>7</th>\n",
       "      <td>KNeighborsClassifier</td>\n",
       "      <td>{'n_neighbors': 10}</td>\n",
       "      <td>split0</td>\n",
       "      <td>0.340972</td>\n",
       "      <td>0.325210</td>\n",
       "      <td>0.340972</td>\n",
       "    </tr>\n",
       "    <tr>\n",
       "      <th>8</th>\n",
       "      <td>KNeighborsClassifier</td>\n",
       "      <td>{'n_neighbors': 10}</td>\n",
       "      <td>split1</td>\n",
       "      <td>0.336575</td>\n",
       "      <td>0.320509</td>\n",
       "      <td>0.336575</td>\n",
       "    </tr>\n",
       "    <tr>\n",
       "      <th>10</th>\n",
       "      <td>KNeighborsClassifier</td>\n",
       "      <td>{'n_neighbors': 10}</td>\n",
       "      <td>split3</td>\n",
       "      <td>0.334491</td>\n",
       "      <td>0.317508</td>\n",
       "      <td>0.334491</td>\n",
       "    </tr>\n",
       "    <tr>\n",
       "      <th>1</th>\n",
       "      <td>KNeighborsClassifier</td>\n",
       "      <td>{'n_neighbors': 5}</td>\n",
       "      <td>split0</td>\n",
       "      <td>0.310069</td>\n",
       "      <td>0.311420</td>\n",
       "      <td>0.310069</td>\n",
       "    </tr>\n",
       "    <tr>\n",
       "      <th>4</th>\n",
       "      <td>KNeighborsClassifier</td>\n",
       "      <td>{'n_neighbors': 5}</td>\n",
       "      <td>split3</td>\n",
       "      <td>0.309830</td>\n",
       "      <td>0.310489</td>\n",
       "      <td>0.309830</td>\n",
       "    </tr>\n",
       "    <tr>\n",
       "      <th>3</th>\n",
       "      <td>KNeighborsClassifier</td>\n",
       "      <td>{'n_neighbors': 5}</td>\n",
       "      <td>split2</td>\n",
       "      <td>0.307746</td>\n",
       "      <td>0.304873</td>\n",
       "      <td>0.307746</td>\n",
       "    </tr>\n",
       "    <tr>\n",
       "      <th>2</th>\n",
       "      <td>KNeighborsClassifier</td>\n",
       "      <td>{'n_neighbors': 5}</td>\n",
       "      <td>split1</td>\n",
       "      <td>0.306704</td>\n",
       "      <td>0.304765</td>\n",
       "      <td>0.306704</td>\n",
       "    </tr>\n",
       "    <tr>\n",
       "      <th>5</th>\n",
       "      <td>KNeighborsClassifier</td>\n",
       "      <td>{'n_neighbors': 5}</td>\n",
       "      <td>split4</td>\n",
       "      <td>0.300799</td>\n",
       "      <td>0.302375</td>\n",
       "      <td>0.300799</td>\n",
       "    </tr>\n",
       "  </tbody>\n",
       "</table>\n",
       "</div>"
      ],
      "text/plain": [
       "                 estimator                    params   split  accuracy  \\\n",
       "11      LogisticRegression                {'C': 1.5}  split4  0.486627   \n",
       "9       LogisticRegression                {'C': 1.5}  split2  0.485933   \n",
       "5       LogisticRegression                  {'C': 1}  split4  0.485933   \n",
       "10      LogisticRegression                {'C': 1.5}  split3  0.485238   \n",
       "7       LogisticRegression                {'C': 1.5}  split0  0.484028   \n",
       "4       LogisticRegression                  {'C': 1}  split3  0.482459   \n",
       "1       LogisticRegression                  {'C': 1}  split0  0.479861   \n",
       "3       LogisticRegression                  {'C': 1}  split2  0.479680   \n",
       "8       LogisticRegression                {'C': 1.5}  split1  0.476902   \n",
       "2       LogisticRegression                  {'C': 1}  split1  0.474470   \n",
       "8   DecisionTreeClassifier  {'min_samples_leaf': 10}  split1  0.443209   \n",
       "9   DecisionTreeClassifier  {'min_samples_leaf': 10}  split2  0.439736   \n",
       "10  DecisionTreeClassifier  {'min_samples_leaf': 10}  split3  0.439736   \n",
       "7   DecisionTreeClassifier  {'min_samples_leaf': 10}  split0  0.434028   \n",
       "11  DecisionTreeClassifier  {'min_samples_leaf': 10}  split4  0.426884   \n",
       "2   DecisionTreeClassifier   {'min_samples_leaf': 3}  split1  0.387982   \n",
       "1   DecisionTreeClassifier   {'min_samples_leaf': 3}  split0  0.387847   \n",
       "3   DecisionTreeClassifier   {'min_samples_leaf': 3}  split2  0.384509   \n",
       "4   DecisionTreeClassifier   {'min_samples_leaf': 3}  split3  0.381382   \n",
       "5   DecisionTreeClassifier   {'min_samples_leaf': 3}  split4  0.377909   \n",
       "9     KNeighborsClassifier       {'n_neighbors': 10}  split2  0.358458   \n",
       "11    KNeighborsClassifier       {'n_neighbors': 10}  split4  0.349427   \n",
       "7     KNeighborsClassifier       {'n_neighbors': 10}  split0  0.340972   \n",
       "8     KNeighborsClassifier       {'n_neighbors': 10}  split1  0.336575   \n",
       "10    KNeighborsClassifier       {'n_neighbors': 10}  split3  0.334491   \n",
       "1     KNeighborsClassifier        {'n_neighbors': 5}  split0  0.310069   \n",
       "4     KNeighborsClassifier        {'n_neighbors': 5}  split3  0.309830   \n",
       "3     KNeighborsClassifier        {'n_neighbors': 5}  split2  0.307746   \n",
       "2     KNeighborsClassifier        {'n_neighbors': 5}  split1  0.306704   \n",
       "5     KNeighborsClassifier        {'n_neighbors': 5}  split4  0.300799   \n",
       "\n",
       "    precision    recall  \n",
       "11   0.456088  0.486627  \n",
       "9    0.453468  0.485933  \n",
       "5    0.454998  0.485933  \n",
       "10   0.449026  0.485238  \n",
       "7    0.451209  0.484028  \n",
       "4    0.448118  0.482459  \n",
       "1    0.448046  0.479861  \n",
       "3    0.447287  0.479680  \n",
       "8    0.450427  0.476902  \n",
       "2    0.447224  0.474470  \n",
       "8    0.436743  0.443209  \n",
       "9    0.433217  0.439736  \n",
       "10   0.429835  0.439736  \n",
       "7    0.425164  0.434028  \n",
       "11   0.413913  0.426884  \n",
       "2    0.391171  0.387982  \n",
       "1    0.399251  0.387847  \n",
       "3    0.391451  0.384509  \n",
       "4    0.392804  0.381382  \n",
       "5    0.382703  0.377909  \n",
       "9    0.338567  0.358458  \n",
       "11   0.332017  0.349427  \n",
       "7    0.325210  0.340972  \n",
       "8    0.320509  0.336575  \n",
       "10   0.317508  0.334491  \n",
       "1    0.311420  0.310069  \n",
       "4    0.310489  0.309830  \n",
       "3    0.304873  0.307746  \n",
       "2    0.304765  0.306704  \n",
       "5    0.302375  0.300799  "
      ]
     },
     "execution_count": 30,
     "metadata": {},
     "output_type": "execute_result"
    }
   ],
   "source": [
    "sdf.sort_values(by='accuracy', ascending=False)"
   ]
  },
  {
   "cell_type": "markdown",
   "id": "94721f24",
   "metadata": {},
   "source": [
    "As it can be seen from the table above, `LogisticRegression` with `C=1.5` performs best. Let's check the average of scores over splits."
   ]
  },
  {
   "cell_type": "code",
   "execution_count": 31,
   "id": "fcfffa36",
   "metadata": {},
   "outputs": [],
   "source": [
    "def average_over_splits(sdf):\n",
    "    return (sdf.assign(params=lambda x: x['params'].apply(str))\n",
    "            .groupby(['estimator', 'params'])\n",
    "            .agg(np.mean)\n",
    "            .sort_values(by='accuracy', ascending=False))"
   ]
  },
  {
   "cell_type": "code",
   "execution_count": 32,
   "id": "52c1c252",
   "metadata": {},
   "outputs": [
    {
     "data": {
      "text/html": [
       "<div>\n",
       "<style scoped>\n",
       "    .dataframe tbody tr th:only-of-type {\n",
       "        vertical-align: middle;\n",
       "    }\n",
       "\n",
       "    .dataframe tbody tr th {\n",
       "        vertical-align: top;\n",
       "    }\n",
       "\n",
       "    .dataframe thead th {\n",
       "        text-align: right;\n",
       "    }\n",
       "</style>\n",
       "<table border=\"1\" class=\"dataframe\">\n",
       "  <thead>\n",
       "    <tr style=\"text-align: right;\">\n",
       "      <th></th>\n",
       "      <th></th>\n",
       "      <th>accuracy</th>\n",
       "      <th>precision</th>\n",
       "      <th>recall</th>\n",
       "    </tr>\n",
       "    <tr>\n",
       "      <th>estimator</th>\n",
       "      <th>params</th>\n",
       "      <th></th>\n",
       "      <th></th>\n",
       "      <th></th>\n",
       "    </tr>\n",
       "  </thead>\n",
       "  <tbody>\n",
       "    <tr>\n",
       "      <th rowspan=\"2\" valign=\"top\">LogisticRegression</th>\n",
       "      <th>{'C': 1.5}</th>\n",
       "      <td>0.483745</td>\n",
       "      <td>0.452044</td>\n",
       "      <td>0.483745</td>\n",
       "    </tr>\n",
       "    <tr>\n",
       "      <th>{'C': 1}</th>\n",
       "      <td>0.480481</td>\n",
       "      <td>0.449135</td>\n",
       "      <td>0.480481</td>\n",
       "    </tr>\n",
       "    <tr>\n",
       "      <th rowspan=\"2\" valign=\"top\">DecisionTreeClassifier</th>\n",
       "      <th>{'min_samples_leaf': 10}</th>\n",
       "      <td>0.436719</td>\n",
       "      <td>0.427774</td>\n",
       "      <td>0.436719</td>\n",
       "    </tr>\n",
       "    <tr>\n",
       "      <th>{'min_samples_leaf': 3}</th>\n",
       "      <td>0.383926</td>\n",
       "      <td>0.391476</td>\n",
       "      <td>0.383926</td>\n",
       "    </tr>\n",
       "    <tr>\n",
       "      <th rowspan=\"2\" valign=\"top\">KNeighborsClassifier</th>\n",
       "      <th>{'n_neighbors': 10}</th>\n",
       "      <td>0.343985</td>\n",
       "      <td>0.326762</td>\n",
       "      <td>0.343985</td>\n",
       "    </tr>\n",
       "    <tr>\n",
       "      <th>{'n_neighbors': 5}</th>\n",
       "      <td>0.307030</td>\n",
       "      <td>0.306784</td>\n",
       "      <td>0.307030</td>\n",
       "    </tr>\n",
       "  </tbody>\n",
       "</table>\n",
       "</div>"
      ],
      "text/plain": [
       "                                                 accuracy  precision    recall\n",
       "estimator              params                                                 \n",
       "LogisticRegression     {'C': 1.5}                0.483745   0.452044  0.483745\n",
       "                       {'C': 1}                  0.480481   0.449135  0.480481\n",
       "DecisionTreeClassifier {'min_samples_leaf': 10}  0.436719   0.427774  0.436719\n",
       "                       {'min_samples_leaf': 3}   0.383926   0.391476  0.383926\n",
       "KNeighborsClassifier   {'n_neighbors': 10}       0.343985   0.326762  0.343985\n",
       "                       {'n_neighbors': 5}        0.307030   0.306784  0.307030"
      ]
     },
     "execution_count": 32,
     "metadata": {},
     "output_type": "execute_result"
    }
   ],
   "source": [
    "average_over_splits(sdf)"
   ]
  },
  {
   "cell_type": "code",
   "execution_count": 33,
   "id": "e0f15966",
   "metadata": {},
   "outputs": [
    {
     "data": {
      "text/plain": [
       "LogisticRegression(C=1.5, max_iter=1000)"
      ]
     },
     "execution_count": 33,
     "metadata": {},
     "output_type": "execute_result"
    }
   ],
   "source": [
    "m = LogisticRegression(C=1.5, max_iter=1000)\n",
    "m.fit(x_train_enc.values, y_train.values.ravel())"
   ]
  },
  {
   "cell_type": "code",
   "execution_count": 34,
   "id": "98aa2d8a",
   "metadata": {},
   "outputs": [
    {
     "data": {
      "image/png": "[encoded data removed]",
      "text/plain": [
       "<Figure size 864x864 with 2 Axes>"
      ]
     },
     "metadata": {
      "needs_background": "light"
     },
     "output_type": "display_data"
    },
    {
     "name": "stdout",
     "output_type": "stream",
     "text": [
      "              precision    recall  f1-score   support\n",
      "\n",
      "           0       0.60      0.66      0.63       125\n",
      "           1       0.00      0.00      0.00       275\n",
      "           2       0.46      0.36      0.40       254\n",
      "           3       0.78      0.68      0.72        80\n",
      "           4       0.54      0.48      0.51        77\n",
      "           5       0.65      0.65      0.65       290\n",
      "           6       0.38      0.18      0.24       518\n",
      "           7       0.77      0.86      0.81       115\n",
      "           8       0.52      0.52      0.52       371\n",
      "           9       0.42      0.46      0.44       505\n",
      "          10       0.44      0.69      0.54       990\n",
      "\n",
      "    accuracy                           0.49      3600\n",
      "   macro avg       0.51      0.50      0.50      3600\n",
      "weighted avg       0.45      0.49      0.45      3600\n",
      "\n"
     ]
    },
    {
     "name": "stderr",
     "output_type": "stream",
     "text": [
      "/Users/bdsaglam/miniconda3/envs/di501/lib/python3.9/site-packages/sklearn/metrics/_classification.py:1308: UndefinedMetricWarning: Precision and F-score are ill-defined and being set to 0.0 in labels with no predicted samples. Use `zero_division` parameter to control this behavior.\n",
      "  _warn_prf(average, modifier, msg_start, len(result))\n",
      "/Users/bdsaglam/miniconda3/envs/di501/lib/python3.9/site-packages/sklearn/metrics/_classification.py:1308: UndefinedMetricWarning: Precision and F-score are ill-defined and being set to 0.0 in labels with no predicted samples. Use `zero_division` parameter to control this behavior.\n",
      "  _warn_prf(average, modifier, msg_start, len(result))\n",
      "/Users/bdsaglam/miniconda3/envs/di501/lib/python3.9/site-packages/sklearn/metrics/_classification.py:1308: UndefinedMetricWarning: Precision and F-score are ill-defined and being set to 0.0 in labels with no predicted samples. Use `zero_division` parameter to control this behavior.\n",
      "  _warn_prf(average, modifier, msg_start, len(result))\n"
     ]
    }
   ],
   "source": [
    "from sklearn.metrics import confusion_matrix, ConfusionMatrixDisplay, classification_report\n",
    "y_pred = m.predict(x_test_enc.values)\n",
    "cm = confusion_matrix(y_test.values.ravel(), y_pred, labels=m.classes_)\n",
    "disp = ConfusionMatrixDisplay(confusion_matrix=cm, display_labels=m.classes_)\n",
    "fig, ax = plt.subplots(figsize=(12,12))\n",
    "disp.plot(ax=ax)\n",
    "plt.show()\n",
    "print(classification_report(y_test, y_pred))"
   ]
  },
  {
   "cell_type": "markdown",
   "id": "28d5b1f5",
   "metadata": {},
   "source": [
    "<h3 style=\"margin-bottom:0\">3) PCA</h3>"
   ]
  },
  {
   "cell_type": "markdown",
   "id": "dccd3bc9",
   "metadata": {},
   "source": [
    "For the following use mushroom data.\n",
    "\n",
    "    a) Apply PCA to feature columns (x1..x40) and find the principal components.\n",
    "    b) Plot explained variance ratios for the principal components.\n",
    "    c) Determine the most appropriate number of principal components to represent the features in a lower dimensional space while preserving as much information as possible.\n",
    "    d) Apply the two best performing algorithms above on the new dataset that is created by PCA. Did your algorithm's accuracy improve? Comment."
   ]
  },
  {
   "cell_type": "markdown",
   "id": "93d405ea",
   "metadata": {},
   "source": [
    "Let's apply PCA over numerical variables."
   ]
  },
  {
   "cell_type": "code",
   "execution_count": 35,
   "id": "65e42fd7",
   "metadata": {},
   "outputs": [],
   "source": [
    "from sklearn.decomposition import PCA\n",
    "\n",
    "pca = PCA()\n",
    "x_train_nums_pca = pca.fit_transform(x_train_proc[numericals].values)"
   ]
  },
  {
   "cell_type": "code",
   "execution_count": 36,
   "id": "b03032d4",
   "metadata": {},
   "outputs": [
    {
     "data": {
      "image/png": "[encoded data removed]",
      "text/plain": [
       "<Figure size 1152x576 with 1 Axes>"
      ]
     },
     "metadata": {
      "needs_background": "light"
     },
     "output_type": "display_data"
    }
   ],
   "source": [
    "icomps = range(1, x_train_nums_pca.shape[-1]+1)\n",
    "vrs = pca.explained_variance_ratio_\n",
    "\n",
    "plt.figure(figsize=(16, 8))\n",
    "plt.bar(icomps, vrs)\n",
    "plt.xticks(icomps)\n",
    "for icomp, vr in zip(icomps, vrs):\n",
    "    plt.annotate(f'{vr:.1%}', xy=(icomp, vr), ha='center', va='bottom')"
   ]
  },
  {
   "cell_type": "code",
   "execution_count": 37,
   "id": "131e2b1c",
   "metadata": {},
   "outputs": [
    {
     "data": {
      "image/png": "[encoded data removed]",
      "text/plain": [
       "<Figure size 1152x576 with 1 Axes>"
      ]
     },
     "metadata": {
      "needs_background": "light"
     },
     "output_type": "display_data"
    }
   ],
   "source": [
    "cvrs = np.cumsum(vrs)\n",
    "\n",
    "plt.figure(figsize=(16, 8))\n",
    "plt.plot(icomps, cvrs)\n",
    "plt.xticks(icomps)\n",
    "for icomp, vr in zip(icomps, cvrs):\n",
    "    plt.annotate(f'{vr:.1%}', xy=(icomp-0.2, vr+0.005), ha='center', va='bottom')"
   ]
  },
  {
   "cell_type": "markdown",
   "id": "0f551126",
   "metadata": {},
   "source": [
    "4 components covers ~95.6% of variance in the training set, hence, we'll keep those."
   ]
  },
  {
   "cell_type": "code",
   "execution_count": 38,
   "id": "326ec762",
   "metadata": {},
   "outputs": [],
   "source": [
    "k = 4"
   ]
  },
  {
   "cell_type": "code",
   "execution_count": 39,
   "id": "540427b5",
   "metadata": {},
   "outputs": [],
   "source": [
    "x_train_after_pca_reduction = np.hstack([x_train_nums_pca[:, :k], pd.get_dummies(x_train_proc[categs]).values])\n",
    "\n",
    "x_test_nums_pca = pca.transform(x_test_proc[numericals].values)\n",
    "x_test_after_pca_reduction = np.hstack([x_test_nums_pca[:, :k], pd.get_dummies(x_test_proc[categs]).values])"
   ]
  },
  {
   "cell_type": "markdown",
   "id": "03f038ca",
   "metadata": {},
   "source": [
    "Let's train models with this reduced dataset."
   ]
  },
  {
   "cell_type": "code",
   "execution_count": 40,
   "id": "15ad6933",
   "metadata": {},
   "outputs": [
    {
     "name": "stderr",
     "output_type": "stream",
     "text": [
      "/Users/bdsaglam/miniconda3/envs/di501/lib/python3.9/site-packages/sklearn/metrics/_classification.py:1308: UndefinedMetricWarning: Precision is ill-defined and being set to 0.0 in labels with no predicted samples. Use `zero_division` parameter to control this behavior.\n",
      "  _warn_prf(average, modifier, msg_start, len(result))\n",
      "/Users/bdsaglam/miniconda3/envs/di501/lib/python3.9/site-packages/sklearn/metrics/_classification.py:1308: UndefinedMetricWarning: Precision is ill-defined and being set to 0.0 in labels with no predicted samples. Use `zero_division` parameter to control this behavior.\n",
      "  _warn_prf(average, modifier, msg_start, len(result))\n",
      "/Users/bdsaglam/miniconda3/envs/di501/lib/python3.9/site-packages/sklearn/metrics/_classification.py:1308: UndefinedMetricWarning: Precision is ill-defined and being set to 0.0 in labels with no predicted samples. Use `zero_division` parameter to control this behavior.\n",
      "  _warn_prf(average, modifier, msg_start, len(result))\n",
      "/Users/bdsaglam/miniconda3/envs/di501/lib/python3.9/site-packages/sklearn/metrics/_classification.py:1308: UndefinedMetricWarning: Precision is ill-defined and being set to 0.0 in labels with no predicted samples. Use `zero_division` parameter to control this behavior.\n",
      "  _warn_prf(average, modifier, msg_start, len(result))\n",
      "/Users/bdsaglam/miniconda3/envs/di501/lib/python3.9/site-packages/sklearn/metrics/_classification.py:1308: UndefinedMetricWarning: Precision is ill-defined and being set to 0.0 in labels with no predicted samples. Use `zero_division` parameter to control this behavior.\n",
      "  _warn_prf(average, modifier, msg_start, len(result))\n"
     ]
    }
   ],
   "source": [
    "from sklearn.neighbors import KNeighborsClassifier\n",
    "from sklearn.tree import DecisionTreeClassifier\n",
    "from sklearn.svm import SVC\n",
    "\n",
    "model_param_grids = [\n",
    "    (DecisionTreeClassifier(), dict(min_samples_leaf = [10])),\n",
    "    (LogisticRegression(max_iter=1000), dict(C=[1.5]))\n",
    "]\n",
    "\n",
    "sdf = pd.concat([\n",
    "    fmt_search_results(make_searcher(estim, pg).fit(x_train_after_pca_reduction, y_train.values.ravel())) \n",
    "    for (estim, pg) in model_param_grids\n",
    "])"
   ]
  },
  {
   "cell_type": "code",
   "execution_count": 41,
   "id": "9f39136e",
   "metadata": {},
   "outputs": [
    {
     "data": {
      "text/html": [
       "<div>\n",
       "<style scoped>\n",
       "    .dataframe tbody tr th:only-of-type {\n",
       "        vertical-align: middle;\n",
       "    }\n",
       "\n",
       "    .dataframe tbody tr th {\n",
       "        vertical-align: top;\n",
       "    }\n",
       "\n",
       "    .dataframe thead th {\n",
       "        text-align: right;\n",
       "    }\n",
       "</style>\n",
       "<table border=\"1\" class=\"dataframe\">\n",
       "  <thead>\n",
       "    <tr style=\"text-align: right;\">\n",
       "      <th></th>\n",
       "      <th>estimator</th>\n",
       "      <th>params</th>\n",
       "      <th>split</th>\n",
       "      <th>accuracy</th>\n",
       "      <th>precision</th>\n",
       "      <th>recall</th>\n",
       "    </tr>\n",
       "  </thead>\n",
       "  <tbody>\n",
       "    <tr>\n",
       "      <th>1</th>\n",
       "      <td>LogisticRegression</td>\n",
       "      <td>{'C': 1.5}</td>\n",
       "      <td>split0</td>\n",
       "      <td>0.391667</td>\n",
       "      <td>0.332849</td>\n",
       "      <td>0.391667</td>\n",
       "    </tr>\n",
       "    <tr>\n",
       "      <th>2</th>\n",
       "      <td>LogisticRegression</td>\n",
       "      <td>{'C': 1.5}</td>\n",
       "      <td>split1</td>\n",
       "      <td>0.389371</td>\n",
       "      <td>0.327198</td>\n",
       "      <td>0.389371</td>\n",
       "    </tr>\n",
       "    <tr>\n",
       "      <th>3</th>\n",
       "      <td>LogisticRegression</td>\n",
       "      <td>{'C': 1.5}</td>\n",
       "      <td>split2</td>\n",
       "      <td>0.387982</td>\n",
       "      <td>0.324494</td>\n",
       "      <td>0.387982</td>\n",
       "    </tr>\n",
       "    <tr>\n",
       "      <th>4</th>\n",
       "      <td>LogisticRegression</td>\n",
       "      <td>{'C': 1.5}</td>\n",
       "      <td>split3</td>\n",
       "      <td>0.383814</td>\n",
       "      <td>0.329013</td>\n",
       "      <td>0.383814</td>\n",
       "    </tr>\n",
       "    <tr>\n",
       "      <th>5</th>\n",
       "      <td>LogisticRegression</td>\n",
       "      <td>{'C': 1.5}</td>\n",
       "      <td>split4</td>\n",
       "      <td>0.382772</td>\n",
       "      <td>0.331550</td>\n",
       "      <td>0.382772</td>\n",
       "    </tr>\n",
       "    <tr>\n",
       "      <th>2</th>\n",
       "      <td>DecisionTreeClassifier</td>\n",
       "      <td>{'min_samples_leaf': 10}</td>\n",
       "      <td>split1</td>\n",
       "      <td>0.314693</td>\n",
       "      <td>0.299691</td>\n",
       "      <td>0.314693</td>\n",
       "    </tr>\n",
       "    <tr>\n",
       "      <th>4</th>\n",
       "      <td>DecisionTreeClassifier</td>\n",
       "      <td>{'min_samples_leaf': 10}</td>\n",
       "      <td>split3</td>\n",
       "      <td>0.313998</td>\n",
       "      <td>0.305919</td>\n",
       "      <td>0.313998</td>\n",
       "    </tr>\n",
       "    <tr>\n",
       "      <th>3</th>\n",
       "      <td>DecisionTreeClassifier</td>\n",
       "      <td>{'min_samples_leaf': 10}</td>\n",
       "      <td>split2</td>\n",
       "      <td>0.313303</td>\n",
       "      <td>0.299486</td>\n",
       "      <td>0.313303</td>\n",
       "    </tr>\n",
       "    <tr>\n",
       "      <th>1</th>\n",
       "      <td>DecisionTreeClassifier</td>\n",
       "      <td>{'min_samples_leaf': 10}</td>\n",
       "      <td>split0</td>\n",
       "      <td>0.311111</td>\n",
       "      <td>0.298425</td>\n",
       "      <td>0.311111</td>\n",
       "    </tr>\n",
       "    <tr>\n",
       "      <th>5</th>\n",
       "      <td>DecisionTreeClassifier</td>\n",
       "      <td>{'min_samples_leaf': 10}</td>\n",
       "      <td>split4</td>\n",
       "      <td>0.303578</td>\n",
       "      <td>0.295901</td>\n",
       "      <td>0.303578</td>\n",
       "    </tr>\n",
       "  </tbody>\n",
       "</table>\n",
       "</div>"
      ],
      "text/plain": [
       "                estimator                    params   split  accuracy  \\\n",
       "1      LogisticRegression                {'C': 1.5}  split0  0.391667   \n",
       "2      LogisticRegression                {'C': 1.5}  split1  0.389371   \n",
       "3      LogisticRegression                {'C': 1.5}  split2  0.387982   \n",
       "4      LogisticRegression                {'C': 1.5}  split3  0.383814   \n",
       "5      LogisticRegression                {'C': 1.5}  split4  0.382772   \n",
       "2  DecisionTreeClassifier  {'min_samples_leaf': 10}  split1  0.314693   \n",
       "4  DecisionTreeClassifier  {'min_samples_leaf': 10}  split3  0.313998   \n",
       "3  DecisionTreeClassifier  {'min_samples_leaf': 10}  split2  0.313303   \n",
       "1  DecisionTreeClassifier  {'min_samples_leaf': 10}  split0  0.311111   \n",
       "5  DecisionTreeClassifier  {'min_samples_leaf': 10}  split4  0.303578   \n",
       "\n",
       "   precision    recall  \n",
       "1   0.332849  0.391667  \n",
       "2   0.327198  0.389371  \n",
       "3   0.324494  0.387982  \n",
       "4   0.329013  0.383814  \n",
       "5   0.331550  0.382772  \n",
       "2   0.299691  0.314693  \n",
       "4   0.305919  0.313998  \n",
       "3   0.299486  0.313303  \n",
       "1   0.298425  0.311111  \n",
       "5   0.295901  0.303578  "
      ]
     },
     "execution_count": 41,
     "metadata": {},
     "output_type": "execute_result"
    }
   ],
   "source": [
    "sdf.sort_values(by='accuracy', ascending=False)"
   ]
  },
  {
   "cell_type": "code",
   "execution_count": 42,
   "id": "d57d80b4",
   "metadata": {},
   "outputs": [
    {
     "data": {
      "text/html": [
       "<div>\n",
       "<style scoped>\n",
       "    .dataframe tbody tr th:only-of-type {\n",
       "        vertical-align: middle;\n",
       "    }\n",
       "\n",
       "    .dataframe tbody tr th {\n",
       "        vertical-align: top;\n",
       "    }\n",
       "\n",
       "    .dataframe thead th {\n",
       "        text-align: right;\n",
       "    }\n",
       "</style>\n",
       "<table border=\"1\" class=\"dataframe\">\n",
       "  <thead>\n",
       "    <tr style=\"text-align: right;\">\n",
       "      <th></th>\n",
       "      <th></th>\n",
       "      <th>accuracy</th>\n",
       "      <th>precision</th>\n",
       "      <th>recall</th>\n",
       "    </tr>\n",
       "    <tr>\n",
       "      <th>estimator</th>\n",
       "      <th>params</th>\n",
       "      <th></th>\n",
       "      <th></th>\n",
       "      <th></th>\n",
       "    </tr>\n",
       "  </thead>\n",
       "  <tbody>\n",
       "    <tr>\n",
       "      <th>LogisticRegression</th>\n",
       "      <th>{'C': 1.5}</th>\n",
       "      <td>0.387121</td>\n",
       "      <td>0.329021</td>\n",
       "      <td>0.387121</td>\n",
       "    </tr>\n",
       "    <tr>\n",
       "      <th>DecisionTreeClassifier</th>\n",
       "      <th>{'min_samples_leaf': 10}</th>\n",
       "      <td>0.311336</td>\n",
       "      <td>0.299885</td>\n",
       "      <td>0.311336</td>\n",
       "    </tr>\n",
       "  </tbody>\n",
       "</table>\n",
       "</div>"
      ],
      "text/plain": [
       "                                                 accuracy  precision    recall\n",
       "estimator              params                                                 \n",
       "LogisticRegression     {'C': 1.5}                0.387121   0.329021  0.387121\n",
       "DecisionTreeClassifier {'min_samples_leaf': 10}  0.311336   0.299885  0.311336"
      ]
     },
     "execution_count": 42,
     "metadata": {},
     "output_type": "execute_result"
    }
   ],
   "source": [
    "sdf.assign(params=lambda x: x['params'].apply(str)).groupby(['estimator', 'params']).agg(np.mean).sort_values(by='accuracy', ascending=False)"
   ]
  },
  {
   "cell_type": "markdown",
   "id": "3520d99e",
   "metadata": {},
   "source": [
    "The classification scores dropped with reduced dataset for both algorithms."
   ]
  },
  {
   "cell_type": "markdown",
   "id": "0d030695",
   "metadata": {},
   "source": [
    "### Bonus - Random Forest Classifier"
   ]
  },
  {
   "cell_type": "code",
   "execution_count": 43,
   "id": "02223452",
   "metadata": {},
   "outputs": [],
   "source": [
    "from sklearn.ensemble import RandomForestClassifier\n",
    "\n",
    "def rf(xs, y, n_estimators=40, max_features=0.5, min_samples_leaf=5, oob_score=True, **kwargs):\n",
    "    m = RandomForestClassifier(\n",
    "        n_jobs=-1, \n",
    "        n_estimators=n_estimators,\n",
    "        max_features=max_features,\n",
    "        min_samples_leaf=min_samples_leaf, \n",
    "        oob_score=True\n",
    "    )\n",
    "    return m.fit(xs, y)"
   ]
  },
  {
   "cell_type": "code",
   "execution_count": 44,
   "id": "4e0b5d67",
   "metadata": {},
   "outputs": [
    {
     "name": "stdout",
     "output_type": "stream",
     "text": [
      "0.797304806890803\n",
      "0.5083333333333333\n"
     ]
    }
   ],
   "source": [
    "m = rf(x_train_proc.values, y_train.values.ravel())\n",
    "print(m.score(x_train_proc.values, y_train.values.ravel()))\n",
    "print(m.score(x_test_proc.values, y_test.values.ravel()))"
   ]
  },
  {
   "cell_type": "code",
   "execution_count": 45,
   "id": "8a26124b",
   "metadata": {},
   "outputs": [
    {
     "data": {
      "image/png": "[encoded data removed]",
      "text/plain": [
       "<Figure size 864x864 with 2 Axes>"
      ]
     },
     "metadata": {
      "needs_background": "light"
     },
     "output_type": "display_data"
    },
    {
     "name": "stdout",
     "output_type": "stream",
     "text": [
      "              precision    recall  f1-score   support\n",
      "\n",
      "           0       0.69      0.70      0.69       125\n",
      "           1       0.14      0.03      0.05       275\n",
      "           2       0.52      0.33      0.40       254\n",
      "           3       0.73      0.72      0.73        80\n",
      "           4       0.66      0.75      0.70        77\n",
      "           5       0.65      0.70      0.67       290\n",
      "           6       0.34      0.28      0.30       518\n",
      "           7       0.89      0.90      0.89       115\n",
      "           8       0.58      0.48      0.52       371\n",
      "           9       0.53      0.51      0.52       505\n",
      "          10       0.45      0.66      0.54       990\n",
      "\n",
      "    accuracy                           0.51      3600\n",
      "   macro avg       0.56      0.55      0.55      3600\n",
      "weighted avg       0.49      0.51      0.49      3600\n",
      "\n"
     ]
    }
   ],
   "source": [
    "from sklearn.metrics import confusion_matrix, ConfusionMatrixDisplay, classification_report\n",
    "\n",
    "y_pred = m.predict(x_test_proc.values)\n",
    "\n",
    "cm = confusion_matrix(y_test.values.ravel(), y_pred, labels=m.classes_)\n",
    "disp = ConfusionMatrixDisplay(confusion_matrix=cm, display_labels=m.classes_)\n",
    "fig, ax = plt.subplots(figsize=(12,12))\n",
    "disp.plot(ax=ax)\n",
    "plt.show()\n",
    "print(classification_report(y_test, y_pred))"
   ]
  },
  {
   "cell_type": "code",
   "execution_count": null,
   "id": "9bdf7eec",
   "metadata": {},
   "outputs": [],
   "source": []
  }
 ],
 "metadata": {
  "kernelspec": {
   "display_name": "Python 3 (ipykernel)",
   "language": "python",
   "name": "python3"
  },
  "language_info": {
   "codemirror_mode": {
    "name": "ipython",
    "version": 3
   },
   "file_extension": ".py",
   "mimetype": "text/x-python",
   "name": "python",
   "nbconvert_exporter": "python",
   "pygments_lexer": "ipython3",
   "version": "3.9.7"
  }
 },
 "nbformat": 4,
 "nbformat_minor": 5
}
