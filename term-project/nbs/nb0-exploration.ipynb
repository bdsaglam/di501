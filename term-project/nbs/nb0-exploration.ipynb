{
 "cells": [
  {
   "cell_type": "markdown",
   "id": "b4964199",
   "metadata": {},
   "source": [
    "<h3 style=\"margin-bottom:0\">Import Libraries</h4>"
   ]
  },
  {
   "cell_type": "code",
   "execution_count": null,
   "id": "608606f8",
   "metadata": {},
   "outputs": [
    {
     "ename": "",
     "evalue": "",
     "output_type": "error",
     "traceback": [
      "\u001b[1;31mRunning cells with 'Python 3.9.7 64-bit' requires ipykernel package.\n",
      "Run the following command to install 'ipykernel' into the Python environment. \n",
      "Command: '/usr/local/bin/python3 -m pip install ipykernel -U --user --force-reinstall'"
     ]
    }
   ],
   "source": [
    "from pathlib import Path\n",
    "\n",
    "import pandas as pd\n",
    "import numpy as np\n",
    "from scipy import stats\n",
    "import missingno as msno\n",
    "\n",
    "import matplotlib.pyplot as plt\n",
    "import seaborn as sns\n",
    "\n",
    "np.random.seed(42)"
   ]
  },
  {
   "cell_type": "code",
   "execution_count": 2,
   "id": "9e596e45",
   "metadata": {},
   "outputs": [],
   "source": [
    "def describe(df):\n",
    "    desc = df.describe()\n",
    "    desc.loc['n_unique', :] = df.nunique().values\n",
    "    desc.loc['n_missing', :] = df.isna().sum().values\n",
    "    return desc"
   ]
  },
  {
   "cell_type": "code",
   "execution_count": 3,
   "id": "dc9fcfd3",
   "metadata": {},
   "outputs": [],
   "source": [
    "def show_missingness(df):\n",
    "    print(\"Missing rates\")\n",
    "    print('='*16)\n",
    "    print(df.isna().sum() / len(df))\n",
    "    print('='*16)\n",
    "\n",
    "    msno.heatmap(df, figsize=(4,4))\n",
    "    plt.show()\n",
    "\n",
    "    msno.matrix(df, figsize=(4,4))\n",
    "    plt.show()"
   ]
  },
  {
   "cell_type": "markdown",
   "id": "ad49e44c",
   "metadata": {},
   "source": [
    "<h3 style=\"margin-bottom:0\">1) Data (5 pts)</h3>"
   ]
  },
  {
   "cell_type": "code",
   "execution_count": 4,
   "id": "7d8bc83c",
   "metadata": {},
   "outputs": [],
   "source": [
    "data_dir = Path('.')"
   ]
  },
  {
   "cell_type": "code",
   "execution_count": 5,
   "id": "4b42f314",
   "metadata": {},
   "outputs": [
    {
     "data": {
      "text/html": [
       "<div>\n",
       "<style scoped>\n",
       "    .dataframe tbody tr th:only-of-type {\n",
       "        vertical-align: middle;\n",
       "    }\n",
       "\n",
       "    .dataframe tbody tr th {\n",
       "        vertical-align: top;\n",
       "    }\n",
       "\n",
       "    .dataframe thead th {\n",
       "        text-align: right;\n",
       "    }\n",
       "</style>\n",
       "<table border=\"1\" class=\"dataframe\">\n",
       "  <thead>\n",
       "    <tr style=\"text-align: right;\">\n",
       "      <th></th>\n",
       "      <th>MSSubClass</th>\n",
       "      <th>MSZoning</th>\n",
       "      <th>LotFrontage</th>\n",
       "      <th>LotArea</th>\n",
       "      <th>Street</th>\n",
       "      <th>Alley</th>\n",
       "      <th>LotShape</th>\n",
       "      <th>LandContour</th>\n",
       "      <th>Utilities</th>\n",
       "      <th>LotConfig</th>\n",
       "      <th>...</th>\n",
       "      <th>PoolArea</th>\n",
       "      <th>PoolQC</th>\n",
       "      <th>Fence</th>\n",
       "      <th>MiscFeature</th>\n",
       "      <th>MiscVal</th>\n",
       "      <th>MoSold</th>\n",
       "      <th>YrSold</th>\n",
       "      <th>SaleType</th>\n",
       "      <th>SaleCondition</th>\n",
       "      <th>SalePrice</th>\n",
       "    </tr>\n",
       "    <tr>\n",
       "      <th>Id</th>\n",
       "      <th></th>\n",
       "      <th></th>\n",
       "      <th></th>\n",
       "      <th></th>\n",
       "      <th></th>\n",
       "      <th></th>\n",
       "      <th></th>\n",
       "      <th></th>\n",
       "      <th></th>\n",
       "      <th></th>\n",
       "      <th></th>\n",
       "      <th></th>\n",
       "      <th></th>\n",
       "      <th></th>\n",
       "      <th></th>\n",
       "      <th></th>\n",
       "      <th></th>\n",
       "      <th></th>\n",
       "      <th></th>\n",
       "      <th></th>\n",
       "      <th></th>\n",
       "    </tr>\n",
       "  </thead>\n",
       "  <tbody>\n",
       "    <tr>\n",
       "      <th>1</th>\n",
       "      <td>60</td>\n",
       "      <td>RL</td>\n",
       "      <td>65.0</td>\n",
       "      <td>8450</td>\n",
       "      <td>Pave</td>\n",
       "      <td>NaN</td>\n",
       "      <td>Reg</td>\n",
       "      <td>Lvl</td>\n",
       "      <td>AllPub</td>\n",
       "      <td>Inside</td>\n",
       "      <td>...</td>\n",
       "      <td>0</td>\n",
       "      <td>NaN</td>\n",
       "      <td>NaN</td>\n",
       "      <td>NaN</td>\n",
       "      <td>0</td>\n",
       "      <td>2</td>\n",
       "      <td>2008</td>\n",
       "      <td>WD</td>\n",
       "      <td>Normal</td>\n",
       "      <td>208500</td>\n",
       "    </tr>\n",
       "    <tr>\n",
       "      <th>2</th>\n",
       "      <td>20</td>\n",
       "      <td>RL</td>\n",
       "      <td>80.0</td>\n",
       "      <td>9600</td>\n",
       "      <td>Pave</td>\n",
       "      <td>NaN</td>\n",
       "      <td>Reg</td>\n",
       "      <td>Lvl</td>\n",
       "      <td>AllPub</td>\n",
       "      <td>FR2</td>\n",
       "      <td>...</td>\n",
       "      <td>0</td>\n",
       "      <td>NaN</td>\n",
       "      <td>NaN</td>\n",
       "      <td>NaN</td>\n",
       "      <td>0</td>\n",
       "      <td>5</td>\n",
       "      <td>2007</td>\n",
       "      <td>WD</td>\n",
       "      <td>Normal</td>\n",
       "      <td>181500</td>\n",
       "    </tr>\n",
       "    <tr>\n",
       "      <th>3</th>\n",
       "      <td>60</td>\n",
       "      <td>RL</td>\n",
       "      <td>68.0</td>\n",
       "      <td>11250</td>\n",
       "      <td>Pave</td>\n",
       "      <td>NaN</td>\n",
       "      <td>IR1</td>\n",
       "      <td>Lvl</td>\n",
       "      <td>AllPub</td>\n",
       "      <td>Inside</td>\n",
       "      <td>...</td>\n",
       "      <td>0</td>\n",
       "      <td>NaN</td>\n",
       "      <td>NaN</td>\n",
       "      <td>NaN</td>\n",
       "      <td>0</td>\n",
       "      <td>9</td>\n",
       "      <td>2008</td>\n",
       "      <td>WD</td>\n",
       "      <td>Normal</td>\n",
       "      <td>223500</td>\n",
       "    </tr>\n",
       "    <tr>\n",
       "      <th>4</th>\n",
       "      <td>70</td>\n",
       "      <td>RL</td>\n",
       "      <td>60.0</td>\n",
       "      <td>9550</td>\n",
       "      <td>Pave</td>\n",
       "      <td>NaN</td>\n",
       "      <td>IR1</td>\n",
       "      <td>Lvl</td>\n",
       "      <td>AllPub</td>\n",
       "      <td>Corner</td>\n",
       "      <td>...</td>\n",
       "      <td>0</td>\n",
       "      <td>NaN</td>\n",
       "      <td>NaN</td>\n",
       "      <td>NaN</td>\n",
       "      <td>0</td>\n",
       "      <td>2</td>\n",
       "      <td>2006</td>\n",
       "      <td>WD</td>\n",
       "      <td>Abnorml</td>\n",
       "      <td>140000</td>\n",
       "    </tr>\n",
       "    <tr>\n",
       "      <th>5</th>\n",
       "      <td>60</td>\n",
       "      <td>RL</td>\n",
       "      <td>84.0</td>\n",
       "      <td>14260</td>\n",
       "      <td>Pave</td>\n",
       "      <td>NaN</td>\n",
       "      <td>IR1</td>\n",
       "      <td>Lvl</td>\n",
       "      <td>AllPub</td>\n",
       "      <td>FR2</td>\n",
       "      <td>...</td>\n",
       "      <td>0</td>\n",
       "      <td>NaN</td>\n",
       "      <td>NaN</td>\n",
       "      <td>NaN</td>\n",
       "      <td>0</td>\n",
       "      <td>12</td>\n",
       "      <td>2008</td>\n",
       "      <td>WD</td>\n",
       "      <td>Normal</td>\n",
       "      <td>250000</td>\n",
       "    </tr>\n",
       "  </tbody>\n",
       "</table>\n",
       "<p>5 rows × 80 columns</p>\n",
       "</div>"
      ],
      "text/plain": [
       "    MSSubClass MSZoning  LotFrontage  LotArea Street Alley LotShape  \\\n",
       "Id                                                                    \n",
       "1           60       RL         65.0     8450   Pave   NaN      Reg   \n",
       "2           20       RL         80.0     9600   Pave   NaN      Reg   \n",
       "3           60       RL         68.0    11250   Pave   NaN      IR1   \n",
       "4           70       RL         60.0     9550   Pave   NaN      IR1   \n",
       "5           60       RL         84.0    14260   Pave   NaN      IR1   \n",
       "\n",
       "   LandContour Utilities LotConfig  ... PoolArea PoolQC Fence MiscFeature  \\\n",
       "Id                                  ...                                     \n",
       "1          Lvl    AllPub    Inside  ...        0    NaN   NaN         NaN   \n",
       "2          Lvl    AllPub       FR2  ...        0    NaN   NaN         NaN   \n",
       "3          Lvl    AllPub    Inside  ...        0    NaN   NaN         NaN   \n",
       "4          Lvl    AllPub    Corner  ...        0    NaN   NaN         NaN   \n",
       "5          Lvl    AllPub       FR2  ...        0    NaN   NaN         NaN   \n",
       "\n",
       "   MiscVal MoSold  YrSold  SaleType  SaleCondition  SalePrice  \n",
       "Id                                                             \n",
       "1        0      2    2008        WD         Normal     208500  \n",
       "2        0      5    2007        WD         Normal     181500  \n",
       "3        0      9    2008        WD         Normal     223500  \n",
       "4        0      2    2006        WD        Abnorml     140000  \n",
       "5        0     12    2008        WD         Normal     250000  \n",
       "\n",
       "[5 rows x 80 columns]"
      ]
     },
     "execution_count": 5,
     "metadata": {},
     "output_type": "execute_result"
    }
   ],
   "source": [
    "df = pd.read_csv(data_dir / 'train.csv', low_memory=False, index_col='Id')\n",
    "test_df = pd.read_csv(data_dir / 'test.csv', low_memory=False, index_col='Id')\n",
    "df.head()"
   ]
  },
  {
   "cell_type": "markdown",
   "id": "9fe3265a",
   "metadata": {},
   "source": [
    "## Data cleanup"
   ]
  },
  {
   "cell_type": "markdown",
   "id": "77d815a1",
   "metadata": {},
   "source": [
    "We will fill missing values for categorical values according to the data description when there is a category defined for \n",
    "missing values for the variable. If not, we will impute them with most frequent value in the training set."
   ]
  },
  {
   "cell_type": "code",
   "execution_count": 210,
   "id": "f81626a8",
   "metadata": {},
   "outputs": [],
   "source": [
    "def find_cols_with_missing(df):\n",
    "    missing_counts = df.isna().sum()\n",
    "    return missing_counts[missing_counts > 0].index.values.tolist()\n",
    "\n",
    "def fill_missing_values_by_data_description(df):\n",
    "    return (df\n",
    "        .assign(Alley=lambda dataf: dataf['Alley'].fillna('NA'))\n",
    "        .assign(MasVnrType=lambda dataf: dataf['MasVnrType'].fillna('None'))\n",
    "        .assign(BsmtQual=lambda dataf: dataf['BsmtQual'].fillna('NA'))\n",
    "        .assign(BsmtCond=lambda dataf: dataf['BsmtCond'].fillna('NA'))\n",
    "        .assign(BsmtExposure=lambda dataf: dataf['BsmtExposure'].fillna('NA'))\n",
    "        .assign(BsmtFinType1=lambda dataf: dataf['BsmtFinType1'].fillna('NA'))\n",
    "        .assign(BsmtFinType2=lambda dataf: dataf['BsmtFinType2'].fillna('NA'))\n",
    "        .assign(FireplaceQu=lambda dataf: dataf['FireplaceQu'].fillna('NA'))\n",
    "        .assign(GarageType=lambda dataf: dataf['GarageType'].fillna('NA'))\n",
    "        .assign(GarageFinish=lambda dataf: dataf['GarageFinish'].fillna('NA'))\n",
    "        .assign(GarageQual=lambda dataf: dataf['GarageQual'].fillna('NA'))\n",
    "        .assign(GarageCond=lambda dataf: dataf['GarageCond'].fillna('NA'))\n",
    "        .assign(PoolQC=lambda dataf: dataf['PoolQC'].fillna('NA'))\n",
    "        .assign(Fence=lambda dataf: dataf['Fence'].fillna('NA'))\n",
    "        .assign(MiscFeature=lambda dataf: dataf['MiscFeature'].fillna('NA'))\n",
    "    )\n",
    "\n",
    "def cleanup_dataset(df, targets):\n",
    "    return (df\n",
    "        .dropna(how='any', subset=targets)\n",
    "        .pipe(fill_missing_values_by_data_description)\n",
    "        .drop(columns=['Street', 'SaleCondition', 'SaleType', 'MoSold', 'YrSold', 'SalePrice'], errors='ignore')\n",
    "    )\n",
    "\n",
    "\n",
    "def prepare_dataset(df, targets, numericals, categs):\n",
    "    df = cleanup_dataset(df, targets)\n",
    "    df[numericals] = df[numericals].astype('float')\n",
    "    df[categs] = df[categs].astype('category')\n",
    "    for col in targets:\n",
    "        if df[col].dtype == np.dtype('O'):\n",
    "            df[col] = df[col].astype('category').cat.codes\n",
    "        else:\n",
    "            df[col] = df[col].astype('float')\n",
    "    x = df.drop(columns=targets)[numericals + categs]\n",
    "    y = df[targets]\n",
    "    return x, y"
   ]
  },
  {
   "cell_type": "code",
   "execution_count": 217,
   "id": "f8844079",
   "metadata": {},
   "outputs": [
    {
     "data": {
      "text/html": [
       "<div>\n",
       "<style scoped>\n",
       "    .dataframe tbody tr th:only-of-type {\n",
       "        vertical-align: middle;\n",
       "    }\n",
       "\n",
       "    .dataframe tbody tr th {\n",
       "        vertical-align: top;\n",
       "    }\n",
       "\n",
       "    .dataframe thead th {\n",
       "        text-align: right;\n",
       "    }\n",
       "</style>\n",
       "<table border=\"1\" class=\"dataframe\">\n",
       "  <thead>\n",
       "    <tr style=\"text-align: right;\">\n",
       "      <th></th>\n",
       "      <th>LotFrontage</th>\n",
       "      <th>MasVnrArea</th>\n",
       "      <th>GarageYrBlt</th>\n",
       "    </tr>\n",
       "  </thead>\n",
       "  <tbody>\n",
       "    <tr>\n",
       "      <th>count</th>\n",
       "      <td>1201.000000</td>\n",
       "      <td>1452.000000</td>\n",
       "      <td>1379.000000</td>\n",
       "    </tr>\n",
       "    <tr>\n",
       "      <th>mean</th>\n",
       "      <td>70.049958</td>\n",
       "      <td>103.685262</td>\n",
       "      <td>1978.506164</td>\n",
       "    </tr>\n",
       "    <tr>\n",
       "      <th>std</th>\n",
       "      <td>24.284752</td>\n",
       "      <td>181.066207</td>\n",
       "      <td>24.689725</td>\n",
       "    </tr>\n",
       "    <tr>\n",
       "      <th>min</th>\n",
       "      <td>21.000000</td>\n",
       "      <td>0.000000</td>\n",
       "      <td>1900.000000</td>\n",
       "    </tr>\n",
       "    <tr>\n",
       "      <th>25%</th>\n",
       "      <td>59.000000</td>\n",
       "      <td>0.000000</td>\n",
       "      <td>1961.000000</td>\n",
       "    </tr>\n",
       "    <tr>\n",
       "      <th>50%</th>\n",
       "      <td>69.000000</td>\n",
       "      <td>0.000000</td>\n",
       "      <td>1980.000000</td>\n",
       "    </tr>\n",
       "    <tr>\n",
       "      <th>75%</th>\n",
       "      <td>80.000000</td>\n",
       "      <td>166.000000</td>\n",
       "      <td>2002.000000</td>\n",
       "    </tr>\n",
       "    <tr>\n",
       "      <th>max</th>\n",
       "      <td>313.000000</td>\n",
       "      <td>1600.000000</td>\n",
       "      <td>2010.000000</td>\n",
       "    </tr>\n",
       "    <tr>\n",
       "      <th>n_unique</th>\n",
       "      <td>110.000000</td>\n",
       "      <td>327.000000</td>\n",
       "      <td>97.000000</td>\n",
       "    </tr>\n",
       "    <tr>\n",
       "      <th>n_missing</th>\n",
       "      <td>259.000000</td>\n",
       "      <td>8.000000</td>\n",
       "      <td>81.000000</td>\n",
       "    </tr>\n",
       "  </tbody>\n",
       "</table>\n",
       "</div>"
      ],
      "text/plain": [
       "           LotFrontage   MasVnrArea  GarageYrBlt\n",
       "count      1201.000000  1452.000000  1379.000000\n",
       "mean         70.049958   103.685262  1978.506164\n",
       "std          24.284752   181.066207    24.689725\n",
       "min          21.000000     0.000000  1900.000000\n",
       "25%          59.000000     0.000000  1961.000000\n",
       "50%          69.000000     0.000000  1980.000000\n",
       "75%          80.000000   166.000000  2002.000000\n",
       "max         313.000000  1600.000000  2010.000000\n",
       "n_unique    110.000000   327.000000    97.000000\n",
       "n_missing   259.000000     8.000000    81.000000"
      ]
     },
     "execution_count": 217,
     "metadata": {},
     "output_type": "execute_result"
    }
   ],
   "source": [
    "describe(df[cols_with_missing])"
   ]
  },
  {
   "cell_type": "code",
   "execution_count": 211,
   "id": "643cb9a1",
   "metadata": {},
   "outputs": [
    {
     "name": "stdout",
     "output_type": "stream",
     "text": [
      "Missing rates\n",
      "================\n",
      "LotFrontage    0.177397\n",
      "MasVnrArea     0.005479\n",
      "GarageYrBlt    0.055479\n",
      "dtype: float64\n",
      "================\n"
     ]
    },
    {
     "data": {
      "image/png": "[encoded data removed]",
      "text/plain": [
       "<Figure size 288x288 with 2 Axes>"
      ]
     },
     "metadata": {
      "needs_background": "light"
     },
     "output_type": "display_data"
    },
    {
     "data": {
      "image/png": "[encoded data removed]",
      "text/plain": [
       "<Figure size 288x288 with 2 Axes>"
      ]
     },
     "metadata": {
      "needs_background": "light"
     },
     "output_type": "display_data"
    }
   ],
   "source": [
    "df = fill_missing_values_by_data_description(df)\n",
    "cols_with_missing = find_cols_with_missing(df)\n",
    "show_missingness(df[cols_with_missing])"
   ]
  },
  {
   "cell_type": "code",
   "execution_count": 216,
   "id": "668125b3",
   "metadata": {},
   "outputs": [
    {
     "data": {
      "text/html": [
       "<div>\n",
       "<style scoped>\n",
       "    .dataframe tbody tr th:only-of-type {\n",
       "        vertical-align: middle;\n",
       "    }\n",
       "\n",
       "    .dataframe tbody tr th {\n",
       "        vertical-align: top;\n",
       "    }\n",
       "\n",
       "    .dataframe thead th {\n",
       "        text-align: right;\n",
       "    }\n",
       "</style>\n",
       "<table border=\"1\" class=\"dataframe\">\n",
       "  <thead>\n",
       "    <tr style=\"text-align: right;\">\n",
       "      <th></th>\n",
       "      <th>Alley</th>\n",
       "      <th>LotFrontage</th>\n",
       "    </tr>\n",
       "    <tr>\n",
       "      <th>Id</th>\n",
       "      <th></th>\n",
       "      <th></th>\n",
       "    </tr>\n",
       "  </thead>\n",
       "  <tbody>\n",
       "    <tr>\n",
       "      <th>8</th>\n",
       "      <td>NA</td>\n",
       "      <td>NaN</td>\n",
       "    </tr>\n",
       "    <tr>\n",
       "      <th>13</th>\n",
       "      <td>NA</td>\n",
       "      <td>NaN</td>\n",
       "    </tr>\n",
       "    <tr>\n",
       "      <th>15</th>\n",
       "      <td>NA</td>\n",
       "      <td>NaN</td>\n",
       "    </tr>\n",
       "    <tr>\n",
       "      <th>17</th>\n",
       "      <td>NA</td>\n",
       "      <td>NaN</td>\n",
       "    </tr>\n",
       "    <tr>\n",
       "      <th>25</th>\n",
       "      <td>NA</td>\n",
       "      <td>NaN</td>\n",
       "    </tr>\n",
       "    <tr>\n",
       "      <th>...</th>\n",
       "      <td>...</td>\n",
       "      <td>...</td>\n",
       "    </tr>\n",
       "    <tr>\n",
       "      <th>1430</th>\n",
       "      <td>NA</td>\n",
       "      <td>NaN</td>\n",
       "    </tr>\n",
       "    <tr>\n",
       "      <th>1432</th>\n",
       "      <td>NA</td>\n",
       "      <td>NaN</td>\n",
       "    </tr>\n",
       "    <tr>\n",
       "      <th>1442</th>\n",
       "      <td>NA</td>\n",
       "      <td>NaN</td>\n",
       "    </tr>\n",
       "    <tr>\n",
       "      <th>1444</th>\n",
       "      <td>NA</td>\n",
       "      <td>NaN</td>\n",
       "    </tr>\n",
       "    <tr>\n",
       "      <th>1447</th>\n",
       "      <td>NA</td>\n",
       "      <td>NaN</td>\n",
       "    </tr>\n",
       "  </tbody>\n",
       "</table>\n",
       "<p>259 rows × 2 columns</p>\n",
       "</div>"
      ],
      "text/plain": [
       "     Alley  LotFrontage\n",
       "Id                     \n",
       "8       NA          NaN\n",
       "13      NA          NaN\n",
       "15      NA          NaN\n",
       "17      NA          NaN\n",
       "25      NA          NaN\n",
       "...    ...          ...\n",
       "1430    NA          NaN\n",
       "1432    NA          NaN\n",
       "1442    NA          NaN\n",
       "1444    NA          NaN\n",
       "1447    NA          NaN\n",
       "\n",
       "[259 rows x 2 columns]"
      ]
     },
     "execution_count": 216,
     "metadata": {},
     "output_type": "execute_result"
    }
   ],
   "source": [
    "missing_lf = df['LotFrontage'].isna()\n",
    "df[['Alley', 'LotFrontage']][missing_lf]"
   ]
  },
  {
   "cell_type": "markdown",
   "id": "b19862ad",
   "metadata": {},
   "source": [
    "There is a slight correlation between the missingness of `LotFrontage` and `GarageYrBlt`. However, we can assume that the missingness mechanism is MCAR, since the correlation is weak."
   ]
  },
  {
   "cell_type": "code",
   "execution_count": null,
   "id": "2975acf9",
   "metadata": {},
   "outputs": [],
   "source": [
    "df.hist(figsize=(32, 32));\n",
    "plt.show();"
   ]
  },
  {
   "cell_type": "markdown",
   "id": "ce8541d2",
   "metadata": {},
   "source": [
    "## Feature selection"
   ]
  },
  {
   "cell_type": "markdown",
   "id": "bd81f69c",
   "metadata": {},
   "source": [
    "`Street` variable is a subset of `Alley` variable, hence, we can drop it without losing any information.\n",
    "\n",
    "As we will predict the neighborhood of building, we don't need variables related to the sale of the property."
   ]
  },
  {
   "cell_type": "markdown",
   "id": "53cb2d3d",
   "metadata": {},
   "source": [
    "## Training"
   ]
  },
  {
   "cell_type": "code",
   "execution_count": 250,
   "id": "2fd4ef58",
   "metadata": {},
   "outputs": [],
   "source": [
    "from sklearn.pipeline import Pipeline\n",
    "from sklearn.compose import ColumnTransformer\n",
    "from sklearn.impute import SimpleImputer\n",
    "from sklearn.preprocessing import MinMaxScaler, StandardScaler, OneHotEncoder, OrdinalEncoder\n",
    "from sklearn.decomposition import PCA\n",
    "from sklearn.feature_selection import SelectKBest\n",
    "from sklearn.feature_selection import chi2\n",
    "\n",
    "def make_preprocessor(x_train: pd.DataFrame):\n",
    "    numericals = set(x_train.select_dtypes('float').columns)\n",
    "    numerical_col_indices = [i for i, col in enumerate(x_train.columns) if col in numericals]\n",
    "\n",
    "    skewness = x_train[numericals].skew()\n",
    "    sym_numericals = set(skewness[skewness.abs() <= 0.5].index)\n",
    "    skw_numericals = set(numericals).difference(sym_numericals)\n",
    "\n",
    "    sym_col_indices = [i for i, col in enumerate(x_train.columns) if col in sym_numericals]\n",
    "    skw_col_indices = [i for i, col in enumerate(x_train.columns) if col in skw_numericals]\n",
    "\n",
    "    categs = set(x_train.columns).difference(numericals)\n",
    "    categ_col_indices = [i for i, col in enumerate(x_train.columns) if col in categs]\n",
    "\n",
    "    numeric_transformer = Pipeline([\n",
    "        ('imputer', SimpleImputer(missing_values=np.nan, strategy='mean')),\n",
    "        (\n",
    "            'scaler', \n",
    "             ColumnTransformer([\n",
    "                ('scaler_sym', StandardScaler(), sym_col_indices),\n",
    "                ('scaler_skw', MinMaxScaler(), skw_col_indices),\n",
    "             ])\n",
    "        ),\n",
    "        ('pca', PCA())\n",
    "    ])\n",
    "\n",
    "    categorical_transformer = Pipeline([\n",
    "        ('imputer', SimpleImputer(missing_values=np.nan, strategy='most_frequent')),\n",
    "        # ('ordinal_encoder', OrdinalEncoder()),\n",
    "        # ('feat_selection', SelectKBest(chi2)),\n",
    "        ('onehot_encoder', OneHotEncoder(handle_unknown='ignore')),\n",
    "    ])\n",
    "\n",
    "    preprocessor = ColumnTransformer([\n",
    "        ('numerical', numeric_transformer, numerical_col_indices),\n",
    "        ('categorical', categorical_transformer, categ_col_indices)\n",
    "    ])\n",
    "    return preprocessor"
   ]
  },
  {
   "cell_type": "code",
   "execution_count": 251,
   "id": "e745fd9b",
   "metadata": {},
   "outputs": [],
   "source": [
    "target_variable = 'OverallQual'\n",
    "\n",
    "df = cleanup_dataset(df, [target_variable])\n",
    "x_train = df.drop(columns=[target_variable])\n",
    "\n",
    "categs = x_train.select_dtypes('O').columns.tolist()\n",
    "numericals = x_train.select_dtypes('number').columns.tolist()\n",
    "\n",
    "x_train, y_train = prepare_dataset(df, targets=[target_variable], numericals=numericals, categs=categs)\n",
    "x_test, y_test = prepare_dataset(test_df, targets=[target_variable], numericals=numericals, categs=categs)\n"
   ]
  },
  {
   "cell_type": "code",
   "execution_count": 252,
   "id": "b11d4df5",
   "metadata": {},
   "outputs": [],
   "source": [
    "from sklearn.model_selection import GridSearchCV\n",
    "from sklearn.metrics import make_scorer\n",
    "from sklearn.metrics import accuracy_score, precision_score, recall_score\n",
    "\n",
    "def make_searcher(estimator, param_grid, cv=5, score_averaging = 'weighted', seed=42):\n",
    "    return GridSearchCV(\n",
    "        estimator = estimator, \n",
    "        param_grid = param_grid,\n",
    "        scoring = {\n",
    "            'precision': make_scorer(precision_score, average=score_averaging), \n",
    "            'recall': make_scorer(recall_score, average=score_averaging),\n",
    "            'accuracy': 'accuracy'\n",
    "        }, \n",
    "        refit = 'accuracy',\n",
    "        cv = cv, # number of folds for cross validation\n",
    "        verbose=0, \n",
    "        n_jobs = -1\n",
    "    )"
   ]
  },
  {
   "cell_type": "code",
   "execution_count": 253,
   "id": "9b5bbb08",
   "metadata": {},
   "outputs": [],
   "source": [
    "import json\n",
    "\n",
    "def fmt_search_results(search):\n",
    "    sdf = pd.DataFrame(search.cv_results_)\n",
    "    cols2keep = [col for col in sdf.columns if col=='params' or col.startswith('split')]\n",
    "    sdf = sdf[cols2keep]\n",
    "    sdf.columns = pd.MultiIndex.from_tuples([(np.nan, col) if col=='params' else (col[:6], col[12:]) for col in sdf.columns])\n",
    "    sdf = (sdf.stack(0)\n",
    "       .ffill()\n",
    "       .reset_index()\n",
    "       .drop(columns=['level_0'])\n",
    "       .dropna(how='any', axis=0)\n",
    "       .rename(columns={\"level_1\": \"split\"})\n",
    "      )\n",
    "    \n",
    "    sdf['estimator_name'] = search.estimator.steps[-1][-1].__class__.__name__\n",
    "    sdf['best_estimator'] = search.best_estimator_\n",
    "    return sdf[['estimator_name', 'params', 'split', 'accuracy', 'precision', 'recall', 'best_estimator']]"
   ]
  },
  {
   "cell_type": "code",
   "execution_count": 254,
   "id": "ebc3a280",
   "metadata": {},
   "outputs": [],
   "source": [
    "def average_over_splits(sdf):\n",
    "    return (sdf.assign(params=lambda x: x['params'].apply(str))\n",
    "            .groupby(['estimator_name', 'params'])\n",
    "            .agg({\n",
    "                'accuracy': np.mean,\n",
    "                'precision': np.mean,\n",
    "                'recall': np.mean,\n",
    "                'best_estimator': lambda g: next(iter(g)),\n",
    "            })\n",
    "            .sort_values(by='accuracy', ascending=False))"
   ]
  },
  {
   "cell_type": "code",
   "execution_count": 273,
   "id": "b07454ef",
   "metadata": {},
   "outputs": [
    {
     "name": "stderr",
     "output_type": "stream",
     "text": [
      "/Users/bdsaglam/miniconda3/envs/di501/lib/python3.9/site-packages/sklearn/metrics/_classification.py:1308: UndefinedMetricWarning: Precision is ill-defined and being set to 0.0 in labels with no predicted samples. Use `zero_division` parameter to control this behavior.\n",
      "  _warn_prf(average, modifier, msg_start, len(result))\n",
      "/Users/bdsaglam/miniconda3/envs/di501/lib/python3.9/site-packages/sklearn/metrics/_classification.py:1308: UndefinedMetricWarning: Precision is ill-defined and being set to 0.0 in labels with no predicted samples. Use `zero_division` parameter to control this behavior.\n",
      "  _warn_prf(average, modifier, msg_start, len(result))\n",
      "/Users/bdsaglam/miniconda3/envs/di501/lib/python3.9/site-packages/sklearn/metrics/_classification.py:1308: UndefinedMetricWarning: Precision is ill-defined and being set to 0.0 in labels with no predicted samples. Use `zero_division` parameter to control this behavior.\n",
      "  _warn_prf(average, modifier, msg_start, len(result))\n",
      "/Users/bdsaglam/miniconda3/envs/di501/lib/python3.9/site-packages/sklearn/metrics/_classification.py:1308: UndefinedMetricWarning: Precision is ill-defined and being set to 0.0 in labels with no predicted samples. Use `zero_division` parameter to control this behavior.\n",
      "  _warn_prf(average, modifier, msg_start, len(result))\n",
      "/Users/bdsaglam/miniconda3/envs/di501/lib/python3.9/site-packages/sklearn/metrics/_classification.py:1308: UndefinedMetricWarning: Precision is ill-defined and being set to 0.0 in labels with no predicted samples. Use `zero_division` parameter to control this behavior.\n",
      "  _warn_prf(average, modifier, msg_start, len(result))\n",
      "/Users/bdsaglam/miniconda3/envs/di501/lib/python3.9/site-packages/sklearn/metrics/_classification.py:1308: UndefinedMetricWarning: Precision is ill-defined and being set to 0.0 in labels with no predicted samples. Use `zero_division` parameter to control this behavior.\n",
      "  _warn_prf(average, modifier, msg_start, len(result))\n",
      "/Users/bdsaglam/miniconda3/envs/di501/lib/python3.9/site-packages/sklearn/metrics/_classification.py:1308: UndefinedMetricWarning: Precision is ill-defined and being set to 0.0 in labels with no predicted samples. Use `zero_division` parameter to control this behavior.\n",
      "  _warn_prf(average, modifier, msg_start, len(result))\n",
      "/Users/bdsaglam/miniconda3/envs/di501/lib/python3.9/site-packages/sklearn/metrics/_classification.py:1308: UndefinedMetricWarning: Precision is ill-defined and being set to 0.0 in labels with no predicted samples. Use `zero_division` parameter to control this behavior.\n",
      "  _warn_prf(average, modifier, msg_start, len(result))\n",
      "/Users/bdsaglam/miniconda3/envs/di501/lib/python3.9/site-packages/sklearn/metrics/_classification.py:1308: UndefinedMetricWarning: Precision is ill-defined and being set to 0.0 in labels with no predicted samples. Use `zero_division` parameter to control this behavior.\n",
      "  _warn_prf(average, modifier, msg_start, len(result))\n",
      "/Users/bdsaglam/miniconda3/envs/di501/lib/python3.9/site-packages/sklearn/metrics/_classification.py:1308: UndefinedMetricWarning: Precision is ill-defined and being set to 0.0 in labels with no predicted samples. Use `zero_division` parameter to control this behavior.\n",
      "  _warn_prf(average, modifier, msg_start, len(result))\n",
      "/Users/bdsaglam/miniconda3/envs/di501/lib/python3.9/site-packages/sklearn/metrics/_classification.py:1308: UndefinedMetricWarning: Precision is ill-defined and being set to 0.0 in labels with no predicted samples. Use `zero_division` parameter to control this behavior.\n",
      "  _warn_prf(average, modifier, msg_start, len(result))\n",
      "/Users/bdsaglam/miniconda3/envs/di501/lib/python3.9/site-packages/sklearn/metrics/_classification.py:1308: UndefinedMetricWarning: Precision is ill-defined and being set to 0.0 in labels with no predicted samples. Use `zero_division` parameter to control this behavior.\n",
      "  _warn_prf(average, modifier, msg_start, len(result))\n",
      "/Users/bdsaglam/miniconda3/envs/di501/lib/python3.9/site-packages/sklearn/metrics/_classification.py:1308: UndefinedMetricWarning: Precision is ill-defined and being set to 0.0 in labels with no predicted samples. Use `zero_division` parameter to control this behavior.\n",
      "  _warn_prf(average, modifier, msg_start, len(result))\n",
      "/Users/bdsaglam/miniconda3/envs/di501/lib/python3.9/site-packages/sklearn/metrics/_classification.py:1308: UndefinedMetricWarning: Precision is ill-defined and being set to 0.0 in labels with no predicted samples. Use `zero_division` parameter to control this behavior.\n",
      "  _warn_prf(average, modifier, msg_start, len(result))\n",
      "/Users/bdsaglam/miniconda3/envs/di501/lib/python3.9/site-packages/sklearn/metrics/_classification.py:1308: UndefinedMetricWarning: Precision is ill-defined and being set to 0.0 in labels with no predicted samples. Use `zero_division` parameter to control this behavior.\n",
      "  _warn_prf(average, modifier, msg_start, len(result))\n",
      "/Users/bdsaglam/miniconda3/envs/di501/lib/python3.9/site-packages/sklearn/metrics/_classification.py:1308: UndefinedMetricWarning: Precision is ill-defined and being set to 0.0 in labels with no predicted samples. Use `zero_division` parameter to control this behavior.\n",
      "  _warn_prf(average, modifier, msg_start, len(result))\n",
      "/Users/bdsaglam/miniconda3/envs/di501/lib/python3.9/site-packages/sklearn/metrics/_classification.py:1308: UndefinedMetricWarning: Precision is ill-defined and being set to 0.0 in labels with no predicted samples. Use `zero_division` parameter to control this behavior.\n",
      "  _warn_prf(average, modifier, msg_start, len(result))\n",
      "/Users/bdsaglam/miniconda3/envs/di501/lib/python3.9/site-packages/sklearn/metrics/_classification.py:1308: UndefinedMetricWarning: Precision is ill-defined and being set to 0.0 in labels with no predicted samples. Use `zero_division` parameter to control this behavior.\n",
      "  _warn_prf(average, modifier, msg_start, len(result))\n",
      "/Users/bdsaglam/miniconda3/envs/di501/lib/python3.9/site-packages/sklearn/metrics/_classification.py:1308: UndefinedMetricWarning: Precision is ill-defined and being set to 0.0 in labels with no predicted samples. Use `zero_division` parameter to control this behavior.\n",
      "  _warn_prf(average, modifier, msg_start, len(result))\n",
      "/Users/bdsaglam/miniconda3/envs/di501/lib/python3.9/site-packages/sklearn/metrics/_classification.py:1308: UndefinedMetricWarning: Precision is ill-defined and being set to 0.0 in labels with no predicted samples. Use `zero_division` parameter to control this behavior.\n",
      "  _warn_prf(average, modifier, msg_start, len(result))\n",
      "/Users/bdsaglam/miniconda3/envs/di501/lib/python3.9/site-packages/sklearn/metrics/_classification.py:1308: UndefinedMetricWarning: Precision is ill-defined and being set to 0.0 in labels with no predicted samples. Use `zero_division` parameter to control this behavior.\n",
      "  _warn_prf(average, modifier, msg_start, len(result))\n",
      "/Users/bdsaglam/miniconda3/envs/di501/lib/python3.9/site-packages/sklearn/metrics/_classification.py:1308: UndefinedMetricWarning: Precision is ill-defined and being set to 0.0 in labels with no predicted samples. Use `zero_division` parameter to control this behavior.\n",
      "  _warn_prf(average, modifier, msg_start, len(result))\n",
      "/Users/bdsaglam/miniconda3/envs/di501/lib/python3.9/site-packages/sklearn/metrics/_classification.py:1308: UndefinedMetricWarning: Precision is ill-defined and being set to 0.0 in labels with no predicted samples. Use `zero_division` parameter to control this behavior.\n",
      "  _warn_prf(average, modifier, msg_start, len(result))\n",
      "/Users/bdsaglam/miniconda3/envs/di501/lib/python3.9/site-packages/sklearn/metrics/_classification.py:1308: UndefinedMetricWarning: Precision is ill-defined and being set to 0.0 in labels with no predicted samples. Use `zero_division` parameter to control this behavior.\n",
      "  _warn_prf(average, modifier, msg_start, len(result))\n",
      "/Users/bdsaglam/miniconda3/envs/di501/lib/python3.9/site-packages/sklearn/metrics/_classification.py:1308: UndefinedMetricWarning: Precision is ill-defined and being set to 0.0 in labels with no predicted samples. Use `zero_division` parameter to control this behavior.\n",
      "  _warn_prf(average, modifier, msg_start, len(result))\n",
      "/Users/bdsaglam/miniconda3/envs/di501/lib/python3.9/site-packages/sklearn/metrics/_classification.py:1308: UndefinedMetricWarning: Precision is ill-defined and being set to 0.0 in labels with no predicted samples. Use `zero_division` parameter to control this behavior.\n",
      "  _warn_prf(average, modifier, msg_start, len(result))\n",
      "/Users/bdsaglam/miniconda3/envs/di501/lib/python3.9/site-packages/sklearn/metrics/_classification.py:1308: UndefinedMetricWarning: Precision is ill-defined and being set to 0.0 in labels with no predicted samples. Use `zero_division` parameter to control this behavior.\n",
      "  _warn_prf(average, modifier, msg_start, len(result))\n",
      "/Users/bdsaglam/miniconda3/envs/di501/lib/python3.9/site-packages/sklearn/metrics/_classification.py:1308: UndefinedMetricWarning: Precision is ill-defined and being set to 0.0 in labels with no predicted samples. Use `zero_division` parameter to control this behavior.\n",
      "  _warn_prf(average, modifier, msg_start, len(result))\n",
      "/Users/bdsaglam/miniconda3/envs/di501/lib/python3.9/site-packages/sklearn/metrics/_classification.py:1308: UndefinedMetricWarning: Precision is ill-defined and being set to 0.0 in labels with no predicted samples. Use `zero_division` parameter to control this behavior.\n",
      "  _warn_prf(average, modifier, msg_start, len(result))\n",
      "/Users/bdsaglam/miniconda3/envs/di501/lib/python3.9/site-packages/sklearn/metrics/_classification.py:1308: UndefinedMetricWarning: Precision is ill-defined and being set to 0.0 in labels with no predicted samples. Use `zero_division` parameter to control this behavior.\n",
      "  _warn_prf(average, modifier, msg_start, len(result))\n",
      "/Users/bdsaglam/miniconda3/envs/di501/lib/python3.9/site-packages/sklearn/metrics/_classification.py:1308: UndefinedMetricWarning: Precision is ill-defined and being set to 0.0 in labels with no predicted samples. Use `zero_division` parameter to control this behavior.\n",
      "  _warn_prf(average, modifier, msg_start, len(result))\n",
      "/Users/bdsaglam/miniconda3/envs/di501/lib/python3.9/site-packages/sklearn/metrics/_classification.py:1308: UndefinedMetricWarning: Precision is ill-defined and being set to 0.0 in labels with no predicted samples. Use `zero_division` parameter to control this behavior.\n",
      "  _warn_prf(average, modifier, msg_start, len(result))\n",
      "/Users/bdsaglam/miniconda3/envs/di501/lib/python3.9/site-packages/sklearn/metrics/_classification.py:1308: UndefinedMetricWarning: Precision is ill-defined and being set to 0.0 in labels with no predicted samples. Use `zero_division` parameter to control this behavior.\n",
      "  _warn_prf(average, modifier, msg_start, len(result))\n",
      "/Users/bdsaglam/miniconda3/envs/di501/lib/python3.9/site-packages/sklearn/metrics/_classification.py:1308: UndefinedMetricWarning: Precision is ill-defined and being set to 0.0 in labels with no predicted samples. Use `zero_division` parameter to control this behavior.\n",
      "  _warn_prf(average, modifier, msg_start, len(result))\n",
      "/Users/bdsaglam/miniconda3/envs/di501/lib/python3.9/site-packages/sklearn/metrics/_classification.py:1308: UndefinedMetricWarning: Precision is ill-defined and being set to 0.0 in labels with no predicted samples. Use `zero_division` parameter to control this behavior.\n",
      "  _warn_prf(average, modifier, msg_start, len(result))\n",
      "/Users/bdsaglam/miniconda3/envs/di501/lib/python3.9/site-packages/sklearn/metrics/_classification.py:1308: UndefinedMetricWarning: Precision is ill-defined and being set to 0.0 in labels with no predicted samples. Use `zero_division` parameter to control this behavior.\n",
      "  _warn_prf(average, modifier, msg_start, len(result))\n",
      "/Users/bdsaglam/miniconda3/envs/di501/lib/python3.9/site-packages/sklearn/metrics/_classification.py:1308: UndefinedMetricWarning: Precision is ill-defined and being set to 0.0 in labels with no predicted samples. Use `zero_division` parameter to control this behavior.\n",
      "  _warn_prf(average, modifier, msg_start, len(result))\n",
      "/Users/bdsaglam/miniconda3/envs/di501/lib/python3.9/site-packages/sklearn/metrics/_classification.py:1308: UndefinedMetricWarning: Precision is ill-defined and being set to 0.0 in labels with no predicted samples. Use `zero_division` parameter to control this behavior.\n",
      "  _warn_prf(average, modifier, msg_start, len(result))\n",
      "/Users/bdsaglam/miniconda3/envs/di501/lib/python3.9/site-packages/sklearn/metrics/_classification.py:1308: UndefinedMetricWarning: Precision is ill-defined and being set to 0.0 in labels with no predicted samples. Use `zero_division` parameter to control this behavior.\n",
      "  _warn_prf(average, modifier, msg_start, len(result))\n",
      "/Users/bdsaglam/miniconda3/envs/di501/lib/python3.9/site-packages/sklearn/metrics/_classification.py:1308: UndefinedMetricWarning: Precision is ill-defined and being set to 0.0 in labels with no predicted samples. Use `zero_division` parameter to control this behavior.\n",
      "  _warn_prf(average, modifier, msg_start, len(result))\n"
     ]
    }
   ],
   "source": [
    "from sklearn.neighbors import KNeighborsClassifier\n",
    "from sklearn.tree import DecisionTreeClassifier\n",
    "from sklearn.linear_model import LogisticRegression\n",
    "from sklearn.ensemble import RandomForestClassifier\n",
    "\n",
    "model_param_grids = [\n",
    "    (\n",
    "        RandomForestClassifier(), \n",
    "        dict(\n",
    "            preprocessor__numerical__pca__n_components=[3,5,7,11],\n",
    "            # preprocessor__categorical__feat_selection__k=[10, 20, 30],\n",
    "            model__min_samples_leaf = [3, 10],\n",
    "            model__n_estimators = [40],\n",
    "            model__max_features=['auto'],\n",
    "        )\n",
    "    ),\n",
    "]\n",
    "\n",
    "sdf = pd.concat([\n",
    "    fmt_search_results(\n",
    "        make_searcher(Pipeline([('preprocessor', make_preprocessor(x_train)), ('model', model)]), pg)\n",
    "            .fit(x_train, y_train.values.ravel())\n",
    "    ) \n",
    "    for (model, pg) in model_param_grids\n",
    "])"
   ]
  },
  {
   "cell_type": "code",
   "execution_count": 274,
   "id": "139259cc",
   "metadata": {},
   "outputs": [
    {
     "data": {
      "text/html": [
       "<div>\n",
       "<style scoped>\n",
       "    .dataframe tbody tr th:only-of-type {\n",
       "        vertical-align: middle;\n",
       "    }\n",
       "\n",
       "    .dataframe tbody tr th {\n",
       "        vertical-align: top;\n",
       "    }\n",
       "\n",
       "    .dataframe thead th {\n",
       "        text-align: right;\n",
       "    }\n",
       "</style>\n",
       "<table border=\"1\" class=\"dataframe\">\n",
       "  <thead>\n",
       "    <tr style=\"text-align: right;\">\n",
       "      <th></th>\n",
       "      <th></th>\n",
       "      <th>accuracy</th>\n",
       "      <th>precision</th>\n",
       "      <th>recall</th>\n",
       "      <th>best_estimator</th>\n",
       "    </tr>\n",
       "    <tr>\n",
       "      <th>estimator_name</th>\n",
       "      <th>params</th>\n",
       "      <th></th>\n",
       "      <th></th>\n",
       "      <th></th>\n",
       "      <th></th>\n",
       "    </tr>\n",
       "  </thead>\n",
       "  <tbody>\n",
       "    <tr>\n",
       "      <th rowspan=\"8\" valign=\"top\">RandomForestClassifier</th>\n",
       "      <th>{'model__max_features': 'auto', 'model__min_samples_leaf': 3, 'model__n_estimators': 40, 'preprocessor__numerical__pca__n_components': 3}</th>\n",
       "      <td>0.564384</td>\n",
       "      <td>0.528886</td>\n",
       "      <td>0.564384</td>\n",
       "      <td>(ColumnTransformer(transformers=[('numerical',...</td>\n",
       "    </tr>\n",
       "    <tr>\n",
       "      <th>{'model__max_features': 'auto', 'model__min_samples_leaf': 3, 'model__n_estimators': 40, 'preprocessor__numerical__pca__n_components': 11}</th>\n",
       "      <td>0.563699</td>\n",
       "      <td>0.533603</td>\n",
       "      <td>0.563699</td>\n",
       "      <td>(ColumnTransformer(transformers=[('numerical',...</td>\n",
       "    </tr>\n",
       "    <tr>\n",
       "      <th>{'model__max_features': 'auto', 'model__min_samples_leaf': 3, 'model__n_estimators': 40, 'preprocessor__numerical__pca__n_components': 5}</th>\n",
       "      <td>0.557534</td>\n",
       "      <td>0.525980</td>\n",
       "      <td>0.557534</td>\n",
       "      <td>(ColumnTransformer(transformers=[('numerical',...</td>\n",
       "    </tr>\n",
       "    <tr>\n",
       "      <th>{'model__max_features': 'auto', 'model__min_samples_leaf': 10, 'model__n_estimators': 40, 'preprocessor__numerical__pca__n_components': 11}</th>\n",
       "      <td>0.554795</td>\n",
       "      <td>0.500598</td>\n",
       "      <td>0.554795</td>\n",
       "      <td>(ColumnTransformer(transformers=[('numerical',...</td>\n",
       "    </tr>\n",
       "    <tr>\n",
       "      <th>{'model__max_features': 'auto', 'model__min_samples_leaf': 3, 'model__n_estimators': 40, 'preprocessor__numerical__pca__n_components': 7}</th>\n",
       "      <td>0.552055</td>\n",
       "      <td>0.530098</td>\n",
       "      <td>0.552055</td>\n",
       "      <td>(ColumnTransformer(transformers=[('numerical',...</td>\n",
       "    </tr>\n",
       "    <tr>\n",
       "      <th>{'model__max_features': 'auto', 'model__min_samples_leaf': 10, 'model__n_estimators': 40, 'preprocessor__numerical__pca__n_components': 5}</th>\n",
       "      <td>0.547260</td>\n",
       "      <td>0.508082</td>\n",
       "      <td>0.547260</td>\n",
       "      <td>(ColumnTransformer(transformers=[('numerical',...</td>\n",
       "    </tr>\n",
       "    <tr>\n",
       "      <th>{'model__max_features': 'auto', 'model__min_samples_leaf': 10, 'model__n_estimators': 40, 'preprocessor__numerical__pca__n_components': 7}</th>\n",
       "      <td>0.543151</td>\n",
       "      <td>0.494788</td>\n",
       "      <td>0.543151</td>\n",
       "      <td>(ColumnTransformer(transformers=[('numerical',...</td>\n",
       "    </tr>\n",
       "    <tr>\n",
       "      <th>{'model__max_features': 'auto', 'model__min_samples_leaf': 10, 'model__n_estimators': 40, 'preprocessor__numerical__pca__n_components': 3}</th>\n",
       "      <td>0.542466</td>\n",
       "      <td>0.487473</td>\n",
       "      <td>0.542466</td>\n",
       "      <td>(ColumnTransformer(transformers=[('numerical',...</td>\n",
       "    </tr>\n",
       "  </tbody>\n",
       "</table>\n",
       "</div>"
      ],
      "text/plain": [
       "                                                                           accuracy  \\\n",
       "estimator_name         params                                                         \n",
       "RandomForestClassifier {'model__max_features': 'auto', 'model__min_sam...  0.564384   \n",
       "                       {'model__max_features': 'auto', 'model__min_sam...  0.563699   \n",
       "                       {'model__max_features': 'auto', 'model__min_sam...  0.557534   \n",
       "                       {'model__max_features': 'auto', 'model__min_sam...  0.554795   \n",
       "                       {'model__max_features': 'auto', 'model__min_sam...  0.552055   \n",
       "                       {'model__max_features': 'auto', 'model__min_sam...  0.547260   \n",
       "                       {'model__max_features': 'auto', 'model__min_sam...  0.543151   \n",
       "                       {'model__max_features': 'auto', 'model__min_sam...  0.542466   \n",
       "\n",
       "                                                                           precision  \\\n",
       "estimator_name         params                                                          \n",
       "RandomForestClassifier {'model__max_features': 'auto', 'model__min_sam...   0.528886   \n",
       "                       {'model__max_features': 'auto', 'model__min_sam...   0.533603   \n",
       "                       {'model__max_features': 'auto', 'model__min_sam...   0.525980   \n",
       "                       {'model__max_features': 'auto', 'model__min_sam...   0.500598   \n",
       "                       {'model__max_features': 'auto', 'model__min_sam...   0.530098   \n",
       "                       {'model__max_features': 'auto', 'model__min_sam...   0.508082   \n",
       "                       {'model__max_features': 'auto', 'model__min_sam...   0.494788   \n",
       "                       {'model__max_features': 'auto', 'model__min_sam...   0.487473   \n",
       "\n",
       "                                                                             recall  \\\n",
       "estimator_name         params                                                         \n",
       "RandomForestClassifier {'model__max_features': 'auto', 'model__min_sam...  0.564384   \n",
       "                       {'model__max_features': 'auto', 'model__min_sam...  0.563699   \n",
       "                       {'model__max_features': 'auto', 'model__min_sam...  0.557534   \n",
       "                       {'model__max_features': 'auto', 'model__min_sam...  0.554795   \n",
       "                       {'model__max_features': 'auto', 'model__min_sam...  0.552055   \n",
       "                       {'model__max_features': 'auto', 'model__min_sam...  0.547260   \n",
       "                       {'model__max_features': 'auto', 'model__min_sam...  0.543151   \n",
       "                       {'model__max_features': 'auto', 'model__min_sam...  0.542466   \n",
       "\n",
       "                                                                                                              best_estimator  \n",
       "estimator_name         params                                                                                                 \n",
       "RandomForestClassifier {'model__max_features': 'auto', 'model__min_sam...  (ColumnTransformer(transformers=[('numerical',...  \n",
       "                       {'model__max_features': 'auto', 'model__min_sam...  (ColumnTransformer(transformers=[('numerical',...  \n",
       "                       {'model__max_features': 'auto', 'model__min_sam...  (ColumnTransformer(transformers=[('numerical',...  \n",
       "                       {'model__max_features': 'auto', 'model__min_sam...  (ColumnTransformer(transformers=[('numerical',...  \n",
       "                       {'model__max_features': 'auto', 'model__min_sam...  (ColumnTransformer(transformers=[('numerical',...  \n",
       "                       {'model__max_features': 'auto', 'model__min_sam...  (ColumnTransformer(transformers=[('numerical',...  \n",
       "                       {'model__max_features': 'auto', 'model__min_sam...  (ColumnTransformer(transformers=[('numerical',...  \n",
       "                       {'model__max_features': 'auto', 'model__min_sam...  (ColumnTransformer(transformers=[('numerical',...  "
      ]
     },
     "execution_count": 274,
     "metadata": {},
     "output_type": "execute_result"
    }
   ],
   "source": [
    "avg_score_df = average_over_splits(sdf)\n",
    "avg_score_df"
   ]
  },
  {
   "cell_type": "code",
   "execution_count": 275,
   "id": "05b95f1d",
   "metadata": {},
   "outputs": [],
   "source": [
    "m = sdf.reset_index().loc[0, 'best_estimator']"
   ]
  },
  {
   "cell_type": "code",
   "execution_count": 258,
   "id": "1634b267",
   "metadata": {},
   "outputs": [],
   "source": [
    "# m.set_params(\n",
    "#     preprocessor__numerical__pca__n_components=7,\n",
    "#     preprocessor__categorical__feat_selection__k=30,\n",
    "#     model__min_samples_leaf = 3,\n",
    "#     model__n_estimators = 40,\n",
    "#     model__max_features='auto',\n",
    "# )\n",
    "# m = m.fit(x_train, y_train)"
   ]
  },
  {
   "cell_type": "code",
   "execution_count": 260,
   "id": "76239894",
   "metadata": {},
   "outputs": [],
   "source": [
    "feat_selector = m.named_steps['preprocessor'].transformers_[1][1].named_steps['feat_selection']"
   ]
  },
  {
   "cell_type": "code",
   "execution_count": 261,
   "id": "ae69fabf",
   "metadata": {},
   "outputs": [
    {
     "data": {
      "text/plain": [
       "array([False,  True, False,  True,  True,  True,  True, False,  True,\n",
       "       False,  True, False,  True,  True,  True,  True,  True,  True,\n",
       "       False,  True,  True,  True,  True, False,  True,  True,  True,\n",
       "        True,  True,  True,  True,  True,  True, False,  True, False,\n",
       "        True,  True,  True])"
      ]
     },
     "execution_count": 261,
     "metadata": {},
     "output_type": "execute_result"
    }
   ],
   "source": [
    "feat_selector.get_support()"
   ]
  },
  {
   "cell_type": "code",
   "execution_count": 195,
   "id": "5b5a82fa",
   "metadata": {},
   "outputs": [
    {
     "data": {
      "text/plain": [
       "array(['BldgType', 'BsmtExposure', 'BsmtFinType1', 'BsmtFinType2',\n",
       "       'BsmtQual', 'Condition1', 'Electrical', 'ExterQual', 'Exterior1st',\n",
       "       'Exterior2nd', 'Fence', 'FireplaceQu', 'Foundation', 'GarageCond',\n",
       "       'GarageFinish', 'GarageQual', 'GarageType', 'HeatingQC',\n",
       "       'HouseStyle', 'KitchenQual', 'LandContour', 'LandSlope',\n",
       "       'LotConfig', 'LotShape', 'MSZoning', 'MasVnrType', 'PavedDrive',\n",
       "       'RoofMatl', 'RoofStyle', 'Utilities'], dtype=object)"
      ]
     },
     "execution_count": 195,
     "metadata": {},
     "output_type": "execute_result"
    }
   ],
   "source": [
    "feat_selector.get_feature_names_out()"
   ]
  },
  {
   "cell_type": "code",
   "execution_count": 196,
   "id": "0bfa3504",
   "metadata": {},
   "outputs": [
    {
     "data": {
      "text/plain": [
       "array(['Alley', 'BldgType', 'BsmtCond', 'BsmtExposure', 'BsmtFinType1',\n",
       "       'BsmtFinType2', 'BsmtQual', 'CentralAir', 'Condition1',\n",
       "       'Condition2', 'Electrical', 'ExterCond', 'ExterQual',\n",
       "       'Exterior1st', 'Exterior2nd', 'Fence', 'FireplaceQu', 'Foundation',\n",
       "       'Functional', 'GarageCond', 'GarageFinish', 'GarageQual',\n",
       "       'GarageType', 'Heating', 'HeatingQC', 'HouseStyle', 'KitchenQual',\n",
       "       'LandContour', 'LandSlope', 'LotConfig', 'LotShape', 'MSZoning',\n",
       "       'MasVnrType', 'MiscFeature', 'PavedDrive', 'PoolQC', 'RoofMatl',\n",
       "       'RoofStyle', 'Utilities'], dtype=object)"
      ]
     },
     "execution_count": 196,
     "metadata": {},
     "output_type": "execute_result"
    }
   ],
   "source": [
    "feat_selector.feature_names_in_"
   ]
  },
  {
   "cell_type": "code",
   "execution_count": 276,
   "id": "6c28f1e8",
   "metadata": {},
   "outputs": [],
   "source": [
    "rf = m.steps[1][1]"
   ]
  },
  {
   "cell_type": "code",
   "execution_count": 277,
   "id": "56c0af98",
   "metadata": {},
   "outputs": [
    {
     "data": {
      "text/plain": [
       "<BarContainer object of 253 artists>"
      ]
     },
     "execution_count": 277,
     "metadata": {},
     "output_type": "execute_result"
    },
    {
     "data": {
      "image/png": "[encoded data removed]",
      "text/plain": [
       "<Figure size 432x288 with 1 Axes>"
      ]
     },
     "metadata": {
      "needs_background": "light"
     },
     "output_type": "display_data"
    }
   ],
   "source": [
    "plt.bar(range(len(rf.feature_importances_)), rf.feature_importances_)"
   ]
  },
  {
   "cell_type": "markdown",
   "id": "6dc75f88",
   "metadata": {},
   "source": [
    "## Evaluation"
   ]
  },
  {
   "cell_type": "code",
   "execution_count": 278,
   "id": "98aa2d8a",
   "metadata": {},
   "outputs": [
    {
     "data": {
      "image/png": "[encoded data removed]",
      "text/plain": [
       "<Figure size 864x864 with 2 Axes>"
      ]
     },
     "metadata": {
      "needs_background": "light"
     },
     "output_type": "display_data"
    },
    {
     "name": "stdout",
     "output_type": "stream",
     "text": [
      "              precision    recall  f1-score   support\n",
      "\n",
      "         1.0       0.00      0.00      0.00         2\n",
      "         2.0       0.00      0.00      0.00        10\n",
      "         3.0       1.00      0.05      0.10        20\n",
      "         4.0       0.58      0.20      0.30       110\n",
      "         5.0       0.60      0.79      0.68       428\n",
      "         6.0       0.52      0.50      0.51       357\n",
      "         7.0       0.57      0.63      0.60       281\n",
      "         8.0       0.63      0.54      0.58       174\n",
      "         9.0       0.58      0.44      0.50        64\n",
      "        10.0       0.25      0.08      0.12        13\n",
      "\n",
      "    accuracy                           0.58      1459\n",
      "   macro avg       0.47      0.32      0.34      1459\n",
      "weighted avg       0.57      0.58      0.56      1459\n",
      "\n"
     ]
    }
   ],
   "source": [
    "from sklearn.metrics import confusion_matrix, ConfusionMatrixDisplay, classification_report\n",
    "\n",
    "y_pred = m.predict(x_test.values)\n",
    "cm = confusion_matrix(y_test.values.ravel(), y_pred, labels=m.classes_)\n",
    "disp = ConfusionMatrixDisplay(confusion_matrix=cm, display_labels=m.classes_)\n",
    "fig, ax = plt.subplots(figsize=(12,12))\n",
    "disp.plot(ax=ax)\n",
    "ax.xaxis.set_tick_params(rotation=90)\n",
    "plt.show()\n",
    "print(classification_report(y_test, y_pred))"
   ]
  },
  {
   "cell_type": "code",
   "execution_count": null,
   "id": "16997eb2",
   "metadata": {},
   "outputs": [],
   "source": [
    "corr = odf.corr()\n",
    "plt.subplots(figsize=(15,12))\n",
    "sns.heatmap(corr, vmin=-1, vmax=1, cmap=sns.color_palette(\"vlag\", as_cmap=True), square=True)"
   ]
  },
  {
   "cell_type": "code",
   "execution_count": null,
   "id": "8bf513ac",
   "metadata": {},
   "outputs": [],
   "source": [
    "tab = pd.crosstab(df['PoolQC'], df['Neighborhood'])\n",
    "tab"
   ]
  },
  {
   "cell_type": "code",
   "execution_count": null,
   "id": "12161fea",
   "metadata": {},
   "outputs": [],
   "source": [
    "z, p, dof, ex = stats.chi2_contingency(tab)\n",
    "print(\"p value:%.4f\" % p)\n",
    "if p < 0.05:    \n",
    "    print(\"Reject null hypothesis >> dependent\")\n",
    "else:\n",
    "    print(\"Fail to reject null hypothesis >> independent\")"
   ]
  },
  {
   "cell_type": "code",
   "execution_count": null,
   "id": "8eb044e0",
   "metadata": {},
   "outputs": [],
   "source": [
    "x_train[categs] = x_train[categs].apply(lambda x: x.cat.codes)"
   ]
  },
  {
   "cell_type": "code",
   "execution_count": null,
   "id": "5ec7ceb6",
   "metadata": {},
   "outputs": [],
   "source": [
    "from sklearn.datasets import load_iris\n",
    "from sklearn.feature_selection import SelectKBest\n",
    "from sklearn.feature_selection import chi2\n",
    "\n",
    "x_train[categs] = x_train[categs].apply(lambda x: x.cat.codes)\n",
    "y_train = y_train.cat.codes\n",
    "x_train_red = SelectKBest(chi2, k=2).fit_transform(x_train, y_train)\n",
    "x_train_red.shape\n"
   ]
  },
  {
   "cell_type": "code",
   "execution_count": null,
   "id": "a197d3f6",
   "metadata": {},
   "outputs": [],
   "source": [
    "y_train.cat.codes"
   ]
  },
  {
   "cell_type": "code",
   "execution_count": null,
   "id": "671e5e0a",
   "metadata": {},
   "outputs": [],
   "source": [
    "x_train.values"
   ]
  },
  {
   "cell_type": "code",
   "execution_count": null,
   "id": "d1f2f6e3",
   "metadata": {},
   "outputs": [],
   "source": [
    "sns.pairplot(df[numericals[:3] + [target_variable]], hue=target_variable)"
   ]
  },
  {
   "cell_type": "markdown",
   "id": "28d5b1f5",
   "metadata": {},
   "source": [
    "<h3 style=\"margin-bottom:0\">3) PCA</h3>"
   ]
  },
  {
   "cell_type": "markdown",
   "id": "dccd3bc9",
   "metadata": {},
   "source": [
    "For the following use mushroom data.\n",
    "\n",
    "    a) Apply PCA to feature columns (x1..x40) and find the principal components.\n",
    "    b) Plot explained variance ratios for the principal components.\n",
    "    c) Determine the most appropriate number of principal components to represent the features in a lower dimensional space while preserving as much information as possible.\n",
    "    d) Apply the two best performing algorithms above on the new dataset that is created by PCA. Did your algorithm's accuracy improve? Comment."
   ]
  },
  {
   "cell_type": "markdown",
   "id": "93d405ea",
   "metadata": {},
   "source": [
    "Let's apply PCA over numerical variables."
   ]
  },
  {
   "cell_type": "code",
   "execution_count": null,
   "id": "47a00192",
   "metadata": {},
   "outputs": [],
   "source": [
    "def make_preprocessor_without_categs():\n",
    "    numeric_transformer = Pipeline([\n",
    "        ('imputer', SimpleImputer(missing_values=np.nan, strategy='mean')),\n",
    "        (\n",
    "            'scaler', \n",
    "             ColumnTransformer([\n",
    "                ('scaler_sym', StandardScaler(), sym_col_indices),\n",
    "                ('scaler_skewed', MinMaxScaler(), skewed_col_indices),\n",
    "             ])\n",
    "        )\n",
    "    ])\n",
    "    preprocessor = ColumnTransformer([\n",
    "        ('numerical', numeric_transformer, numerical_col_indices),\n",
    "        \n",
    "    ])\n",
    "    return preprocessor"
   ]
  },
  {
   "cell_type": "code",
   "execution_count": null,
   "id": "65e42fd7",
   "metadata": {},
   "outputs": [],
   "source": [
    "from sklearn.decomposition import PCA\n",
    "\n",
    "ppca = Pipeline([\n",
    "    ('preprocessor', make_preprocessor_without_categs()), \n",
    "    ('pca', PCA()), \n",
    "])\n",
    "pca = ppca.steps[1][1]\n",
    "x_train_nums_pca = ppca.fit_transform(x_train[numericals].values)"
   ]
  },
  {
   "cell_type": "code",
   "execution_count": null,
   "id": "b03032d4",
   "metadata": {},
   "outputs": [],
   "source": [
    "icomps = range(1, x_train_nums_pca.shape[-1]+1)\n",
    "vrs = pca.explained_variance_ratio_\n",
    "\n",
    "plt.figure(figsize=(16, 8))\n",
    "plt.bar(icomps, vrs)\n",
    "plt.xticks(icomps)\n",
    "for icomp, vr in zip(icomps, vrs):\n",
    "    plt.annotate(f'{vr:.1%}', xy=(icomp, vr), ha='center', va='bottom')"
   ]
  },
  {
   "cell_type": "code",
   "execution_count": null,
   "id": "131e2b1c",
   "metadata": {},
   "outputs": [],
   "source": [
    "cvrs = np.cumsum(vrs)\n",
    "\n",
    "plt.figure(figsize=(16, 8))\n",
    "plt.plot(icomps, cvrs)\n",
    "plt.xticks(icomps)\n",
    "for icomp, vr in zip(icomps, cvrs):\n",
    "    plt.annotate(f'{vr:.1%}', xy=(icomp-0.2, vr+0.005), ha='center', va='bottom')"
   ]
  },
  {
   "cell_type": "markdown",
   "id": "0f551126",
   "metadata": {},
   "source": [
    "5 components covers ~97.2% of variance in the training set, hence, it's a reasonable number of components for dimensionality reduction with PCA."
   ]
  },
  {
   "cell_type": "markdown",
   "id": "1a8337f7",
   "metadata": {},
   "source": [
    "Let's train best two algorithms `LogisticRegression` and `DecisionTreeClassifier` with different number of PCA components."
   ]
  },
  {
   "cell_type": "code",
   "execution_count": null,
   "id": "6f60d8a2",
   "metadata": {},
   "outputs": [],
   "source": [
    "def make_preprocessor_with_pca_reduction():\n",
    "    numeric_transformer = Pipeline([\n",
    "        ('imputer', SimpleImputer(missing_values=np.nan, strategy='mean')),\n",
    "        (\n",
    "            'scaler', \n",
    "             ColumnTransformer([\n",
    "                ('scaler_sym', StandardScaler(), sym_col_indices),\n",
    "                ('scaler_skewed', MinMaxScaler(), skewed_col_indices),\n",
    "             ])\n",
    "        ),\n",
    "        ('pca', PCA())\n",
    "    ])\n",
    "    categorical_transformer = Pipeline([\n",
    "        ('imputer', SimpleImputer(missing_values=np.nan, strategy='constant', fill_value=-1)),\n",
    "        ('onehot_encoder', OneHotEncoder(handle_unknown='ignore'))\n",
    "    ])\n",
    "    preprocessor = ColumnTransformer([\n",
    "        ('numerical', numeric_transformer, numerical_col_indices),\n",
    "        ('categorical', categorical_transformer, categ_col_indices),\n",
    "    ])\n",
    "    return preprocessor"
   ]
  },
  {
   "cell_type": "code",
   "execution_count": null,
   "id": "5d98127c",
   "metadata": {},
   "outputs": [],
   "source": [
    "model_param_grids = [\n",
    "    (DecisionTreeClassifier(), dict(model__min_samples_leaf = [10], preprocessor__numerical__pca__n_components=[3,5,7])),\n",
    "    (LogisticRegression(max_iter=1000), dict(model__C=[1.5], preprocessor__numerical__pca__n_components=[3,5,7]))\n",
    "]\n",
    "\n",
    "psdf = pd.concat([\n",
    "    fmt_search_results(\n",
    "        make_searcher(Pipeline([('preprocessor', make_preprocessor_with_pca_reduction()), ('model', model)]), pg)\n",
    "            .fit(x_train, y_train.values.ravel())\n",
    "    ) \n",
    "    for (model, pg) in model_param_grids\n",
    "])"
   ]
  },
  {
   "cell_type": "code",
   "execution_count": null,
   "id": "228d11a2",
   "metadata": {},
   "outputs": [],
   "source": [
    "average_over_splits(psdf)"
   ]
  },
  {
   "cell_type": "markdown",
   "id": "3520d99e",
   "metadata": {},
   "source": [
    "The classification scores dropped with reduced dataset for both algorithms."
   ]
  },
  {
   "cell_type": "code",
   "execution_count": null,
   "id": "9bdf7eec",
   "metadata": {},
   "outputs": [],
   "source": []
  },
  {
   "cell_type": "code",
   "execution_count": null,
   "id": "ff35f3b6",
   "metadata": {},
   "outputs": [],
   "source": [
    "corr = odf.corr()\n",
    "corr.style.background_gradient(cmap='coolwarm')"
   ]
  }
 ],
 "metadata": {
  "kernelspec": {
   "display_name": "Python 3 (ipykernel)",
   "language": "python",
   "name": "python3"
  },
  "language_info": {
   "codemirror_mode": {
    "name": "ipython",
    "version": 3
   },
   "file_extension": ".py",
   "mimetype": "text/x-python",
   "name": "python",
   "nbconvert_exporter": "python",
   "pygments_lexer": "ipython3",
   "version": "3.9.7"
  }
 },
 "nbformat": 4,
 "nbformat_minor": 5
}
