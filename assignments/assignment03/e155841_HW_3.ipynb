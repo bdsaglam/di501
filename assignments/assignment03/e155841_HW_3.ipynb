{
 "cells": [
  {
   "cell_type": "markdown",
   "id": "8c1b82e6",
   "metadata": {},
   "source": [
    "<h1 style=\"margin-bottom:0\"><center>DI 501 - Introduction to Data Informatics</center></h1>\n",
    "<h2 style=\"margin-top:0\"><center>Assignment #3</center></h2>\n",
    "<h3 style=\"margin-top:0\"><center>Due: December 12, Sunday 23:59</center></h3>\n",
    "<br>\n",
    "<p style=\"margin-top:0\"><center><b>This assignment is prepared for DI 501 - Introduction to Data Informatics course offered by  Middle East Technical University.</b></center></p>\n",
    "<hr style=\"height:2px;color:navy;margin-top:0\">\n",
    "<p style=\"margin-top:0; text-align: justify; font-size:15px\">The objectives of this assignment are:\n",
    "    <li>You will be able to apply data preprocessing concepts on a given problem </li>\n",
    "    <li>You will be able to understand and apply missingness mechanisms and imputation methods to a given problem.</li>\n",
    "    <li>You will be able to perform data profiling.</li>\n",
    "    \n",
    "### Submission and Grading Policy ###\n",
    "<p style=\"margin-top:0\"><center><b></b></center></p>\n",
    "  \n",
    "- Submit your assignments to the corresponding assignment link in https://odtuclass.metu.edu.tr.\n",
    "- Solutions should be submitted in a single **ipynb** file named: metu-username_HW_2.ipynb (e.g., “e123456_HW_2.ipynb”).\n",
    "- Late submissions will be accepted by December 15, 2021, 23:59 with a 5% per day penalty.\n",
    "- Do not change variable names in the code blocks and the texts in the markdowns.\n",
    "- **<font color=#C91414>This is an individual assignment. Please do not collaborate. You have to adhere to the academic integrity principles.</font>** \n",
    "- If needed, you are required to explain your reasonings by adding new blocks below your codes."
   ]
  },
  {
   "cell_type": "markdown",
   "id": "31bcce7e",
   "metadata": {},
   "source": [
    "<h3 style=\"margin-bottom:0\">Import Libraries</h3>"
   ]
  },
  {
   "cell_type": "markdown",
   "id": "a621c298",
   "metadata": {},
   "source": [
    "Here, please import the necessary libraries to conduct your analysis here."
   ]
  },
  {
   "cell_type": "code",
   "execution_count": 54,
   "id": "99bac8ff",
   "metadata": {},
   "outputs": [],
   "source": [
    "### answer ###\n",
    "%matplotlib inline\n",
    "import pandas as pd\n",
    "import numpy as np\n",
    "\n",
    "import matplotlib.pyplot as plt\n",
    "import seaborn as sns"
   ]
  },
  {
   "cell_type": "markdown",
   "id": "a0722e89",
   "metadata": {},
   "source": [
    "<h3 style=\"margin-bottom:0\">1) Data (5 pts)</h3>"
   ]
  },
  {
   "cell_type": "markdown",
   "id": "debeb8b4",
   "metadata": {},
   "source": [
    "We will be utilizing a dataset that is prepared particularly for this exercise. The meaning of individual elements is not important here but we will provide information which will be sufficient for you to conduct your further operations:\n",
    "- x1: categorical variable that can take values between 0 and 4.\n",
    "- x2: categorical variable that can take values of low, medium and high.\n",
    "- x3: categorical variable that can take values of A, B, C and D.\n",
    "- x4: continuous variable.\n",
    "- x5: continuous variable.\n",
    "- y: categorical variable that can take values between 0 and 3.\n",
    "\n",
    "Please import data with correct delimiter here and retrieve the first 5 rows."
   ]
  },
  {
   "cell_type": "code",
   "execution_count": 55,
   "id": "9abad382",
   "metadata": {
    "scrolled": true
   },
   "outputs": [
    {
     "data": {
      "text/html": [
       "<div>\n",
       "<style scoped>\n",
       "    .dataframe tbody tr th:only-of-type {\n",
       "        vertical-align: middle;\n",
       "    }\n",
       "\n",
       "    .dataframe tbody tr th {\n",
       "        vertical-align: top;\n",
       "    }\n",
       "\n",
       "    .dataframe thead th {\n",
       "        text-align: right;\n",
       "    }\n",
       "</style>\n",
       "<table border=\"1\" class=\"dataframe\">\n",
       "  <thead>\n",
       "    <tr style=\"text-align: right;\">\n",
       "      <th></th>\n",
       "      <th>x1</th>\n",
       "      <th>x2</th>\n",
       "      <th>x3</th>\n",
       "      <th>x4</th>\n",
       "      <th>x5</th>\n",
       "      <th>y</th>\n",
       "    </tr>\n",
       "  </thead>\n",
       "  <tbody>\n",
       "    <tr>\n",
       "      <th>0</th>\n",
       "      <td>3</td>\n",
       "      <td>MEDIUM</td>\n",
       "      <td>B</td>\n",
       "      <td>71.87353865111545</td>\n",
       "      <td>77.27994181308213</td>\n",
       "      <td>0</td>\n",
       "    </tr>\n",
       "    <tr>\n",
       "      <th>1</th>\n",
       "      <td>2</td>\n",
       "      <td>medium</td>\n",
       "      <td>C</td>\n",
       "      <td>76.32969292828467</td>\n",
       "      <td>123.50976228245605</td>\n",
       "      <td>3</td>\n",
       "    </tr>\n",
       "    <tr>\n",
       "      <th>2</th>\n",
       "      <td>2</td>\n",
       "      <td>medium</td>\n",
       "      <td>AB</td>\n",
       "      <td>84.72681676261608</td>\n",
       "      <td>94.11303401429247</td>\n",
       "      <td>0</td>\n",
       "    </tr>\n",
       "    <tr>\n",
       "      <th>3</th>\n",
       "      <td>1</td>\n",
       "      <td>low</td>\n",
       "      <td>D</td>\n",
       "      <td>90.89495327283925</td>\n",
       "      <td>131.0801255597466</td>\n",
       "      <td>0</td>\n",
       "    </tr>\n",
       "    <tr>\n",
       "      <th>4</th>\n",
       "      <td>1</td>\n",
       "      <td>medium</td>\n",
       "      <td>B</td>\n",
       "      <td>91.37755200701073</td>\n",
       "      <td>78.42142573456847</td>\n",
       "      <td>1</td>\n",
       "    </tr>\n",
       "  </tbody>\n",
       "</table>\n",
       "</div>"
      ],
      "text/plain": [
       "  x1       x2  x3                 x4                  x5  y\n",
       "0  3   MEDIUM   B  71.87353865111545   77.27994181308213  0\n",
       "1  2  medium    C  76.32969292828467  123.50976228245605  3\n",
       "2  2   medium  AB  84.72681676261608   94.11303401429247  0\n",
       "3  1      low   D  90.89495327283925   131.0801255597466  0\n",
       "4  1   medium   B  91.37755200701073   78.42142573456847  1"
      ]
     },
     "execution_count": 55,
     "metadata": {},
     "output_type": "execute_result"
    }
   ],
   "source": [
    "### answer ###\n",
    "df = pd.read_csv(\"./data.csv\", delimiter=\",\")\n",
    "df.head(5)"
   ]
  },
  {
   "cell_type": "markdown",
   "id": "2e3eb88c",
   "metadata": {},
   "source": [
    "Check the datatypes of each column to see whether we need any adjustments."
   ]
  },
  {
   "cell_type": "code",
   "execution_count": 56,
   "id": "07e43545",
   "metadata": {},
   "outputs": [
    {
     "data": {
      "text/plain": [
       "x1    object\n",
       "x2    object\n",
       "x3    object\n",
       "x4    object\n",
       "x5    object\n",
       "y     object\n",
       "dtype: object"
      ]
     },
     "execution_count": 56,
     "metadata": {},
     "output_type": "execute_result"
    }
   ],
   "source": [
    "### answer ###\n",
    "df.dtypes"
   ]
  },
  {
   "cell_type": "markdown",
   "id": "d8c6534d",
   "metadata": {},
   "source": [
    "<h3 style=\"margin-bottom:0\">2) Preprocessing (45 pts)</h3>"
   ]
  },
  {
   "cell_type": "markdown",
   "id": "0207b6a7",
   "metadata": {},
   "source": [
    "<h4 style=\"margin-bottom:0\">a) Numerical Values</h4>"
   ]
  },
  {
   "cell_type": "markdown",
   "id": "ef024cf5",
   "metadata": {},
   "source": [
    "First, convert x1, x4, x5 and y variables into numerical columns. In case of an invalid parsing, the value will be set as NaN. Once you have finished it, drop all the rows that have any null values. At the end, you are supposed to show that you have no null values. You should also use \"downcast\" parameter of to_numeric function of pandas and give your reasoning on specific choice."
   ]
  },
  {
   "cell_type": "code",
   "execution_count": 70,
   "id": "c7bc27a7",
   "metadata": {},
   "outputs": [
    {
     "name": "stdout",
     "output_type": "stream",
     "text": [
      "Dataframe dtypes after conversion:\n",
      "x1       uint8\n",
      "x2    category\n",
      "x3    category\n",
      "x4     float32\n",
      "x5     float32\n",
      "y        uint8\n",
      "dtype: object\n",
      "NaN counts before dropping rows with a NaN value:\n",
      "x1    0\n",
      "x2    0\n",
      "x3    0\n",
      "x4    0\n",
      "x5    0\n",
      "y     0\n",
      "dtype: int64\n",
      "NaN counts after dropping rows with a NaN value:\n",
      "x1    0\n",
      "x2    0\n",
      "x3    0\n",
      "x4    0\n",
      "x5    0\n",
      "y     0\n",
      "dtype: int64\n"
     ]
    }
   ],
   "source": [
    "### answer ###\n",
    "\n",
    "# Since x1 variable can take values between 0 and 4, unsigned integer is sufficient to represent it. \n",
    "df[\"x1\"] = pd.to_numeric(df[\"x1\"], errors=\"coerce\", downcast=\"unsigned\")\n",
    "# Similary, y variable can take values between 0 and 3, unsigned integer is sufficient to represent it.\n",
    "df[\"y\"] = pd.to_numeric(df[\"y\"], errors=\"coerce\", downcast=\"unsigned\")\n",
    "# x4 and x5 are continuous variables, hence they must be float.\n",
    "df[\"x4\"] = pd.to_numeric(df[\"x4\"], errors=\"coerce\", downcast=\"float\")\n",
    "df[\"x5\"] = pd.to_numeric(df[\"x5\"], errors=\"coerce\", downcast=\"float\")\n",
    "print(\"Dataframe dtypes after conversion:\")\n",
    "print(df.dtypes)\n",
    "\n",
    "print(f\"NaN counts before dropping rows with a NaN value:\")\n",
    "print(df.isna().sum())\n",
    "\n",
    "df = df.dropna(axis=0, how=\"any\", subset=[\"x1\", \"x4\", \"x5\", \"y\"])\n",
    "print(f\"NaN counts after dropping rows with a NaN value:\")\n",
    "print(df.isna().sum())\n"
   ]
  },
  {
   "cell_type": "markdown",
   "id": "f559a7f0",
   "metadata": {},
   "source": [
    "<h4 style=\"margin-bottom:0\">b) Categorical Values</h4>"
   ]
  },
  {
   "cell_type": "markdown",
   "id": "e05e55ad",
   "metadata": {},
   "source": [
    "For x2, you have 3 categories. However, due to capitalization and spacing differences, you can see you have more than 3 categories. First, calculate the frequency of each different entry for x2 column."
   ]
  },
  {
   "cell_type": "code",
   "execution_count": 71,
   "id": "39438fa2",
   "metadata": {},
   "outputs": [
    {
     "data": {
      "text/plain": [
       "medium    147\n",
       "low        31\n",
       "high       27\n",
       "Name: x2, dtype: int64"
      ]
     },
     "execution_count": 71,
     "metadata": {},
     "output_type": "execute_result"
    }
   ],
   "source": [
    "### answer ###\n",
    "df[\"x2\"].value_counts()"
   ]
  },
  {
   "cell_type": "markdown",
   "id": "07cee91e",
   "metadata": {},
   "source": [
    "Now, convert all the entries into either \"low\", \"medium\" or \"high\" and show that you only have 3 different categories for that variable. "
   ]
  },
  {
   "cell_type": "code",
   "execution_count": 72,
   "id": "dd1275fb",
   "metadata": {},
   "outputs": [
    {
     "data": {
      "text/plain": [
       "medium    147\n",
       "low        31\n",
       "high       27\n",
       "Name: x2, dtype: int64"
      ]
     },
     "execution_count": 72,
     "metadata": {},
     "output_type": "execute_result"
    }
   ],
   "source": [
    "### answer ###\n",
    "def cleanup_x2(text):\n",
    "    # hacky but works for this dataset\n",
    "    first_letter = text.strip().lower()[0]\n",
    "    mapping = {\"l\": \"low\", \"m\": \"medium\", \"h\": \"high\"}\n",
    "    return mapping[first_letter]\n",
    "\n",
    "df['x2'] = df['x2'].apply(cleanup_x2)\n",
    "df['x2'].value_counts()"
   ]
  },
  {
   "cell_type": "markdown",
   "id": "5f08c9ed",
   "metadata": {},
   "source": [
    "Finally, convert x2 into category data type."
   ]
  },
  {
   "cell_type": "code",
   "execution_count": 73,
   "id": "4f993fe5",
   "metadata": {},
   "outputs": [
    {
     "data": {
      "text/plain": [
       "CategoricalDtype(categories=['low', 'medium', 'high'], ordered=True)"
      ]
     },
     "execution_count": 73,
     "metadata": {},
     "output_type": "execute_result"
    }
   ],
   "source": [
    "### answer ###\n",
    "df['x2'] = df['x2'].astype(\"category\").cat.set_categories(['low', 'medium', 'high'], ordered=True)\n",
    "df['x2'].dtype"
   ]
  },
  {
   "cell_type": "markdown",
   "id": "6c30efc6",
   "metadata": {},
   "source": [
    "We also said, x3 can be A, B, C or D. Please find any value that is not either one of them and display them."
   ]
  },
  {
   "cell_type": "code",
   "execution_count": 74,
   "id": "b3351b6c",
   "metadata": {},
   "outputs": [
    {
     "name": "stdout",
     "output_type": "stream",
     "text": [
      "Series([], Name: x3, dtype: category\n",
      "Categories (4, object): ['A' < 'B' < 'C' < 'D'])\n"
     ]
    }
   ],
   "source": [
    "### answer ###\n",
    "invalid_x3_mask = df['x3'].apply(lambda s: s not in {'A', 'B', 'C', 'D'})\n",
    "print(df.loc[invalid_x3_mask, 'x3'])"
   ]
  },
  {
   "cell_type": "markdown",
   "id": "f587ecb4",
   "metadata": {},
   "source": [
    "Now, drop all the rows that have an inconsistent value for x3."
   ]
  },
  {
   "cell_type": "code",
   "execution_count": 75,
   "id": "7ec571b9",
   "metadata": {},
   "outputs": [
    {
     "name": "stdout",
     "output_type": "stream",
     "text": [
      "Empty DataFrame\n",
      "Columns: [x1, x2, x3, x4, x5, y]\n",
      "Index: []\n"
     ]
    }
   ],
   "source": [
    "### answer ###\n",
    "df = df.drop(axis=0, index=df.index[invalid_x3_mask])\n",
    "print(df.loc[df['x3'].apply(lambda s: s not in {'A', 'B', 'C', 'D'})])"
   ]
  },
  {
   "cell_type": "markdown",
   "id": "bc11e420",
   "metadata": {},
   "source": [
    "Finally, you can convert x3 into a category."
   ]
  },
  {
   "cell_type": "code",
   "execution_count": 76,
   "id": "6d5d4b68",
   "metadata": {},
   "outputs": [
    {
     "data": {
      "text/plain": [
       "CategoricalDtype(categories=['A', 'B', 'C', 'D'], ordered=True)"
      ]
     },
     "execution_count": 76,
     "metadata": {},
     "output_type": "execute_result"
    }
   ],
   "source": [
    "### answer ###\n",
    "# assuming x3 values are not ordered\n",
    "df['x3'] = df['x3'].astype(\"category\").cat.set_categories(['A', 'B', 'C', 'D'], ordered=True)\n",
    "df['x3'].dtype"
   ]
  },
  {
   "cell_type": "code",
   "execution_count": 79,
   "id": "28f14e00",
   "metadata": {},
   "outputs": [
    {
     "data": {
      "text/plain": [
       "CategoricalDtype(categories=[0, 1, 2, 3, 4], ordered=False)"
      ]
     },
     "execution_count": 79,
     "metadata": {},
     "output_type": "execute_result"
    }
   ],
   "source": [
    "df['x1'] = df['x1'].astype(\"category\")\n",
    "df['x1'].dtype"
   ]
  },
  {
   "cell_type": "code",
   "execution_count": 80,
   "id": "392c904b",
   "metadata": {},
   "outputs": [
    {
     "data": {
      "text/plain": [
       "CategoricalDtype(categories=[0, 1, 2, 3], ordered=False)"
      ]
     },
     "execution_count": 80,
     "metadata": {},
     "output_type": "execute_result"
    }
   ],
   "source": [
    "df['y'] = df['y'].astype(\"category\")\n",
    "df['y'].dtype"
   ]
  },
  {
   "cell_type": "markdown",
   "id": "4612ff11",
   "metadata": {},
   "source": [
    "Show all of our dataset that each of our columns have correct datatypes."
   ]
  },
  {
   "cell_type": "code",
   "execution_count": 78,
   "id": "84b0f104",
   "metadata": {},
   "outputs": [
    {
     "data": {
      "text/plain": [
       "x1       uint8\n",
       "x2    category\n",
       "x3    category\n",
       "x4     float32\n",
       "x5     float32\n",
       "y     category\n",
       "dtype: object"
      ]
     },
     "execution_count": 78,
     "metadata": {},
     "output_type": "execute_result"
    }
   ],
   "source": [
    "### answer ###\n",
    "df.dtypes"
   ]
  },
  {
   "cell_type": "markdown",
   "id": "39c6ee55",
   "metadata": {},
   "source": [
    "<h4 style=\"margin-bottom:0\">c) Duplicates</h4>"
   ]
  },
  {
   "cell_type": "markdown",
   "id": "3ec75c68",
   "metadata": {},
   "source": [
    "Find <b>full duplicates</b> and return the <b>first occurence</b> of the duplicate values here."
   ]
  },
  {
   "cell_type": "code",
   "execution_count": 83,
   "id": "44df03e3",
   "metadata": {},
   "outputs": [
    {
     "data": {
      "text/html": [
       "<div>\n",
       "<style scoped>\n",
       "    .dataframe tbody tr th:only-of-type {\n",
       "        vertical-align: middle;\n",
       "    }\n",
       "\n",
       "    .dataframe tbody tr th {\n",
       "        vertical-align: top;\n",
       "    }\n",
       "\n",
       "    .dataframe thead th {\n",
       "        text-align: right;\n",
       "    }\n",
       "</style>\n",
       "<table border=\"1\" class=\"dataframe\">\n",
       "  <thead>\n",
       "    <tr style=\"text-align: right;\">\n",
       "      <th></th>\n",
       "      <th>x1</th>\n",
       "      <th>x2</th>\n",
       "      <th>x3</th>\n",
       "      <th>x4</th>\n",
       "      <th>x5</th>\n",
       "      <th>y</th>\n",
       "    </tr>\n",
       "  </thead>\n",
       "  <tbody>\n",
       "    <tr>\n",
       "      <th>59</th>\n",
       "      <td>4</td>\n",
       "      <td>high</td>\n",
       "      <td>B</td>\n",
       "      <td>59.337509</td>\n",
       "      <td>47.873280</td>\n",
       "      <td>3</td>\n",
       "    </tr>\n",
       "    <tr>\n",
       "      <th>86</th>\n",
       "      <td>1</td>\n",
       "      <td>medium</td>\n",
       "      <td>D</td>\n",
       "      <td>93.266113</td>\n",
       "      <td>108.719963</td>\n",
       "      <td>0</td>\n",
       "    </tr>\n",
       "  </tbody>\n",
       "</table>\n",
       "</div>"
      ],
      "text/plain": [
       "   x1      x2 x3         x4          x5  y\n",
       "59  4    high  B  59.337509   47.873280  3\n",
       "86  1  medium  D  93.266113  108.719963  0"
      ]
     },
     "execution_count": 83,
     "metadata": {},
     "output_type": "execute_result"
    }
   ],
   "source": [
    "### answer ###\n",
    "df[df.duplicated(keep='last')]"
   ]
  },
  {
   "cell_type": "markdown",
   "id": "c1fa470a",
   "metadata": {},
   "source": [
    "Now, drop full duplicates and do that  with \"inplace\" and keep the last occurences."
   ]
  },
  {
   "cell_type": "code",
   "execution_count": 87,
   "id": "75bf4f5f",
   "metadata": {},
   "outputs": [
    {
     "data": {
      "text/html": [
       "<div>\n",
       "<style scoped>\n",
       "    .dataframe tbody tr th:only-of-type {\n",
       "        vertical-align: middle;\n",
       "    }\n",
       "\n",
       "    .dataframe tbody tr th {\n",
       "        vertical-align: top;\n",
       "    }\n",
       "\n",
       "    .dataframe thead th {\n",
       "        text-align: right;\n",
       "    }\n",
       "</style>\n",
       "<table border=\"1\" class=\"dataframe\">\n",
       "  <thead>\n",
       "    <tr style=\"text-align: right;\">\n",
       "      <th></th>\n",
       "      <th>x1</th>\n",
       "      <th>x2</th>\n",
       "      <th>x3</th>\n",
       "      <th>x4</th>\n",
       "      <th>x5</th>\n",
       "      <th>y</th>\n",
       "    </tr>\n",
       "  </thead>\n",
       "  <tbody>\n",
       "  </tbody>\n",
       "</table>\n",
       "</div>"
      ],
      "text/plain": [
       "Empty DataFrame\n",
       "Columns: [x1, x2, x3, x4, x5, y]\n",
       "Index: []"
      ]
     },
     "execution_count": 87,
     "metadata": {},
     "output_type": "execute_result"
    }
   ],
   "source": [
    "### answer ###\n",
    "df.drop_duplicates(keep='last', inplace=True)\n",
    "df[df.duplicated(keep='last')]"
   ]
  },
  {
   "cell_type": "markdown",
   "id": "9d5415d0",
   "metadata": {},
   "source": [
    "<h3 style=\"margin-bottom:0\">3) Dealing with Nulls (50 pts)</h3>"
   ]
  },
  {
   "cell_type": "markdown",
   "id": "cc3cb38f",
   "metadata": {},
   "source": [
    "In this section, first construct three different datasets using the following constraints based on the above dataset:\n",
    "\n",
    "DS1: One with MCAR missingness (at least with 20% missingness in two variables).\n",
    "\n",
    "DS2: One with MAR missingness  (at least with 20% missingness in two variables).\n",
    "\n",
    "DS3: One with MNAR missingness (at least with 20% missingness in two variables).\n",
    "\n",
    "For each of the DS1, DS2, and DS3 datasets, you should:\n",
    "- Explain your rationale while creating the missing patterns.\n",
    "- Prove that your data missingness is in the desired form via missingno visualization methods as well as statistical measures (such as cross tabs).\n",
    "\n",
    "Then, select one of them (DS1, DS2 or DS3) and create a training dataset which should be randomly created with 70% of the whole dataset. The testing dataset should include the remaining 30%. Ensure to distribute your missing tuples equally in both datasets. More specifically, 50% of the missing tuples should appear in training and 50% in the testing dataset. Finally:\n",
    "- Apply 2 different types of imputation methods other than deleting column or row. Use your training dataset only while working with imputation techniques. For instance, if you prefer to fill a certain missing data with the mean of the variable, you should calculate the mean on the training dataset only. Then use this calculated value while filling the missing value of that corresponding attribute in the testing dataset.\n",
    "- Compare imputation methods' performance by looking at the correct values on your training and testing dataset separately. For comparison purposes, you can use metrics such as mean squared error, F-score or etc.\n",
    "\n",
    "You should do those steps in order and you can add as many cells as you want below. However, please use markdown cells regularly to clarify your steps. I will not be able to fully grade you unless I understand what you did in your codes.\n",
    "\n",
    "Some useful websites: <br>\n",
    "<a href=\"https://rmisstastic.netlify.app/how-to/python/generate_html/how%20to%20generate%20missing%20values\"> link </a> <br>\n",
    "<a href=\"https://stats.stackexchange.com/questions/462507/how-to-decide-whether-missing-values-are-mar-mcar-or-mnar\"> link </a>"
   ]
  }
 ],
 "metadata": {
  "kernelspec": {
   "display_name": "Python 3",
   "language": "python",
   "name": "python3"
  },
  "language_info": {
   "codemirror_mode": {
    "name": "ipython",
    "version": 3
   },
   "file_extension": ".py",
   "mimetype": "text/x-python",
   "name": "python",
   "nbconvert_exporter": "python",
   "pygments_lexer": "ipython3",
   "version": "3.9.7"
  }
 },
 "nbformat": 4,
 "nbformat_minor": 5
}
