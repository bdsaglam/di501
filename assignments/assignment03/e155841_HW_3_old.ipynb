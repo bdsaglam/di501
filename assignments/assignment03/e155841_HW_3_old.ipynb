{
 "cells": [
  {
   "cell_type": "markdown",
   "id": "8c1b82e6",
   "metadata": {},
   "source": [
    "<h1 style=\"margin-bottom:0\"><center>DI 501 - Introduction to Data Informatics</center></h1>\n",
    "<h2 style=\"margin-top:0\"><center>Assignment #3</center></h2>\n",
    "<h3 style=\"margin-top:0\"><center>Due: December 12, Sunday 23:59</center></h3>\n",
    "<br>\n",
    "<p style=\"margin-top:0\"><center><b>This assignment is prepared for DI 501 - Introduction to Data Informatics course offered by  Middle East Technical University.</b></center></p>\n",
    "<hr style=\"height:2px;color:navy;margin-top:0\">\n",
    "<p style=\"margin-top:0; text-align: justify; font-size:15px\">The objectives of this assignment are:\n",
    "    <li>You will be able to apply data preprocessing concepts on a given problem </li>\n",
    "    <li>You will be able to understand and apply missingness mechanisms and imputation methods to a given problem.</li>\n",
    "    <li>You will be able to perform data profiling.</li>\n",
    "    \n",
    "### Submission and Grading Policy ###\n",
    "<p style=\"margin-top:0\"><center><b></b></center></p>\n",
    "  \n",
    "- Submit your assignments to the corresponding assignment link in https://odtuclass.metu.edu.tr.\n",
    "- Solutions should be submitted in a single **ipynb** file named: metu-username_HW_2.ipynb (e.g., “e123456_HW_2.ipynb”).\n",
    "- Late submissions will be accepted by December 15, 2021, 23:59 with a 5% per day penalty.\n",
    "- Do not change variable names in the code blocks and the texts in the markdowns.\n",
    "- **<font color=#C91414>This is an individual assignment. Please do not collaborate. You have to adhere to the academic integrity principles.</font>** \n",
    "- If needed, you are required to explain your reasonings by adding new blocks below your codes."
   ]
  },
  {
   "cell_type": "markdown",
   "id": "31bcce7e",
   "metadata": {},
   "source": [
    "<h3 style=\"margin-bottom:0\">Import Libraries</h3>"
   ]
  },
  {
   "cell_type": "markdown",
   "id": "a621c298",
   "metadata": {},
   "source": [
    "Here, please import the necessary libraries to conduct your analysis here."
   ]
  },
  {
   "cell_type": "code",
   "execution_count": 1,
   "id": "99bac8ff",
   "metadata": {},
   "outputs": [],
   "source": [
    "### answer ###\n",
    "%matplotlib inline\n",
    "import pandas as pd\n",
    "import numpy as np\n",
    "\n",
    "import matplotlib.pyplot as plt\n",
    "import seaborn as sns\n"
   ]
  },
  {
   "cell_type": "code",
   "execution_count": 2,
   "id": "f5be9746",
   "metadata": {},
   "outputs": [],
   "source": [
    "np.random.seed(42)"
   ]
  },
  {
   "cell_type": "markdown",
   "id": "a0722e89",
   "metadata": {},
   "source": [
    "<h3 style=\"margin-bottom:0\">1) Data (5 pts)</h3>"
   ]
  },
  {
   "cell_type": "markdown",
   "id": "debeb8b4",
   "metadata": {},
   "source": [
    "We will be utilizing a dataset that is prepared particularly for this exercise. The meaning of individual elements is not important here but we will provide information which will be sufficient for you to conduct your further operations:\n",
    "- x1: categorical variable that can take values between 0 and 4.\n",
    "- x2: categorical variable that can take values of low, medium and high.\n",
    "- x3: categorical variable that can take values of A, B, C and D.\n",
    "- x4: continuous variable.\n",
    "- x5: continuous variable.\n",
    "- y: categorical variable that can take values between 0 and 3.\n",
    "\n",
    "Please import data with correct delimiter here and retrieve the first 5 rows."
   ]
  },
  {
   "cell_type": "code",
   "execution_count": 3,
   "id": "9abad382",
   "metadata": {
    "scrolled": true
   },
   "outputs": [
    {
     "data": {
      "text/html": [
       "<div>\n",
       "<style scoped>\n",
       "    .dataframe tbody tr th:only-of-type {\n",
       "        vertical-align: middle;\n",
       "    }\n",
       "\n",
       "    .dataframe tbody tr th {\n",
       "        vertical-align: top;\n",
       "    }\n",
       "\n",
       "    .dataframe thead th {\n",
       "        text-align: right;\n",
       "    }\n",
       "</style>\n",
       "<table border=\"1\" class=\"dataframe\">\n",
       "  <thead>\n",
       "    <tr style=\"text-align: right;\">\n",
       "      <th></th>\n",
       "      <th>x1</th>\n",
       "      <th>x2</th>\n",
       "      <th>x3</th>\n",
       "      <th>x4</th>\n",
       "      <th>x5</th>\n",
       "      <th>y</th>\n",
       "    </tr>\n",
       "  </thead>\n",
       "  <tbody>\n",
       "    <tr>\n",
       "      <th>0</th>\n",
       "      <td>3</td>\n",
       "      <td>MEDIUM</td>\n",
       "      <td>B</td>\n",
       "      <td>71.87353865111545</td>\n",
       "      <td>77.27994181308213</td>\n",
       "      <td>0</td>\n",
       "    </tr>\n",
       "    <tr>\n",
       "      <th>1</th>\n",
       "      <td>2</td>\n",
       "      <td>medium</td>\n",
       "      <td>C</td>\n",
       "      <td>76.32969292828467</td>\n",
       "      <td>123.50976228245605</td>\n",
       "      <td>3</td>\n",
       "    </tr>\n",
       "    <tr>\n",
       "      <th>2</th>\n",
       "      <td>2</td>\n",
       "      <td>medium</td>\n",
       "      <td>AB</td>\n",
       "      <td>84.72681676261608</td>\n",
       "      <td>94.11303401429247</td>\n",
       "      <td>0</td>\n",
       "    </tr>\n",
       "    <tr>\n",
       "      <th>3</th>\n",
       "      <td>1</td>\n",
       "      <td>low</td>\n",
       "      <td>D</td>\n",
       "      <td>90.89495327283925</td>\n",
       "      <td>131.0801255597466</td>\n",
       "      <td>0</td>\n",
       "    </tr>\n",
       "    <tr>\n",
       "      <th>4</th>\n",
       "      <td>1</td>\n",
       "      <td>medium</td>\n",
       "      <td>B</td>\n",
       "      <td>91.37755200701073</td>\n",
       "      <td>78.42142573456847</td>\n",
       "      <td>1</td>\n",
       "    </tr>\n",
       "  </tbody>\n",
       "</table>\n",
       "</div>"
      ],
      "text/plain": [
       "  x1       x2  x3                 x4                  x5  y\n",
       "0  3   MEDIUM   B  71.87353865111545   77.27994181308213  0\n",
       "1  2  medium    C  76.32969292828467  123.50976228245605  3\n",
       "2  2   medium  AB  84.72681676261608   94.11303401429247  0\n",
       "3  1      low   D  90.89495327283925   131.0801255597466  0\n",
       "4  1   medium   B  91.37755200701073   78.42142573456847  1"
      ]
     },
     "execution_count": 3,
     "metadata": {},
     "output_type": "execute_result"
    }
   ],
   "source": [
    "### answer ###\n",
    "df = pd.read_csv(\"./data.csv\", delimiter=\",\")\n",
    "df.head(5)"
   ]
  },
  {
   "cell_type": "markdown",
   "id": "2e3eb88c",
   "metadata": {},
   "source": [
    "Check the datatypes of each column to see whether we need any adjustments."
   ]
  },
  {
   "cell_type": "code",
   "execution_count": 4,
   "id": "07e43545",
   "metadata": {},
   "outputs": [
    {
     "data": {
      "text/plain": [
       "x1    object\n",
       "x2    object\n",
       "x3    object\n",
       "x4    object\n",
       "x5    object\n",
       "y     object\n",
       "dtype: object"
      ]
     },
     "execution_count": 4,
     "metadata": {},
     "output_type": "execute_result"
    }
   ],
   "source": [
    "### answer ###\n",
    "df.dtypes"
   ]
  },
  {
   "cell_type": "markdown",
   "id": "d8c6534d",
   "metadata": {},
   "source": [
    "<h3 style=\"margin-bottom:0\">2) Preprocessing (45 pts)</h3>"
   ]
  },
  {
   "cell_type": "markdown",
   "id": "0207b6a7",
   "metadata": {},
   "source": [
    "<h4 style=\"margin-bottom:0\">a) Numerical Values</h4>"
   ]
  },
  {
   "cell_type": "markdown",
   "id": "ef024cf5",
   "metadata": {},
   "source": [
    "First, convert x1, x4, x5 and y variables into numerical columns. In case of an invalid parsing, the value will be set as NaN. Once you have finished it, drop all the rows that have any null values. At the end, you are supposed to show that you have no null values. You should also use \"downcast\" parameter of to_numeric function of pandas and give your reasoning on specific choice."
   ]
  },
  {
   "cell_type": "code",
   "execution_count": 5,
   "id": "c7bc27a7",
   "metadata": {},
   "outputs": [
    {
     "name": "stdout",
     "output_type": "stream",
     "text": [
      "Dataframe dtypes after conversion:\n",
      "x1    float64\n",
      "x2     object\n",
      "x3     object\n",
      "x4    float32\n",
      "x5    float32\n",
      "y     float64\n",
      "dtype: object\n",
      "NaN counts before dropping rows with a NaN value:\n",
      "x1    1\n",
      "x2    0\n",
      "x3    0\n",
      "x4    2\n",
      "x5    1\n",
      "y     1\n",
      "dtype: int64\n",
      "NaN counts after dropping rows with a NaN value:\n",
      "x1    0\n",
      "x2    0\n",
      "x3    0\n",
      "x4    0\n",
      "x5    0\n",
      "y     0\n",
      "dtype: int64\n"
     ]
    }
   ],
   "source": [
    "### answer ###\n",
    "\n",
    "# Since x1 variable can take values between 0 and 4, unsigned integer is sufficient to represent it. \n",
    "df[\"x1\"] = pd.to_numeric(df[\"x1\"], errors=\"coerce\", downcast=\"unsigned\")\n",
    "# Similary, y variable can take values between 0 and 3, unsigned integer is sufficient to represent it.\n",
    "df[\"y\"] = pd.to_numeric(df[\"y\"], errors=\"coerce\", downcast=\"unsigned\")\n",
    "# x4 and x5 are continuous variables, hence they must be float.\n",
    "df[\"x4\"] = pd.to_numeric(df[\"x4\"], errors=\"coerce\", downcast=\"float\")\n",
    "df[\"x5\"] = pd.to_numeric(df[\"x5\"], errors=\"coerce\", downcast=\"float\")\n",
    "print(\"Dataframe dtypes after conversion:\")\n",
    "print(df.dtypes)\n",
    "\n",
    "print(f\"NaN counts before dropping rows with a NaN value:\")\n",
    "print(df.isna().sum())\n",
    "\n",
    "df = df.dropna(axis=0, how=\"any\", subset=[\"x1\", \"x4\", \"x5\", \"y\"])\n",
    "print(f\"NaN counts after dropping rows with a NaN value:\")\n",
    "print(df.isna().sum())\n"
   ]
  },
  {
   "cell_type": "markdown",
   "id": "f559a7f0",
   "metadata": {},
   "source": [
    "<h4 style=\"margin-bottom:0\">b) Categorical Values</h4>"
   ]
  },
  {
   "cell_type": "markdown",
   "id": "e05e55ad",
   "metadata": {},
   "source": [
    "For x2, you have 3 categories. However, due to capitalization and spacing differences, you can see you have more than 3 categories. First, calculate the frequency of each different entry for x2 column."
   ]
  },
  {
   "cell_type": "code",
   "execution_count": 6,
   "id": "39438fa2",
   "metadata": {},
   "outputs": [
    {
     "data": {
      "text/plain": [
       "medium      142\n",
       "low          29\n",
       "high         24\n",
       "Medium        2\n",
       "MEDIUM        1\n",
       "medium        1\n",
       "lOw           1\n",
       "High          1\n",
       "mEdium        1\n",
       " HIGH         1\n",
       "me\\ndium      1\n",
       " high         1\n",
       " medium       1\n",
       "Low           1\n",
       "Name: x2, dtype: int64"
      ]
     },
     "execution_count": 6,
     "metadata": {},
     "output_type": "execute_result"
    }
   ],
   "source": [
    "### answer ###\n",
    "df[\"x2\"].value_counts()"
   ]
  },
  {
   "cell_type": "markdown",
   "id": "07cee91e",
   "metadata": {},
   "source": [
    "Now, convert all the entries into either \"low\", \"medium\" or \"high\" and show that you only have 3 different categories for that variable. "
   ]
  },
  {
   "cell_type": "code",
   "execution_count": 7,
   "id": "dd1275fb",
   "metadata": {},
   "outputs": [
    {
     "data": {
      "text/plain": [
       "medium    149\n",
       "low        31\n",
       "high       27\n",
       "Name: x2, dtype: int64"
      ]
     },
     "execution_count": 7,
     "metadata": {},
     "output_type": "execute_result"
    }
   ],
   "source": [
    "### answer ###\n",
    "def cleanup_x2(text):\n",
    "    # hacky but works for this dataset\n",
    "    first_letter = text.strip().lower()[0]\n",
    "    mapping = {\"l\": \"low\", \"m\": \"medium\", \"h\": \"high\"}\n",
    "    return mapping[first_letter]\n",
    "\n",
    "df['x2'] = df['x2'].apply(cleanup_x2)\n",
    "df['x2'].value_counts()"
   ]
  },
  {
   "cell_type": "markdown",
   "id": "5f08c9ed",
   "metadata": {},
   "source": [
    "Finally, convert x2 into category data type."
   ]
  },
  {
   "cell_type": "code",
   "execution_count": 8,
   "id": "4f993fe5",
   "metadata": {},
   "outputs": [
    {
     "data": {
      "text/plain": [
       "CategoricalDtype(categories=['low', 'medium', 'high'], ordered=True)"
      ]
     },
     "execution_count": 8,
     "metadata": {},
     "output_type": "execute_result"
    }
   ],
   "source": [
    "### answer ###\n",
    "df['x2'] = df['x2'].astype(\"category\").cat.set_categories(['low', 'medium', 'high'], ordered=True)\n",
    "df['x2'].dtype"
   ]
  },
  {
   "cell_type": "markdown",
   "id": "6c30efc6",
   "metadata": {},
   "source": [
    "We also said, x3 can be A, B, C or D. Please find any value that is not either one of them and display them."
   ]
  },
  {
   "cell_type": "code",
   "execution_count": 9,
   "id": "b3351b6c",
   "metadata": {},
   "outputs": [
    {
     "name": "stdout",
     "output_type": "stream",
     "text": [
      "2     AB\n",
      "44     E\n",
      "Name: x3, dtype: object\n"
     ]
    }
   ],
   "source": [
    "### answer ###\n",
    "invalid_x3_mask = df['x3'].apply(lambda s: s not in {'A', 'B', 'C', 'D'})\n",
    "print(df.loc[invalid_x3_mask, 'x3'])"
   ]
  },
  {
   "cell_type": "markdown",
   "id": "f587ecb4",
   "metadata": {},
   "source": [
    "Now, drop all the rows that have an inconsistent value for x3."
   ]
  },
  {
   "cell_type": "code",
   "execution_count": 10,
   "id": "7ec571b9",
   "metadata": {},
   "outputs": [
    {
     "name": "stdout",
     "output_type": "stream",
     "text": [
      "Empty DataFrame\n",
      "Columns: [x1, x2, x3, x4, x5, y]\n",
      "Index: []\n"
     ]
    }
   ],
   "source": [
    "### answer ###\n",
    "df = df.drop(axis=0, index=df.index[invalid_x3_mask])\n",
    "print(df.loc[df['x3'].apply(lambda s: s not in {'A', 'B', 'C', 'D'})])"
   ]
  },
  {
   "cell_type": "markdown",
   "id": "bc11e420",
   "metadata": {},
   "source": [
    "Finally, you can convert x3 into a category."
   ]
  },
  {
   "cell_type": "code",
   "execution_count": 11,
   "id": "6d5d4b68",
   "metadata": {},
   "outputs": [
    {
     "data": {
      "text/plain": [
       "CategoricalDtype(categories=['A', 'B', 'C', 'D'], ordered=True)"
      ]
     },
     "execution_count": 11,
     "metadata": {},
     "output_type": "execute_result"
    }
   ],
   "source": [
    "### answer ###\n",
    "# assuming x3 values are not ordered\n",
    "df['x3'] = df['x3'].astype(\"category\").cat.set_categories(['A', 'B', 'C', 'D'], ordered=True)\n",
    "df['x3'].dtype"
   ]
  },
  {
   "cell_type": "code",
   "execution_count": 12,
   "id": "28f14e00",
   "metadata": {},
   "outputs": [
    {
     "data": {
      "text/plain": [
       "CategoricalDtype(categories=[0.0, 1.0, 2.0, 3.0, 4.0], ordered=False)"
      ]
     },
     "execution_count": 12,
     "metadata": {},
     "output_type": "execute_result"
    }
   ],
   "source": [
    "df['x1'] = df['x1'].astype(\"category\")\n",
    "df['x1'].dtype"
   ]
  },
  {
   "cell_type": "code",
   "execution_count": 13,
   "id": "392c904b",
   "metadata": {},
   "outputs": [
    {
     "data": {
      "text/plain": [
       "CategoricalDtype(categories=[0.0, 1.0, 2.0, 3.0], ordered=False)"
      ]
     },
     "execution_count": 13,
     "metadata": {},
     "output_type": "execute_result"
    }
   ],
   "source": [
    "df['y'] = df['y'].astype(\"category\")\n",
    "df['y'].dtype"
   ]
  },
  {
   "cell_type": "markdown",
   "id": "4612ff11",
   "metadata": {},
   "source": [
    "Show all of our dataset that each of our columns have correct datatypes."
   ]
  },
  {
   "cell_type": "code",
   "execution_count": 14,
   "id": "84b0f104",
   "metadata": {},
   "outputs": [
    {
     "data": {
      "text/plain": [
       "x1    category\n",
       "x2    category\n",
       "x3    category\n",
       "x4     float32\n",
       "x5     float32\n",
       "y     category\n",
       "dtype: object"
      ]
     },
     "execution_count": 14,
     "metadata": {},
     "output_type": "execute_result"
    }
   ],
   "source": [
    "### answer ###\n",
    "df.dtypes"
   ]
  },
  {
   "cell_type": "markdown",
   "id": "39c6ee55",
   "metadata": {},
   "source": [
    "<h4 style=\"margin-bottom:0\">c) Duplicates</h4>"
   ]
  },
  {
   "cell_type": "markdown",
   "id": "3ec75c68",
   "metadata": {},
   "source": [
    "Find <b>full duplicates</b> and return the <b>first occurence</b> of the duplicate values here."
   ]
  },
  {
   "cell_type": "code",
   "execution_count": 15,
   "id": "44df03e3",
   "metadata": {},
   "outputs": [
    {
     "data": {
      "text/html": [
       "<div>\n",
       "<style scoped>\n",
       "    .dataframe tbody tr th:only-of-type {\n",
       "        vertical-align: middle;\n",
       "    }\n",
       "\n",
       "    .dataframe tbody tr th {\n",
       "        vertical-align: top;\n",
       "    }\n",
       "\n",
       "    .dataframe thead th {\n",
       "        text-align: right;\n",
       "    }\n",
       "</style>\n",
       "<table border=\"1\" class=\"dataframe\">\n",
       "  <thead>\n",
       "    <tr style=\"text-align: right;\">\n",
       "      <th></th>\n",
       "      <th>x1</th>\n",
       "      <th>x2</th>\n",
       "      <th>x3</th>\n",
       "      <th>x4</th>\n",
       "      <th>x5</th>\n",
       "      <th>y</th>\n",
       "    </tr>\n",
       "  </thead>\n",
       "  <tbody>\n",
       "    <tr>\n",
       "      <th>59</th>\n",
       "      <td>4.0</td>\n",
       "      <td>high</td>\n",
       "      <td>B</td>\n",
       "      <td>59.337509</td>\n",
       "      <td>47.873280</td>\n",
       "      <td>3.0</td>\n",
       "    </tr>\n",
       "    <tr>\n",
       "      <th>86</th>\n",
       "      <td>1.0</td>\n",
       "      <td>medium</td>\n",
       "      <td>D</td>\n",
       "      <td>93.266113</td>\n",
       "      <td>108.719963</td>\n",
       "      <td>0.0</td>\n",
       "    </tr>\n",
       "  </tbody>\n",
       "</table>\n",
       "</div>"
      ],
      "text/plain": [
       "     x1      x2 x3         x4          x5    y\n",
       "59  4.0    high  B  59.337509   47.873280  3.0\n",
       "86  1.0  medium  D  93.266113  108.719963  0.0"
      ]
     },
     "execution_count": 15,
     "metadata": {},
     "output_type": "execute_result"
    }
   ],
   "source": [
    "### answer ###\n",
    "df[df.duplicated(keep='last')]"
   ]
  },
  {
   "cell_type": "markdown",
   "id": "c1fa470a",
   "metadata": {},
   "source": [
    "Now, drop full duplicates and do that  with \"inplace\" and keep the last occurences."
   ]
  },
  {
   "cell_type": "code",
   "execution_count": 16,
   "id": "75bf4f5f",
   "metadata": {},
   "outputs": [
    {
     "data": {
      "text/html": [
       "<div>\n",
       "<style scoped>\n",
       "    .dataframe tbody tr th:only-of-type {\n",
       "        vertical-align: middle;\n",
       "    }\n",
       "\n",
       "    .dataframe tbody tr th {\n",
       "        vertical-align: top;\n",
       "    }\n",
       "\n",
       "    .dataframe thead th {\n",
       "        text-align: right;\n",
       "    }\n",
       "</style>\n",
       "<table border=\"1\" class=\"dataframe\">\n",
       "  <thead>\n",
       "    <tr style=\"text-align: right;\">\n",
       "      <th></th>\n",
       "      <th>x1</th>\n",
       "      <th>x2</th>\n",
       "      <th>x3</th>\n",
       "      <th>x4</th>\n",
       "      <th>x5</th>\n",
       "      <th>y</th>\n",
       "    </tr>\n",
       "  </thead>\n",
       "  <tbody>\n",
       "  </tbody>\n",
       "</table>\n",
       "</div>"
      ],
      "text/plain": [
       "Empty DataFrame\n",
       "Columns: [x1, x2, x3, x4, x5, y]\n",
       "Index: []"
      ]
     },
     "execution_count": 16,
     "metadata": {},
     "output_type": "execute_result"
    }
   ],
   "source": [
    "### answer ###\n",
    "df.drop_duplicates(keep='last', inplace=True)\n",
    "df[df.duplicated(keep='last')]"
   ]
  },
  {
   "cell_type": "markdown",
   "id": "9d5415d0",
   "metadata": {},
   "source": [
    "<h3 style=\"margin-bottom:0\">3) Dealing with Nulls (50 pts)</h3>"
   ]
  },
  {
   "cell_type": "markdown",
   "id": "cc3cb38f",
   "metadata": {},
   "source": [
    "In this section, first construct three different datasets using the following constraints based on the above dataset:\n",
    "\n",
    "DS1: One with MCAR missingness (at least with 20% missingness in two variables).\n",
    "\n",
    "DS2: One with MAR missingness  (at least with 20% missingness in two variables).\n",
    "\n",
    "DS3: One with MNAR missingness (at least with 20% missingness in two variables).\n",
    "\n",
    "For each of the DS1, DS2, and DS3 datasets, you should:\n",
    "- Explain your rationale while creating the missing patterns.\n",
    "- Prove that your data missingness is in the desired form via missingno visualization methods as well as statistical measures (such as cross tabs).\n",
    "\n",
    "Then, select one of them (DS1, DS2 or DS3) and create a training dataset which should be randomly created with 70% of the whole dataset. The testing dataset should include the remaining 30%. Ensure to distribute your missing tuples equally in both datasets. More specifically, 50% of the missing tuples should appear in training and 50% in the testing dataset. Finally:\n",
    "- Apply 2 different types of imputation methods other than deleting column or row. Use your training dataset only while working with imputation techniques. For instance, if you prefer to fill a certain missing data with the mean of the variable, you should calculate the mean on the training dataset only. Then use this calculated value while filling the missing value of that corresponding attribute in the testing dataset.\n",
    "- Compare imputation methods' performance by looking at the correct values on your training and testing dataset separately. For comparison purposes, you can use metrics such as mean squared error, F-score or etc.\n",
    "\n",
    "You should do those steps in order and you can add as many cells as you want below. However, please use markdown cells regularly to clarify your steps. I will not be able to fully grade you unless I understand what you did in your codes.\n",
    "\n",
    "Some useful websites: <br>\n",
    "<a href=\"https://rmisstastic.netlify.app/how-to/python/generate_html/how%20to%20generate%20missing%20values\"> link </a> <br>\n",
    "<a href=\"https://stats.stackexchange.com/questions/462507/how-to-decide-whether-missing-values-are-mar-mcar-or-mnar\"> link </a>"
   ]
  },
  {
   "cell_type": "code",
   "execution_count": 17,
   "id": "45563136",
   "metadata": {},
   "outputs": [],
   "source": [
    "import numpy as np\n",
    "from scipy import optimize\n",
    "\n",
    "import missingno as msno"
   ]
  },
  {
   "cell_type": "markdown",
   "id": "d5f0e6a7",
   "metadata": {},
   "source": [
    "### Generate MCAR, MAR and MNAR datasets\n",
    "\n",
    "Let's first define the functions to create MCAR, MAR and MNAR missing masks\n",
    "\n",
    "- x1: categorical variable that can take values between 0 and 4.\n",
    "- x2: categorical variable that can take values of low, medium and high.\n",
    "- x3: categorical variable that can take values of A, B, C and D.\n",
    "- x4: continuous variable.\n",
    "- x5: continuous variable.\n",
    "- y: categorical variable that can take values between 0 and 3."
   ]
  },
  {
   "cell_type": "markdown",
   "id": "17df6227",
   "metadata": {},
   "source": [
    "For MCAR missing values, since it's completely random, we can generate random values and use them as missingness mask."
   ]
  },
  {
   "cell_type": "code",
   "execution_count": 18,
   "id": "089e159b",
   "metadata": {},
   "outputs": [],
   "source": [
    "def missing_rate_of(mask):\n",
    "    return mask.sum(axis=0) / mask.shape[0]\n",
    "\n",
    "#\n",
    "def MCAR_mask(X, p, max_trials=100):\n",
    "    shape = X.shape\n",
    "    i = 0\n",
    "    while i < max_trials:\n",
    "        i += 1\n",
    "        mask = np.random.rand(*shape) <= (p + 0.05)\n",
    "        if np.min(missing_rate_of(mask)) >= p:\n",
    "            return mask\n",
    "    raise ValueError(f\"Can't generate a missing mask for rate {rate}\")"
   ]
  },
  {
   "cell_type": "code",
   "execution_count": 19,
   "id": "a8795673",
   "metadata": {},
   "outputs": [],
   "source": [
    "# from https://github.com/BorisMuzellec/MissingDataOT/blob/master/utils.py\n",
    "\n",
    "def MAR_mask(X, p, p_obs):\n",
    "    \"\"\"\n",
    "    Missing at random mechanism with a logistic masking model. First, a subset of variables with *no* missing values is\n",
    "    randomly selected. The remaining variables have missing values according to a logistic model with random weights,\n",
    "    re-scaled so as to attain the desired proportion of missing values on those variables.\n",
    "    Parameters\n",
    "    ----------\n",
    "    X : np.ndarray, shape (n, d)\n",
    "        Data for which missing values will be simulated. If a numpy array is provided,\n",
    "        it will be converted to a pytorch tensor.\n",
    "    p : float\n",
    "        Proportion of missing values to generate for variables which will have missing values.\n",
    "    p_obs : float\n",
    "        Proportion of variables with *no* missing values that will be used for the logistic masking model.\n",
    "    Returns\n",
    "    -------\n",
    "    mask : np.ndarray (depending on type of X)\n",
    "        Mask of generated missing values (True if the value is missing).\n",
    "    \"\"\"\n",
    "\n",
    "    n, d = X.shape\n",
    "\n",
    "    mask = np.zeros((n, d)).astype(bool)\n",
    "\n",
    "    d_obs = max(int(p_obs * d), 1) ## number of variables that will have no missing values (at least one variable)\n",
    "    d_na = d - d_obs ## number of variables that will have missing values\n",
    "\n",
    "    ### Sample variables that will all be observed, and those with missing values:\n",
    "    idxs_obs = np.random.choice(d, d_obs, replace=False)\n",
    "    idxs_nas = np.array([i for i in range(d) if i not in idxs_obs])\n",
    "\n",
    "    ### Other variables will have NA proportions that depend on those observed variables, through a logistic model\n",
    "    ### The parameters of this logistic model are random.\n",
    "\n",
    "    ### Pick coefficients so that W^Tx has unit variance (avoids shrinking)\n",
    "    coeffs = pick_coeffs(X, idxs_obs, idxs_nas)\n",
    "    ### Pick the intercepts to have a desired amount of missing values\n",
    "    intercepts = fit_intercepts(X[:, idxs_obs], coeffs, p)\n",
    "\n",
    "    ps = sigmoid(X[:, idxs_obs].mm(coeffs) + intercepts)\n",
    "\n",
    "    ber = np.random.rand(n, d_na)\n",
    "    mask[:, idxs_nas] = ber < ps\n",
    "\n",
    "    return mask\n"
   ]
  },
  {
   "cell_type": "markdown",
   "id": "a4abe163",
   "metadata": {},
   "source": [
    "For MNAR missing values, the missing values must depend on the values of variables. \n",
    "Hence, we use logistic regression with the data as input to generate missingness mask."
   ]
  },
  {
   "cell_type": "code",
   "execution_count": 20,
   "id": "69004632",
   "metadata": {},
   "outputs": [],
   "source": [
    "# from https://github.com/BorisMuzellec/MissingDataOT/blob/master/utils.py\n",
    "\n",
    "\n",
    "def MNAR_mask_logistic(X, p, p_params =.3, exclude_inputs=True):\n",
    "    \"\"\"\n",
    "    Missing not at random mechanism with a logistic masking model. It implements two mechanisms:\n",
    "    (i) Missing probabilities are selected with a logistic model, taking all variables as inputs. Hence, values that are\n",
    "    inputs can also be missing.\n",
    "    (ii) Variables are split into a set of intputs for a logistic model, and a set whose missing probabilities are\n",
    "    determined by the logistic model. Then inputs are then masked MCAR (hence, missing values from the second set will\n",
    "    depend on masked values.\n",
    "    In either case, weights are random and the intercept is selected to attain the desired proportion of missing values.\n",
    "    Parameters\n",
    "    ----------\n",
    "    X : np.ndarray, shape (n, d)\n",
    "        Data for which missing values will be simulated.\n",
    "    p : float\n",
    "        Proportion of missing values to generate for variables which will have missing values.\n",
    "    p_params : float\n",
    "        Proportion of variables that will be used for the logistic masking model (only if exclude_inputs).\n",
    "    exclude_inputs : boolean, default=True\n",
    "        True: mechanism (ii) is used, False: (i)\n",
    "    Returns\n",
    "    -------\n",
    "    mask : np.ndarray (depending on type of X)\n",
    "        Mask of generated missing values (True if the value is missing).\n",
    "    \"\"\"\n",
    "\n",
    "    n, d = X.shape\n",
    "\n",
    "    mask = np.zeros((n, d)).astype(bool)\n",
    "\n",
    "    d_params = max(int(p_params * d), 1) if exclude_inputs else d ## number of variables used as inputs (at least 1)\n",
    "    d_na = d - d_params if exclude_inputs else d ## number of variables masked with the logistic model\n",
    "\n",
    "    ### Sample variables that will be parameters for the logistic regression:\n",
    "    idxs_params = np.random.choice(d, d_params, replace=False) if exclude_inputs else np.arange(d)\n",
    "    idxs_nas = np.array([i for i in range(d) if i not in idxs_params]) if exclude_inputs else np.arange(d)\n",
    "\n",
    "    ### Other variables will have NA proportions selected by a logistic model\n",
    "    ### The parameters of this logistic model are random.\n",
    "\n",
    "    ### Pick coefficients so that W^Tx has unit variance (avoids shrinking)\n",
    "    coeffs = pick_coeffs(X, idxs_params, idxs_nas)\n",
    "    ### Pick the intercepts to have a desired amount of missing values\n",
    "    intercepts = fit_intercepts(X[:, idxs_params], coeffs, p)\n",
    "\n",
    "    ps = sigmoid(X[:, idxs_params] @ coeffs + intercepts)\n",
    "\n",
    "    ber = np.random.rand(n, d_na)\n",
    "    mask[:, idxs_nas] = ber < ps\n",
    "\n",
    "    ## If the inputs of the logistic model are excluded from MNAR missingness,\n",
    "    ## mask some values used in the logistic model at random.\n",
    "    ## This makes the missingness of other variables potentially dependent on masked values\n",
    "\n",
    "    if exclude_inputs:\n",
    "        mask[:, idxs_params] = np.random.rand(n, d_params) < p\n",
    "\n",
    "    return mask\n",
    "\n",
    "def MNAR_mask_logistic2(X, p, input_idxs, target_idxs, exclude_inputs=True):\n",
    "    \"\"\"\n",
    "    Missing not at random mechanism with a logistic masking model. It implements two mechanisms:\n",
    "    (i) Missing probabilities are selected with a logistic model, taking all variables as inputs. Hence, values that are\n",
    "    inputs can also be missing.\n",
    "    (ii) Variables are split into a set of intputs for a logistic model, and a set whose missing probabilities are\n",
    "    determined by the logistic model. Then inputs are then masked MCAR (hence, missing values from the second set will\n",
    "    depend on masked values.\n",
    "    In either case, weights are random and the intercept is selected to attain the desired proportion of missing values.\n",
    "    Parameters\n",
    "    ----------\n",
    "    X : np.ndarray, shape (n, d)\n",
    "        Data for which missing values will be simulated.\n",
    "    p : float\n",
    "        Proportion of missing values to generate for variables which will have missing values.\n",
    "    exclude_inputs : boolean, default=True\n",
    "        True: mechanism (ii) is used, False: (i)\n",
    "    Returns\n",
    "    -------\n",
    "    mask : np.ndarray (depending on type of X)\n",
    "        Mask of generated missing values (True if the value is missing).\n",
    "    \"\"\"\n",
    "\n",
    "    n, d = X.shape\n",
    "    mask = np.zeros((n, d)).astype(bool)\n",
    "    ### Pick coefficients so that W^Tx has unit variance (avoids shrinking)\n",
    "    coeffs = pick_coeffs(X, input_idxs, target_idxs)\n",
    "    ### Pick the intercepts to have a desired amount of missing values\n",
    "    intercepts = fit_intercepts(X[:, input_idxs], coeffs, p)\n",
    "    ps = sigmoid(X[:, input_idxs] @ coeffs + intercepts)\n",
    "\n",
    "    ber = np.random.rand(n, len(target_idxs))\n",
    "    mask[:, target_idxs] = ber < ps\n",
    "    ## If the inputs of the logistic model are excluded from MNAR missingness,\n",
    "    ## mask some values used in the logistic model at random.\n",
    "    ## This makes the missingness of other variables potentially dependent on masked values\n",
    "    if exclude_inputs:\n",
    "        mask[:, input_idxs] = np.random.rand(n, len(input_idxs)) < p\n",
    "\n",
    "    return mask\n",
    "\n",
    "def MNAR_self_mask_logistic(X, p):\n",
    "    \"\"\"\n",
    "    Missing not at random mechanism with a logistic self-masking model. Variables have missing values probabilities\n",
    "    given by a logistic model, taking the same variable as input (hence, missingness is independent from one variable\n",
    "    to another). The intercepts are selected to attain the desired missing rate.\n",
    "    Parameters\n",
    "    ----------\n",
    "    X : np.ndarray, shape (n, d)\n",
    "        Data for which missing values will be simulated.\n",
    "    p : float\n",
    "        Proportion of missing values to generate for variables which will have missing values.\n",
    "    Returns\n",
    "    -------\n",
    "    mask : torch.BoolTensor or np.ndarray (depending on type of X)\n",
    "        Mask of generated missing values (True if the value is missing).\n",
    "    \"\"\"\n",
    "    n, d = X.shape\n",
    "    ### Variables will have NA proportions that depend on those observed variables, through a logistic model\n",
    "    ### The parameters of this logistic model are random.\n",
    "    ### Pick coefficients so that W^Tx has unit variance (avoids shrinking)\n",
    "    coeffs = pick_coeffs(X, self_mask=True)\n",
    "    ### Pick the intercepts to have a desired amount of missing values\n",
    "    intercepts = fit_intercepts(X, coeffs, p, self_mask=True)\n",
    "    ps = sigmoid(X * coeffs + intercepts)\n",
    "    ber = np.random.rand(n, d)\n",
    "    mask = ber < ps\n",
    "    return mask\n",
    "\n",
    "def pick_coeffs(X, idxs_obs=None, idxs_nas=None, self_mask=False):\n",
    "    n, d = X.shape\n",
    "    if self_mask:\n",
    "        coeffs = np.random.randn(d)\n",
    "        Wx = X * coeffs\n",
    "        coeffs /= np.std(Wx, 0)\n",
    "    else:\n",
    "        d_obs = len(idxs_obs)\n",
    "        d_na = len(idxs_nas)\n",
    "        coeffs = np.random.randn(d_obs, d_na)\n",
    "        Wx = X[:, idxs_obs] @ coeffs\n",
    "        coeffs /= np.std(Wx, 0, keepdims=True)\n",
    "    return coeffs\n",
    "\n",
    "def fit_intercepts(X, coeffs, p, self_mask=False):\n",
    "    if self_mask:\n",
    "        d = len(coeffs)\n",
    "        intercepts = np.zeros(d)\n",
    "        for j in range(d):\n",
    "            def f(x):\n",
    "                return np.mean(sigmoid(X * coeffs[j] + x)) - p\n",
    "            intercepts[j] = optimize.bisect(f, -50, 50)\n",
    "    else:\n",
    "        d_obs, d_na = coeffs.shape\n",
    "        intercepts = np.zeros(d_na)\n",
    "        for j in range(d_na):\n",
    "            def f(x):\n",
    "                return np.mean(sigmoid(X @ coeffs[:, j] + x)) - p\n",
    "            intercepts[j] = optimize.bisect(f, -50, 50)\n",
    "    return intercepts\n",
    "\n",
    "def sigmoid(x):\n",
    "  return 1 / (1 + np.exp(-x))\n"
   ]
  },
  {
   "cell_type": "code",
   "execution_count": 21,
   "id": "7b7d8716",
   "metadata": {},
   "outputs": [],
   "source": [
    "def show_missingness(df):\n",
    "    print(\"Missing rates\")\n",
    "    print('='*16)\n",
    "    print(df.isna().sum() / len(df))\n",
    "    print('='*16)\n",
    "\n",
    "    msno.heatmap(df, figsize=(4,4))\n",
    "    plt.show()\n",
    "\n",
    "    df = df.sort_values(by=['x1'])\n",
    "    msno.matrix(df, figsize=(4,4))\n",
    "    plt.show()"
   ]
  },
  {
   "cell_type": "markdown",
   "id": "6893586f",
   "metadata": {},
   "source": [
    "We will generate missing values for variables x2 and x3."
   ]
  },
  {
   "cell_type": "code",
   "execution_count": 22,
   "id": "975952da",
   "metadata": {},
   "outputs": [],
   "source": [
    "cols_w_missing = ['x2', 'x3']"
   ]
  },
  {
   "cell_type": "code",
   "execution_count": 23,
   "id": "46d95a70",
   "metadata": {},
   "outputs": [
    {
     "name": "stdout",
     "output_type": "stream",
     "text": [
      "Missing rates\n",
      "================\n",
      "x1    0.000000\n",
      "x2    0.246305\n",
      "x3    0.275862\n",
      "x4    0.000000\n",
      "x5    0.000000\n",
      "y     0.000000\n",
      "dtype: float64\n",
      "================\n"
     ]
    },
    {
     "data": {
      "image/png": "[encoded data removed]",
      "text/plain": [
       "<Figure size 288x288 with 2 Axes>"
      ]
     },
     "metadata": {
      "needs_background": "light"
     },
     "output_type": "display_data"
    },
    {
     "data": {
      "image/png": "[encoded data removed]",
      "text/plain": [
       "<Figure size 288x288 with 2 Axes>"
      ]
     },
     "metadata": {
      "needs_background": "light"
     },
     "output_type": "display_data"
    }
   ],
   "source": [
    "ds1 = df.copy()\n",
    "mcar_mask = MCAR_mask(ds1[cols_w_missing].values, 0.2)\n",
    "for i, col in enumerate(cols_w_missing):\n",
    "    mask = mcar_mask[:, i]\n",
    "    ds1.loc[mask, col] = np.nan\n",
    "\n",
    "show_missingness(ds1)"
   ]
  },
  {
   "cell_type": "markdown",
   "id": "6a7fe335",
   "metadata": {},
   "source": [
    "As it can be seen from the missingno heatmap for ds1 above, there is no correlation between variables' missingness."
   ]
  },
  {
   "cell_type": "code",
   "execution_count": 24,
   "id": "1043a122",
   "metadata": {},
   "outputs": [
    {
     "name": "stdout",
     "output_type": "stream",
     "text": [
      "Missing rates\n",
      "================\n",
      "x1    0.290640\n",
      "x2    0.256158\n",
      "x3    0.270936\n",
      "x4    0.251232\n",
      "x5    0.285714\n",
      "y     0.000000\n",
      "dtype: float64\n",
      "================\n"
     ]
    },
    {
     "data": {
      "image/png": "[encoded data removed]",
      "text/plain": [
       "<Figure size 288x288 with 2 Axes>"
      ]
     },
     "metadata": {
      "needs_background": "light"
     },
     "output_type": "display_data"
    },
    {
     "data": {
      "image/png": "[encoded data removed]",
      "text/plain": [
       "<Figure size 288x288 with 2 Axes>"
      ]
     },
     "metadata": {
      "needs_background": "light"
     },
     "output_type": "display_data"
    }
   ],
   "source": [
    "cat_cols = df.columns[df.dtypes == 'category'].tolist()\n",
    "ds2 = df.copy()\n",
    "ds2[cat_cols] = ds2[cat_cols].apply(lambda x: x.cat.codes).astype('float')\n",
    "\n",
    "columns = list(ds2.columns)\n",
    "input_idxs = [columns.index(col) for col in columns[:-1]]\n",
    "target_idxs = [columns.index(col) for col in cols_w_missing]\n",
    "mnar_mask = MNAR_mask_logistic2(ds2.values, 0.25, input_idxs=input_idxs, target_idxs=target_idxs)\n",
    "ds2[mnar_mask] = np.nan\n",
    "\n",
    "show_missingness(ds2)"
   ]
  },
  {
   "cell_type": "code",
   "execution_count": 25,
   "id": "e2dc0c5e",
   "metadata": {},
   "outputs": [
    {
     "name": "stdout",
     "output_type": "stream",
     "text": [
      "Missing rates\n",
      "================\n",
      "x1    0.290640\n",
      "x2    0.231527\n",
      "x3    0.236453\n",
      "x4    0.206897\n",
      "x5    0.261084\n",
      "y     0.000000\n",
      "dtype: float64\n",
      "================\n"
     ]
    },
    {
     "data": {
      "image/png": "[encoded data removed]",
      "text/plain": [
       "<Figure size 288x288 with 2 Axes>"
      ]
     },
     "metadata": {
      "needs_background": "light"
     },
     "output_type": "display_data"
    },
    {
     "data": {
      "image/png": "[encoded data removed]",
      "text/plain": [
       "<Figure size 288x288 with 2 Axes>"
      ]
     },
     "metadata": {
      "needs_background": "light"
     },
     "output_type": "display_data"
    }
   ],
   "source": [
    "cat_cols = df.columns[df.dtypes == 'category'].tolist()\n",
    "ds3 = df.copy()\n",
    "ds3[cat_cols] = ds3[cat_cols].apply(lambda x: x.cat.codes).astype('float')\n",
    "\n",
    "columns = list(ds3.columns)\n",
    "input_idxs = [columns.index(col) for col in columns[:-1]]\n",
    "target_idxs = [columns.index(col) for col in cols_w_missing]\n",
    "mnar_mask = MNAR_mask_logistic2(ds3.values, 0.25, input_idxs=input_idxs, target_idxs=target_idxs)\n",
    "ds3[mnar_mask] = np.nan\n",
    "\n",
    "show_missingness(ds3)"
   ]
  },
  {
   "cell_type": "code",
   "execution_count": 26,
   "id": "0e242afb",
   "metadata": {},
   "outputs": [
    {
     "name": "stdout",
     "output_type": "stream",
     "text": [
      "Missing rates\n",
      "================\n",
      "x1    0.000000\n",
      "x2    0.128079\n",
      "x3    0.394089\n",
      "x4    0.000000\n",
      "x5    0.000000\n",
      "y     0.000000\n",
      "dtype: float64\n",
      "================\n"
     ]
    },
    {
     "data": {
      "image/png": "[encoded data removed]",
      "text/plain": [
       "<Figure size 288x288 with 2 Axes>"
      ]
     },
     "metadata": {
      "needs_background": "light"
     },
     "output_type": "display_data"
    },
    {
     "data": {
      "image/png": "[encoded data removed]",
      "text/plain": [
       "<Figure size 288x288 with 2 Axes>"
      ]
     },
     "metadata": {
      "needs_background": "light"
     },
     "output_type": "display_data"
    }
   ],
   "source": [
    "cat_cols = df.columns[df.dtypes == 'category'].tolist()\n",
    "ds32 = df.copy()\n",
    "ds32[cat_cols] = ds32[cat_cols].apply(lambda x: x.cat.codes).astype('float')\n",
    "\n",
    "mnar_mask = MNAR_self_mask_logistic(ds32[cols_w_missing].values, 0.30)\n",
    "for i, col in enumerate(cols_w_missing):\n",
    "    mask = mnar_mask[:, i]\n",
    "    ds32.loc[mask, col] = np.nan\n",
    "\n",
    "show_missingness(ds32)"
   ]
  },
  {
   "cell_type": "markdown",
   "id": "6bf09dc7",
   "metadata": {},
   "source": [
    "### Select DS1"
   ]
  },
  {
   "cell_type": "code",
   "execution_count": 27,
   "id": "7a31a66e",
   "metadata": {},
   "outputs": [],
   "source": [
    "from scipy import stats"
   ]
  },
  {
   "cell_type": "code",
   "execution_count": 28,
   "id": "5c8ba5c6",
   "metadata": {},
   "outputs": [],
   "source": [
    "def chi2_test(df, col1, col2):\n",
    "    print(\"=\"*16)\n",
    "    print(f\"Chi2 test with {col1} {col2}\")\n",
    "    print(\"=\"*16)\n",
    "    tab = pd.crosstab(df[col1], df[col2].isna())\n",
    "    print(tab)\n",
    "    chi2, p, dof, ex = stats.chi2_contingency(tab)\n",
    "    print(\"p value:%.4f\" % p)\n",
    "    if p<0.05:    \n",
    "        print(f\"Missingness of {col1} is not independent of {col2}\")\n",
    "    else:\n",
    "        print(f\"Missingness of {col1} is independent of {col2}\")\n",
    "    print(\"=\"*16)\n"
   ]
  },
  {
   "cell_type": "code",
   "execution_count": 29,
   "id": "ca8b466e",
   "metadata": {},
   "outputs": [
    {
     "name": "stdout",
     "output_type": "stream",
     "text": [
      "================\n",
      "Chi2 test with x2 x1\n",
      "================\n",
      "x1      False\n",
      "x2           \n",
      "low        25\n",
      "medium    107\n",
      "high       21\n",
      "p value:1.0000\n",
      "Missingness of x2 is independent of x1\n",
      "================\n",
      "================\n",
      "Chi2 test with x2 x3\n",
      "================\n",
      "x3      False  True\n",
      "x2                 \n",
      "low        17     8\n",
      "medium     75    32\n",
      "high       16     5\n",
      "p value:0.8143\n",
      "Missingness of x2 is independent of x3\n",
      "================\n",
      "================\n",
      "Chi2 test with x2 x4\n",
      "================\n",
      "x4      False\n",
      "x2           \n",
      "low        25\n",
      "medium    107\n",
      "high       21\n",
      "p value:1.0000\n",
      "Missingness of x2 is independent of x4\n",
      "================\n",
      "================\n",
      "Chi2 test with x2 x5\n",
      "================\n",
      "x5      False\n",
      "x2           \n",
      "low        25\n",
      "medium    107\n",
      "high       21\n",
      "p value:1.0000\n",
      "Missingness of x2 is independent of x5\n",
      "================\n",
      "================\n",
      "Chi2 test with x2 y\n",
      "================\n",
      "y       False\n",
      "x2           \n",
      "low        25\n",
      "medium    107\n",
      "high       21\n",
      "p value:1.0000\n",
      "Missingness of x2 is independent of y\n",
      "================\n",
      "================\n",
      "Chi2 test with x3 x1\n",
      "================\n",
      "x1  False\n",
      "x3       \n",
      "A      10\n",
      "B      41\n",
      "C      37\n",
      "D      59\n",
      "p value:1.0000\n",
      "Missingness of x3 is independent of x1\n",
      "================\n",
      "================\n",
      "Chi2 test with x3 x2\n",
      "================\n",
      "x2  False  True\n",
      "x3             \n",
      "A       7     3\n",
      "B      34     7\n",
      "C      22    15\n",
      "D      45    14\n",
      "p value:0.1162\n",
      "Missingness of x3 is independent of x2\n",
      "================\n",
      "================\n",
      "Chi2 test with x3 x4\n",
      "================\n",
      "x4  False\n",
      "x3       \n",
      "A      10\n",
      "B      41\n",
      "C      37\n",
      "D      59\n",
      "p value:1.0000\n",
      "Missingness of x3 is independent of x4\n",
      "================\n",
      "================\n",
      "Chi2 test with x3 x5\n",
      "================\n",
      "x5  False\n",
      "x3       \n",
      "A      10\n",
      "B      41\n",
      "C      37\n",
      "D      59\n",
      "p value:1.0000\n",
      "Missingness of x3 is independent of x5\n",
      "================\n",
      "================\n",
      "Chi2 test with x3 y\n",
      "================\n",
      "y   False\n",
      "x3       \n",
      "A      10\n",
      "B      41\n",
      "C      37\n",
      "D      59\n",
      "p value:1.0000\n",
      "Missingness of x3 is independent of y\n",
      "================\n"
     ]
    }
   ],
   "source": [
    "for mcol in cols_w_missing:\n",
    "    for col in ds1.columns:\n",
    "        if mcol == col:\n",
    "            continue\n",
    "\n",
    "        chi2_test(ds1, mcol, col)"
   ]
  },
  {
   "cell_type": "markdown",
   "id": "c494ffc5",
   "metadata": {},
   "source": [
    "With Chi square tests, it can be confirmed that the missing values of x2 and x3 are independent of from other variables. Hence, the missing mechanism is proven to be MCAR."
   ]
  },
  {
   "cell_type": "markdown",
   "id": "bd457d45",
   "metadata": {},
   "source": [
    "### Train a model with DS1"
   ]
  },
  {
   "cell_type": "code",
   "execution_count": 30,
   "id": "42cda2b0",
   "metadata": {},
   "outputs": [
    {
     "data": {
      "text/html": [
       "<div>\n",
       "<style scoped>\n",
       "    .dataframe tbody tr th:only-of-type {\n",
       "        vertical-align: middle;\n",
       "    }\n",
       "\n",
       "    .dataframe tbody tr th {\n",
       "        vertical-align: top;\n",
       "    }\n",
       "\n",
       "    .dataframe thead th {\n",
       "        text-align: right;\n",
       "    }\n",
       "</style>\n",
       "<table border=\"1\" class=\"dataframe\">\n",
       "  <thead>\n",
       "    <tr style=\"text-align: right;\">\n",
       "      <th></th>\n",
       "      <th>x1</th>\n",
       "      <th>x2</th>\n",
       "      <th>x3</th>\n",
       "      <th>x4</th>\n",
       "      <th>x5</th>\n",
       "      <th>y</th>\n",
       "    </tr>\n",
       "  </thead>\n",
       "  <tbody>\n",
       "    <tr>\n",
       "      <th>0</th>\n",
       "      <td>3.0</td>\n",
       "      <td>medium</td>\n",
       "      <td>B</td>\n",
       "      <td>71.873535</td>\n",
       "      <td>77.279945</td>\n",
       "      <td>0.0</td>\n",
       "    </tr>\n",
       "    <tr>\n",
       "      <th>1</th>\n",
       "      <td>2.0</td>\n",
       "      <td>medium</td>\n",
       "      <td>C</td>\n",
       "      <td>76.329697</td>\n",
       "      <td>123.509766</td>\n",
       "      <td>3.0</td>\n",
       "    </tr>\n",
       "    <tr>\n",
       "      <th>3</th>\n",
       "      <td>1.0</td>\n",
       "      <td>NaN</td>\n",
       "      <td>NaN</td>\n",
       "      <td>90.894951</td>\n",
       "      <td>131.080124</td>\n",
       "      <td>0.0</td>\n",
       "    </tr>\n",
       "    <tr>\n",
       "      <th>4</th>\n",
       "      <td>1.0</td>\n",
       "      <td>NaN</td>\n",
       "      <td>B</td>\n",
       "      <td>91.377548</td>\n",
       "      <td>78.421425</td>\n",
       "      <td>1.0</td>\n",
       "    </tr>\n",
       "    <tr>\n",
       "      <th>5</th>\n",
       "      <td>2.0</td>\n",
       "      <td>low</td>\n",
       "      <td>D</td>\n",
       "      <td>82.418663</td>\n",
       "      <td>128.847290</td>\n",
       "      <td>0.0</td>\n",
       "    </tr>\n",
       "  </tbody>\n",
       "</table>\n",
       "</div>"
      ],
      "text/plain": [
       "    x1      x2   x3         x4          x5    y\n",
       "0  3.0  medium    B  71.873535   77.279945  0.0\n",
       "1  2.0  medium    C  76.329697  123.509766  3.0\n",
       "3  1.0     NaN  NaN  90.894951  131.080124  0.0\n",
       "4  1.0     NaN    B  91.377548   78.421425  1.0\n",
       "5  2.0     low    D  82.418663  128.847290  0.0"
      ]
     },
     "execution_count": 30,
     "metadata": {},
     "output_type": "execute_result"
    }
   ],
   "source": [
    "ds1.head(5)"
   ]
  },
  {
   "cell_type": "markdown",
   "id": "2a5717bc",
   "metadata": {},
   "source": [
    "To split the dataset into train and test sets, we can use `scikit-learn`'s `train_test_split` method. To ensure that\n",
    "missing values split evenly, we can use `stratify` option with missingness mask as labels. "
   ]
  },
  {
   "cell_type": "code",
   "execution_count": 31,
   "id": "68f830fe",
   "metadata": {},
   "outputs": [],
   "source": [
    "from sklearn.model_selection import train_test_split\n",
    "\n",
    "missingness_mask = ds1.isna().any(axis=1).values\n",
    "feat_vars = ['x1', 'x2', 'x3', 'x4', 'x5']\n",
    "target_vars = ['y']\n",
    "X = ds1[feat_vars]\n",
    "y = ds1[target_vars]\n",
    "X_train, X_test, y_train, y_test = train_test_split(X, y, test_size=0.3, random_state=42, stratify=missingness_mask)"
   ]
  },
  {
   "cell_type": "code",
   "execution_count": 32,
   "id": "f35e5e2b",
   "metadata": {},
   "outputs": [
    {
     "name": "stdout",
     "output_type": "stream",
     "text": [
      "Missing rate of train set\n",
      "================\n",
      "0.4647887323943662\n",
      "================\n",
      "Missing rate of test set\n",
      "================\n",
      "0.47540983606557374\n",
      "================\n"
     ]
    }
   ],
   "source": [
    "print(\"Missing rate of train set\")\n",
    "print(\"=\"*16)\n",
    "print(missing_rate_of(X_train.isna().any(axis=1)))\n",
    "print(\"=\"*16)\n",
    "print(\"Missing rate of test set\")\n",
    "print(\"=\"*16)\n",
    "print(missing_rate_of(X_test.isna().any(axis=1)))\n",
    "print(\"=\"*16)"
   ]
  },
  {
   "cell_type": "markdown",
   "id": "ece4a719",
   "metadata": {},
   "source": [
    "The missingness rates in train and test set are similar, so missing values have been split evenly."
   ]
  },
  {
   "cell_type": "markdown",
   "id": "ad664c62",
   "metadata": {},
   "source": [
    "Let's see how many missing values are there in train and test datasets."
   ]
  },
  {
   "cell_type": "code",
   "execution_count": null,
   "id": "fc0c62f1",
   "metadata": {},
   "outputs": [],
   "source": [
    "for name, dfx in [('Train', X_train), ('Test', X_test)]:\n",
    "    print(f'{name} dataset')\n",
    "    print('='*32)\n",
    "    for col in cols_w_missing:\n",
    "        print(f'Num missing values in {col}: {dfx[col].isna().sum()}')\n",
    "    print('='*32)"
   ]
  },
  {
   "cell_type": "markdown",
   "id": "26ae2483",
   "metadata": {},
   "source": [
    "### Training utilities"
   ]
  },
  {
   "cell_type": "markdown",
   "id": "a98341ca",
   "metadata": {},
   "source": [
    "A few utility function to encode categorical variables"
   ]
  },
  {
   "cell_type": "code",
   "execution_count": 33,
   "id": "2f038413",
   "metadata": {},
   "outputs": [],
   "source": [
    "def encode_cat(x):\n",
    "    cat_cols = x.columns[x.dtypes == 'category'].tolist()\n",
    "    x = x.copy()\n",
    "    x[cat_cols] = x[cat_cols].apply(lambda c: c.cat.codes).astype('float')\n",
    "    return x"
   ]
  },
  {
   "cell_type": "code",
   "execution_count": 34,
   "id": "8465fcee",
   "metadata": {},
   "outputs": [],
   "source": [
    "def prepare_cat_cols(df):\n",
    "    df = df.copy()\n",
    "    cat_cols = df.columns[df.dtypes == 'category'].tolist()\n",
    "    df[cat_cols] = df[cat_cols].apply(lambda c: c.cat.codes)\n",
    "    for col in cat_cols:\n",
    "        df.loc[df[col]==-1, col] = np.nan\n",
    "    return df"
   ]
  },
  {
   "cell_type": "markdown",
   "id": "93fa7b48",
   "metadata": {},
   "source": [
    "We'll use random forest classifier to train predictive models with our dataset. \n",
    "Let's create a few utility functions for training a model and evaluation its accuracy score."
   ]
  },
  {
   "cell_type": "code",
   "execution_count": 35,
   "id": "f145e6de",
   "metadata": {},
   "outputs": [],
   "source": [
    "from sklearn.ensemble import RandomForestClassifier\n",
    "\n",
    "def rf(xs, y, n_estimators=40, max_features=0.5, min_samples_leaf=5, oob_score=True, **kwargs):\n",
    "    m = RandomForestClassifier(\n",
    "        n_jobs=-1, \n",
    "        n_estimators=n_estimators,\n",
    "        max_features=max_features,\n",
    "        min_samples_leaf=min_samples_leaf, \n",
    "        oob_score=True\n",
    "    )\n",
    "    return m.fit(xs, y)\n",
    "\n",
    "def train_score(X_train, y_train, X_test, y_test):\n",
    "    X_train = encode_cat(X_train)\n",
    "    y_train = encode_cat(y_train)\n",
    "    X_test = encode_cat(X_test)\n",
    "    y_test = encode_cat(y_test)\n",
    "\n",
    "    m = rf(X_train.values, y_train.values.ravel())\n",
    "    print(f\"Train accuracy: {m.score(X_train.values, y_train.values.ravel())}\")\n",
    "    print(f\"Valid accuracy: {m.score(X_test.values, y_test.values.ravel())}\")"
   ]
  },
  {
   "cell_type": "markdown",
   "id": "8d62df3e",
   "metadata": {},
   "source": [
    "### Imputation"
   ]
  },
  {
   "cell_type": "markdown",
   "id": "b8f64910",
   "metadata": {},
   "source": [
    "#### Most frequent value imputation"
   ]
  },
  {
   "cell_type": "markdown",
   "id": "85cbb327",
   "metadata": {},
   "source": [
    "We'll impute missing values with most frequent values for categorical variables x2 and x3. \n",
    "Let's see the value frequencies for those variables in train set."
   ]
  },
  {
   "cell_type": "code",
   "execution_count": 36,
   "id": "16715293",
   "metadata": {},
   "outputs": [
    {
     "name": "stdout",
     "output_type": "stream",
     "text": [
      "Variable x2\n",
      "================================\n",
      "high      13\n",
      "low       18\n",
      "medium    77\n",
      "Name: x2, dtype: int64\n",
      "================================\n",
      "Variable x3\n",
      "================================\n",
      "A     9\n",
      "B    24\n",
      "C    25\n",
      "D    45\n",
      "Name: x3, dtype: int64\n",
      "================================\n"
     ]
    }
   ],
   "source": [
    "for col in cols_w_missing:\n",
    "    print(f'Variable {col}')\n",
    "    print('='*32)\n",
    "    print(X_train[col].value_counts().sort_values())\n",
    "    print('='*32)"
   ]
  },
  {
   "cell_type": "code",
   "execution_count": 37,
   "id": "59a7a60b",
   "metadata": {},
   "outputs": [],
   "source": [
    "def impute_most_freq(subset, x_train, x):\n",
    "    x = x.copy()\n",
    "    for col in subset:\n",
    "        mfreq = x_train[col].value_counts().sort_values().index[-1]\n",
    "        x[col].fillna(mfreq, inplace=True)\n",
    "    return x"
   ]
  },
  {
   "cell_type": "markdown",
   "id": "b1da5a9d",
   "metadata": {},
   "source": [
    "Let's impute our train and test set with most frequent imputation. \n",
    "Then, let's train a random forest classifier with most frequent imputation and calculate accuracy score."
   ]
  },
  {
   "cell_type": "code",
   "execution_count": 38,
   "id": "330cc98e",
   "metadata": {},
   "outputs": [
    {
     "name": "stdout",
     "output_type": "stream",
     "text": [
      "Missing rates after imputation\n",
      "================================\n",
      "Train set\n",
      "================================\n",
      "x1    0.0\n",
      "x2    0.0\n",
      "x3    0.0\n",
      "x4    0.0\n",
      "x5    0.0\n",
      "dtype: float64\n",
      "================================\n",
      "Test set\n",
      "================================\n",
      "x1    0.0\n",
      "x2    0.0\n",
      "x3    0.0\n",
      "x4    0.0\n",
      "x5    0.0\n",
      "dtype: float64\n",
      "================================\n",
      "Train accuracy: 0.7887323943661971\n",
      "Valid accuracy: 0.7213114754098361\n"
     ]
    }
   ],
   "source": [
    "X_train_imputed_mf = impute_most_freq(cols_w_missing, X_train, X_train)\n",
    "X_test_imputed_mf = impute_most_freq(cols_w_missing, X_train, X_test)\n",
    "\n",
    "print(\"Missing rates after imputation\")\n",
    "print(\"=\"*32)\n",
    "print(\"Train set\")\n",
    "print(\"=\"*32)\n",
    "print(missing_rate_of(X_train_imputed_mf.isna()))\n",
    "print(\"=\"*32)\n",
    "print(\"Test set\")\n",
    "print(\"=\"*32)\n",
    "print(missing_rate_of(X_test_imputed_mf.isna()))\n",
    "print(\"=\"*32)\n",
    "\n",
    "train_score(X_train_imputed_mf, y_train, X_test_imputed_mf, y_test)"
   ]
  },
  {
   "cell_type": "markdown",
   "id": "ecbc0681",
   "metadata": {},
   "source": [
    "#### Imputation with MICE"
   ]
  },
  {
   "cell_type": "markdown",
   "id": "a86524c9",
   "metadata": {},
   "source": [
    "Let's impute the missing values with multivariate feature imputation. We'll use sklearn's `IterativeImputer` class for this."
   ]
  },
  {
   "cell_type": "code",
   "execution_count": 40,
   "id": "d50bb3b0",
   "metadata": {},
   "outputs": [
    {
     "name": "stdout",
     "output_type": "stream",
     "text": [
      "Missing rate of train set\n",
      "================================\n",
      "0.0\n",
      "================================\n",
      "Missing rate of test set\n",
      "================================\n",
      "0.0\n",
      "================================\n",
      "Train accuracy: 0.8309859154929577\n",
      "Valid accuracy: 0.7213114754098361\n"
     ]
    }
   ],
   "source": [
    "from sklearn.experimental import enable_iterative_imputer\n",
    "from sklearn.impute import IterativeImputer\n",
    "\n",
    "# convert categorical values to numeric\n",
    "X_train_pre_mice = prepare_cat_cols(X_train)\n",
    "y_train_pre_mice = prepare_cat_cols(y_train)\n",
    "X_test_pre_mice = prepare_cat_cols(X_test)\n",
    "y_test_pre_mice = prepare_cat_cols(y_test)\n",
    "\n",
    "# fit imputer with train dataset\n",
    "imp = IterativeImputer(max_iter=10, random_state=42)\n",
    "imp.fit(X_train_pre_mice)\n",
    "\n",
    "# transform train and test datasets with fitted imputer\n",
    "X_train_post_mice = pd.DataFrame(imp.transform(X_train_pre_mice), columns=X_train_pre_mice.columns)\n",
    "X_test_post_mice = pd.DataFrame(imp.transform(X_test_pre_mice), columns=X_test_pre_mice.columns)\n",
    "\n",
    "# validate that there are no missing values after imputation\n",
    "print(\"Missing rate of train set\")\n",
    "print(\"=\"*32)\n",
    "print(missing_rate_of(X_train_post_mice.isna().any(axis=1)))\n",
    "print(\"=\"*32)\n",
    "print(\"Missing rate of test set\")\n",
    "print(\"=\"*32)\n",
    "print(missing_rate_of(X_test_post_mice.isna().any(axis=1)))\n",
    "print(\"=\"*32)\n",
    "\n",
    "# train and evaluate \n",
    "train_score(X_train_post_mice, y_train, X_test_post_mice, y_test)"
   ]
  },
  {
   "cell_type": "code",
   "execution_count": null,
   "id": "b3138844",
   "metadata": {},
   "outputs": [],
   "source": []
  }
 ],
 "metadata": {
  "kernelspec": {
   "display_name": "Python 3",
   "language": "python",
   "name": "python3"
  },
  "language_info": {
   "codemirror_mode": {
    "name": "ipython",
    "version": 3
   },
   "file_extension": ".py",
   "mimetype": "text/x-python",
   "name": "python",
   "nbconvert_exporter": "python",
   "pygments_lexer": "ipython3",
   "version": "3.9.7"
  }
 },
 "nbformat": 4,
 "nbformat_minor": 5
}
