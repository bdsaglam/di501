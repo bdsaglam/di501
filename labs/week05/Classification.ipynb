{
 "cells": [
  {
   "cell_type": "markdown",
   "id": "3854dfb3",
   "metadata": {},
   "source": [
    "<h1 style=\"margin-bottom:0\"><center>DI 501 - Introduction to Data Informatics</center></h1>\n",
    "<h2 style=\"margin-top:0\"><center>Classification Tutorial</center></h2>\n",
    "<br>\n",
    "<p style=\"margin-top:0\"><center><b>This tutorial is prepared for Middle East Technical University's DI 501 - Introduction to Data Informatics course.</b></center></p>\n",
    "<hr style=\"height:2px;color:navy;margin-top:0\">\n",
    "<p style=\"margin-top:0; text-align: justify; font-size:15px\">Classification is when the feature to be predicted contains categories of values. Each of these categories is considered as a class into which the predicted value falls and hence has its name, classification. In this tutorial, we will talk about how to implement different kinds of classification algortihms. We will also talk about how to calculate their performances as well. </p>\n",
    "<p style=\"margin-top:1; text-align: justify; font-size:15px\"> </p>"
   ]
  },
  {
   "cell_type": "markdown",
   "id": "b57a274c",
   "metadata": {},
   "source": [
    "<h3 style=\"margin-bottom:0\">1) Installation</h3>\n",
    "<br>\n",
    "<p style=\"margin-top:0; text-align: justify\">Here, we will be mostly utilizing scikit-learn functions. So, you should install it.</p>\n",
    "<p style=\"margin-top:1; text-align: justify\">If you have Python, you can proceed to install them the following codes: </p>"
   ]
  },
  {
   "cell_type": "code",
   "execution_count": 1,
   "id": "673e20f0",
   "metadata": {},
   "outputs": [],
   "source": [
    "#conda install scikit-learn"
   ]
  },
  {
   "cell_type": "markdown",
   "id": "7afd2d71",
   "metadata": {},
   "source": [
    "or"
   ]
  },
  {
   "cell_type": "code",
   "execution_count": 2,
   "id": "4ee87096",
   "metadata": {},
   "outputs": [],
   "source": [
    "#pip install scikit-learn"
   ]
  },
  {
   "cell_type": "markdown",
   "id": "e5bf00e1",
   "metadata": {},
   "source": [
    "<h3 style=\"margin-bottom:0\">2) Importing</h3>\n",
    "<br>\n",
    "<p style=\"margin-top:0; text-align: justify\">We import our libraries here. </p>"
   ]
  },
  {
   "cell_type": "code",
   "execution_count": 1,
   "id": "6b509642",
   "metadata": {},
   "outputs": [],
   "source": [
    "import numpy as np\n",
    "import pandas as pd\n",
    "import seaborn as sns\n",
    "import matplotlib.pyplot as plt\n",
    "from sklearn.datasets import load_iris"
   ]
  },
  {
   "cell_type": "markdown",
   "id": "e58352a6",
   "metadata": {},
   "source": [
    "<h3 style=\"margin-bottom:0\">3) Data</h3>\n",
    "<br>\n",
    "<p style=\"margin-top:0; text-align: justify\"> In this tutorial, we use our famous iris dataset.\n",
    "<br>"
   ]
  },
  {
   "cell_type": "code",
   "execution_count": 3,
   "id": "09869f83",
   "metadata": {},
   "outputs": [
    {
     "data": {
      "text/html": [
       "<div>\n",
       "<style scoped>\n",
       "    .dataframe tbody tr th:only-of-type {\n",
       "        vertical-align: middle;\n",
       "    }\n",
       "\n",
       "    .dataframe tbody tr th {\n",
       "        vertical-align: top;\n",
       "    }\n",
       "\n",
       "    .dataframe thead th {\n",
       "        text-align: right;\n",
       "    }\n",
       "</style>\n",
       "<table border=\"1\" class=\"dataframe\">\n",
       "  <thead>\n",
       "    <tr style=\"text-align: right;\">\n",
       "      <th></th>\n",
       "      <th>sepal-length</th>\n",
       "      <th>sepal-width</th>\n",
       "      <th>petal-length</th>\n",
       "      <th>petal-width</th>\n",
       "      <th>Class</th>\n",
       "    </tr>\n",
       "  </thead>\n",
       "  <tbody>\n",
       "    <tr>\n",
       "      <th>0</th>\n",
       "      <td>5.1</td>\n",
       "      <td>3.5</td>\n",
       "      <td>1.4</td>\n",
       "      <td>0.2</td>\n",
       "      <td>Iris-setosa</td>\n",
       "    </tr>\n",
       "    <tr>\n",
       "      <th>1</th>\n",
       "      <td>4.9</td>\n",
       "      <td>3.0</td>\n",
       "      <td>1.4</td>\n",
       "      <td>0.2</td>\n",
       "      <td>Iris-setosa</td>\n",
       "    </tr>\n",
       "    <tr>\n",
       "      <th>2</th>\n",
       "      <td>4.7</td>\n",
       "      <td>3.2</td>\n",
       "      <td>1.3</td>\n",
       "      <td>0.2</td>\n",
       "      <td>Iris-setosa</td>\n",
       "    </tr>\n",
       "    <tr>\n",
       "      <th>3</th>\n",
       "      <td>4.6</td>\n",
       "      <td>3.1</td>\n",
       "      <td>1.5</td>\n",
       "      <td>0.2</td>\n",
       "      <td>Iris-setosa</td>\n",
       "    </tr>\n",
       "    <tr>\n",
       "      <th>4</th>\n",
       "      <td>5.0</td>\n",
       "      <td>3.6</td>\n",
       "      <td>1.4</td>\n",
       "      <td>0.2</td>\n",
       "      <td>Iris-setosa</td>\n",
       "    </tr>\n",
       "  </tbody>\n",
       "</table>\n",
       "</div>"
      ],
      "text/plain": [
       "   sepal-length  sepal-width  petal-length  petal-width        Class\n",
       "0           5.1          3.5           1.4          0.2  Iris-setosa\n",
       "1           4.9          3.0           1.4          0.2  Iris-setosa\n",
       "2           4.7          3.2           1.3          0.2  Iris-setosa\n",
       "3           4.6          3.1           1.5          0.2  Iris-setosa\n",
       "4           5.0          3.6           1.4          0.2  Iris-setosa"
      ]
     },
     "execution_count": 3,
     "metadata": {},
     "output_type": "execute_result"
    }
   ],
   "source": [
    "df = pd.read_csv(\"https://archive.ics.uci.edu/ml/machine-learning-databases/iris/iris.data\", names=['sepal-length', 'sepal-width', 'petal-length', 'petal-width', 'Class'])\n",
    "df.head(5)"
   ]
  },
  {
   "cell_type": "markdown",
   "id": "d7eae83c",
   "metadata": {},
   "source": [
    "<h3 style=\"margin-bottom:0\">4) K-Nearest Neighbors</h3>"
   ]
  },
  {
   "cell_type": "markdown",
   "id": "e757c49d",
   "metadata": {},
   "source": [
    "The K-nearest neighbors (KNN) algorithm is a type of supervised machine learning algorithms. KNN is extremely easy to implement in its most basic form, and yet performs quite complex classification tasks.\n",
    "<ul><li>It is a lazy learning algorithm since it doesn't have a specialized training phase.</li>\n",
    "<li>It uses all of the data for training while classifying a new data point or instance.</li>\n",
    "<li>KNN is a non-parametric learning algorithm, which means that it doesn't assume anything about the underlying data.</li>"
   ]
  },
  {
   "cell_type": "markdown",
   "id": "7d11c3f6",
   "metadata": {},
   "source": [
    "First, we split our dataset into X and Y variables."
   ]
  },
  {
   "cell_type": "code",
   "execution_count": 4,
   "id": "beb71421",
   "metadata": {},
   "outputs": [],
   "source": [
    "X = df.iloc[:, :-1].values\n",
    "y = df.iloc[:, 4].values"
   ]
  },
  {
   "cell_type": "markdown",
   "id": "6ed9deb5",
   "metadata": {},
   "source": [
    "Then, we create test and traing splits. We want to use 40% as our test data. Using the same random state here is important to get the same result everytime you run all the cells."
   ]
  },
  {
   "cell_type": "code",
   "execution_count": 5,
   "id": "38352f36",
   "metadata": {},
   "outputs": [],
   "source": [
    "from sklearn.model_selection import train_test_split\n",
    "X_train, X_test, y_train, y_test = train_test_split(X, y, test_size=0.40, random_state=123)"
   ]
  },
  {
   "cell_type": "markdown",
   "id": "b916816b",
   "metadata": {},
   "source": [
    "Before making any actual predictions, it is always a good practice to scale the features so that all of them can be uniformly evaluated. We use fit_transform() on the train data so that we learn the parameters of scaling on the train data and in the same time we scale the train data. We only use transform() on the test data because we use the scaling paramaters learned on the train data to scale the test data."
   ]
  },
  {
   "cell_type": "code",
   "execution_count": 6,
   "id": "e84e1038",
   "metadata": {},
   "outputs": [],
   "source": [
    "from sklearn.preprocessing import StandardScaler\n",
    "scaler = StandardScaler()\n",
    "\n",
    "X_train = scaler.fit_transform(X_train)\n",
    "X_test = scaler.transform(X_test)"
   ]
  },
  {
   "cell_type": "markdown",
   "id": "bc1f0c54",
   "metadata": {},
   "source": [
    "Now, we create our model. We chose k as 5 for now, but later we will show how to choose number of nearest neightbours."
   ]
  },
  {
   "cell_type": "code",
   "execution_count": 21,
   "id": "cde76191",
   "metadata": {},
   "outputs": [
    {
     "data": {
      "text/plain": [
       "KNeighborsClassifier()"
      ]
     },
     "execution_count": 21,
     "metadata": {},
     "output_type": "execute_result"
    }
   ],
   "source": [
    "from sklearn.neighbors import KNeighborsClassifier\n",
    "classifier = KNeighborsClassifier(n_neighbors=5, p=2)\n",
    "classifier.fit(X_train, y_train)"
   ]
  },
  {
   "cell_type": "markdown",
   "id": "397c6313",
   "metadata": {},
   "source": [
    "We have our model, now we create predictions."
   ]
  },
  {
   "cell_type": "code",
   "execution_count": 8,
   "id": "638c20f5",
   "metadata": {},
   "outputs": [],
   "source": [
    "y_pred = classifier.predict(X_test)"
   ]
  },
  {
   "cell_type": "markdown",
   "id": "c111e3dc",
   "metadata": {},
   "source": [
    "Now, we need to evaluate performance. We can use confusion matrix or classification report for this purpose. They are both included in scikit learn."
   ]
  },
  {
   "cell_type": "code",
   "execution_count": 9,
   "id": "0d6d24ed",
   "metadata": {},
   "outputs": [
    {
     "name": "stdout",
     "output_type": "stream",
     "text": [
      "[[22  0  0]\n",
      " [ 0 15  1]\n",
      " [ 0  2 20]]\n",
      "                 precision    recall  f1-score   support\n",
      "\n",
      "    Iris-setosa       1.00      1.00      1.00        22\n",
      "Iris-versicolor       0.88      0.94      0.91        16\n",
      " Iris-virginica       0.95      0.91      0.93        22\n",
      "\n",
      "       accuracy                           0.95        60\n",
      "      macro avg       0.94      0.95      0.95        60\n",
      "   weighted avg       0.95      0.95      0.95        60\n",
      "\n"
     ]
    }
   ],
   "source": [
    "from sklearn.metrics import classification_report, confusion_matrix\n",
    "print(confusion_matrix(y_test, y_pred))\n",
    "print(classification_report(y_test, y_pred))"
   ]
  },
  {
   "cell_type": "markdown",
   "id": "f2a4f365",
   "metadata": {},
   "source": [
    "Please remember that p𝑟𝑒𝑐𝑖𝑠𝑖𝑜𝑛=𝑇𝑃/(𝑇𝑃+𝐹𝑃) and r𝑒𝑐𝑎𝑙𝑙=𝑇𝑃/(𝑇𝑃+𝐹𝑁). Also, we can see from confusion matrix, we labeled 95% of the data correctly."
   ]
  },
  {
   "cell_type": "markdown",
   "id": "3bd682e2",
   "metadata": {},
   "source": [
    "Finally, we can investigate the optimum \"k\" for our knn algorithm based on the performances for different k options (we will look between 3 and 21 with a step size 2). Don't forget that we can choose the step size larger at the beginning (for instance 1,5,9,13...) and then you can try smaller step size  on the optimum k you obtained earlier. Select k from odd numbers."
   ]
  },
  {
   "cell_type": "code",
   "execution_count": 10,
   "id": "94552fba",
   "metadata": {},
   "outputs": [],
   "source": [
    "error = []\n",
    "\n",
    "for i in range(3, 21,2):\n",
    "    knn = KNeighborsClassifier(n_neighbors=i, p=2)\n",
    "    knn.fit(X_train, y_train)\n",
    "    pred_i = knn.predict(X_test)\n",
    "    error.append(np.mean(pred_i != y_test))"
   ]
  },
  {
   "cell_type": "markdown",
   "id": "967b4d89",
   "metadata": {},
   "source": [
    "When we plot:"
   ]
  },
  {
   "cell_type": "code",
   "execution_count": 11,
   "id": "388632a9",
   "metadata": {},
   "outputs": [
    {
     "data": {
      "text/plain": [
       "Text(0, 0.5, 'Mean Error')"
      ]
     },
     "execution_count": 11,
     "metadata": {},
     "output_type": "execute_result"
    },
    {
     "data": {
      "image/png": "[encoded data removed]",
      "text/plain": [
       "<Figure size 864x432 with 1 Axes>"
      ]
     },
     "metadata": {
      "needs_background": "light"
     },
     "output_type": "display_data"
    }
   ],
   "source": [
    "plt.figure(figsize=(12, 6))\n",
    "plt.plot(range(3, 21,2), error, color='red', linestyle='dashed', marker='o',\n",
    "         markerfacecolor='blue', markersize=10)\n",
    "plt.title('Error Rate K Value')\n",
    "plt.xlabel('K Value')\n",
    "plt.ylabel('Mean Error')"
   ]
  },
  {
   "cell_type": "markdown",
   "id": "63e1a86d",
   "metadata": {},
   "source": [
    "Here, you can see that the best performance was obtained when k=3 and k=5."
   ]
  },
  {
   "cell_type": "markdown",
   "id": "dbf26565",
   "metadata": {},
   "source": [
    "<h3 style=\"margin-bottom:0\">5) Naive Bayes</h3>"
   ]
  },
  {
   "cell_type": "markdown",
   "id": "279fc030",
   "metadata": {},
   "source": [
    "Naive Bayes methods are a set of supervised learning algorithms based on applying Bayes’ theorem with the “naive” assumption of conditional independence between every pair of features given the value of the class variable."
   ]
  },
  {
   "cell_type": "markdown",
   "id": "525f4c7b",
   "metadata": {},
   "source": [
    "First, we split our dataset into X and Y variables."
   ]
  },
  {
   "cell_type": "code",
   "execution_count": 13,
   "id": "3c5a8cd3",
   "metadata": {},
   "outputs": [],
   "source": [
    "X = df.iloc[:, :-1].values\n",
    "y = df.iloc[:, 4].values"
   ]
  },
  {
   "cell_type": "markdown",
   "id": "ee9a1524",
   "metadata": {},
   "source": [
    "Then, we create test and traing splits. We want to use 40% as our test data."
   ]
  },
  {
   "cell_type": "code",
   "execution_count": 14,
   "id": "a836fc01",
   "metadata": {},
   "outputs": [],
   "source": [
    "from sklearn.model_selection import train_test_split\n",
    "X_train, X_test, y_train, y_test = train_test_split(X, y, test_size=0.40, random_state=123)"
   ]
  },
  {
   "cell_type": "markdown",
   "id": "cf1dba29",
   "metadata": {},
   "source": [
    "Before making any actual predictions, it is always a good practice to scale the features so that all of them can be uniformly evaluated."
   ]
  },
  {
   "cell_type": "code",
   "execution_count": 15,
   "id": "a8a75610",
   "metadata": {},
   "outputs": [],
   "source": [
    "from sklearn.preprocessing import StandardScaler\n",
    "scaler = StandardScaler()\n",
    "scaler.fit(X_train)\n",
    "\n",
    "X_train = scaler.transform(X_train)\n",
    "X_test = scaler.transform(X_test)"
   ]
  },
  {
   "cell_type": "markdown",
   "id": "ab0dbc2c",
   "metadata": {},
   "source": [
    "Now, we create our model. Here, we have used a Gaussian model, there are several other models such as Bernoulli, Categorical and Multinomial."
   ]
  },
  {
   "cell_type": "code",
   "execution_count": 25,
   "id": "9279015a",
   "metadata": {},
   "outputs": [
    {
     "data": {
      "text/plain": [
       "GaussianNB()"
      ]
     },
     "execution_count": 25,
     "metadata": {},
     "output_type": "execute_result"
    }
   ],
   "source": [
    "from sklearn.naive_bayes import GaussianNB\n",
    "classifier = GaussianNB()\n",
    "classifier.fit(X_train, y_train)"
   ]
  },
  {
   "cell_type": "markdown",
   "id": "8b04021d",
   "metadata": {},
   "source": [
    "We have our model, now we can obtain predictions."
   ]
  },
  {
   "cell_type": "code",
   "execution_count": 17,
   "id": "7c0f0bdb",
   "metadata": {},
   "outputs": [],
   "source": [
    "y_pred = classifier.predict(X_test)"
   ]
  },
  {
   "cell_type": "markdown",
   "id": "6444b123",
   "metadata": {},
   "source": [
    "Now, we need to evaluate performance. We can use confusion matrix or classification report for this purpose."
   ]
  },
  {
   "cell_type": "code",
   "execution_count": 18,
   "id": "ad3aee35",
   "metadata": {},
   "outputs": [
    {
     "name": "stdout",
     "output_type": "stream",
     "text": [
      "[[22  0  0]\n",
      " [ 0 16  0]\n",
      " [ 0  2 20]]\n",
      "                 precision    recall  f1-score   support\n",
      "\n",
      "    Iris-setosa       1.00      1.00      1.00        22\n",
      "Iris-versicolor       0.89      1.00      0.94        16\n",
      " Iris-virginica       1.00      0.91      0.95        22\n",
      "\n",
      "       accuracy                           0.97        60\n",
      "      macro avg       0.96      0.97      0.96        60\n",
      "   weighted avg       0.97      0.97      0.97        60\n",
      "\n"
     ]
    }
   ],
   "source": [
    "from sklearn.metrics import classification_report, confusion_matrix\n",
    "print(confusion_matrix(y_test, y_pred))\n",
    "print(classification_report(y_test, y_pred))"
   ]
  },
  {
   "cell_type": "markdown",
   "id": "5c1f2d03",
   "metadata": {},
   "source": [
    "Please remember that p𝑟𝑒𝑐𝑖𝑠𝑖𝑜𝑛=𝑇𝑃/(𝑇𝑃+𝐹𝑃) and r𝑒𝑐𝑎𝑙𝑙=𝑇𝑃/(𝑇𝑃+𝐹𝑁). Also, we can see from confusion matrix, we labeled 97% of the data correctly."
   ]
  },
  {
   "cell_type": "markdown",
   "id": "f201b045",
   "metadata": {},
   "source": [
    "<h3 style=\"margin-bottom:0\">6) Decision Trees</h3>"
   ]
  },
  {
   "cell_type": "markdown",
   "id": "641ab328",
   "metadata": {},
   "source": [
    "A decision tree is a decision support tool that uses a tree-like model of decisions and their possible consequences, including chance event outcomes, resource costs, and utility. It is one way to display an algorithm that only contains conditional control statements."
   ]
  },
  {
   "cell_type": "markdown",
   "id": "e55b391a",
   "metadata": {},
   "source": [
    "First, we split our dataset into X and Y variables."
   ]
  },
  {
   "cell_type": "code",
   "execution_count": 19,
   "id": "a8860186",
   "metadata": {},
   "outputs": [],
   "source": [
    "X = df.iloc[:, :-1].values\n",
    "y = df.iloc[:, 4].values"
   ]
  },
  {
   "cell_type": "markdown",
   "id": "d5dd37a0",
   "metadata": {},
   "source": [
    "Then, we create test and traing splits. We want to use 40% as our test data. Using random state here is important to get the same result everytime you run all the cells."
   ]
  },
  {
   "cell_type": "code",
   "execution_count": 12,
   "id": "600222e6",
   "metadata": {},
   "outputs": [],
   "source": [
    "from sklearn.model_selection import train_test_split\n",
    "X_train, X_test, y_train, y_test = train_test_split(X, y, test_size=0.40, random_state=123)"
   ]
  },
  {
   "cell_type": "markdown",
   "id": "cdd66964",
   "metadata": {},
   "source": [
    "Before making any actual predictions, it is always a good practice to scale the features so that all of them can be uniformly evaluated."
   ]
  },
  {
   "cell_type": "code",
   "execution_count": 13,
   "id": "36bda4c6",
   "metadata": {},
   "outputs": [],
   "source": [
    "from sklearn.preprocessing import StandardScaler\n",
    "scaler = StandardScaler()\n",
    "\n",
    "X_train = scaler.fit_transform(X_train)\n",
    "X_test = scaler.transform(X_test)"
   ]
  },
  {
   "cell_type": "markdown",
   "id": "04bb25d9",
   "metadata": {},
   "source": [
    "Now, we create our model. There are many splitting criteria used in decision trees. The 3 main splitting criteria used in decision trees are gini, entropy and variance. For classification, generally either gini or entropy is used. For regression, the most common one is variance. Default criterion in decision trees in scikit learn is gini, we will use entropy here."
   ]
  },
  {
   "cell_type": "code",
   "execution_count": 14,
   "id": "36cda6ac",
   "metadata": {},
   "outputs": [
    {
     "data": {
      "text/plain": [
       "DecisionTreeClassifier(criterion='entropy')"
      ]
     },
     "execution_count": 14,
     "metadata": {},
     "output_type": "execute_result"
    }
   ],
   "source": [
    "from sklearn.tree import DecisionTreeClassifier\n",
    "classifier = DecisionTreeClassifier(criterion=\"entropy\")\n",
    "classifier.fit(X_train, y_train)"
   ]
  },
  {
   "cell_type": "markdown",
   "id": "cbff2237",
   "metadata": {},
   "source": [
    "We have our model, now we create predictions."
   ]
  },
  {
   "cell_type": "code",
   "execution_count": 15,
   "id": "0d9aac41",
   "metadata": {},
   "outputs": [],
   "source": [
    "y_pred = classifier.predict(X_test)"
   ]
  },
  {
   "cell_type": "markdown",
   "id": "144298d2",
   "metadata": {},
   "source": [
    "Now, we need to evaluate performance. We can use confusion matrix or classification report for this purpose."
   ]
  },
  {
   "cell_type": "code",
   "execution_count": 24,
   "id": "a2117858",
   "metadata": {},
   "outputs": [
    {
     "name": "stdout",
     "output_type": "stream",
     "text": [
      "[[22  0  0]\n",
      " [ 0 16  0]\n",
      " [ 0  3 19]]\n",
      "                 precision    recall  f1-score   support\n",
      "\n",
      "    Iris-setosa       1.00      1.00      1.00        22\n",
      "Iris-versicolor       0.84      1.00      0.91        16\n",
      " Iris-virginica       1.00      0.86      0.93        22\n",
      "\n",
      "       accuracy                           0.95        60\n",
      "      macro avg       0.95      0.95      0.95        60\n",
      "   weighted avg       0.96      0.95      0.95        60\n",
      "\n"
     ]
    }
   ],
   "source": [
    "from sklearn.metrics import classification_report, confusion_matrix\n",
    "print(confusion_matrix(y_test, y_pred))\n",
    "print(classification_report(y_test, y_pred))"
   ]
  },
  {
   "cell_type": "markdown",
   "id": "02cab0e3",
   "metadata": {},
   "source": [
    "Please remember that p𝑟𝑒𝑐𝑖𝑠𝑖𝑜𝑛=𝑇𝑃/(𝑇𝑃+𝐹𝑃) and r𝑒𝑐𝑎𝑙𝑙=𝑇𝑃/(𝑇𝑃+𝐹𝑁). Also, we can see from confusion matrix, we labeled 96% of the data correctly."
   ]
  },
  {
   "cell_type": "markdown",
   "id": "189eca1a",
   "metadata": {},
   "source": [
    "We can also visualize our decision graph with the following code:"
   ]
  },
  {
   "cell_type": "code",
   "execution_count": 25,
   "id": "189ec741",
   "metadata": {},
   "outputs": [
    {
     "data": {
      "image/png": "[encoded data removed]",
      "text/plain": [
       "<Figure size 720x720 with 1 Axes>"
      ]
     },
     "metadata": {
      "needs_background": "light"
     },
     "output_type": "display_data"
    }
   ],
   "source": [
    "from sklearn import tree\n",
    "plt.figure(figsize=(10,10))\n",
    "tree.plot_tree(classifier)\n",
    "plt.show()"
   ]
  },
  {
   "cell_type": "markdown",
   "id": "a47b4e8d",
   "metadata": {},
   "source": [
    "<h3 style=\"margin-bottom:0\">7) Support Vector Machines (SVM)</h3>"
   ]
  },
  {
   "cell_type": "markdown",
   "id": "4de55792",
   "metadata": {},
   "source": [
    "SVMs choose the discriminant line as the center of the bar maximizes the margin between the classes."
   ]
  },
  {
   "attachments": {
    "svm.png": {
     "image/png": "[encoded data removed]"
    }
   },
   "cell_type": "markdown",
   "id": "c8a6fd81",
   "metadata": {},
   "source": [
    "![svm.png](attachment:svm.png)"
   ]
  },
  {
   "cell_type": "markdown",
   "id": "3dc6a178",
   "metadata": {},
   "source": [
    "First, we split our dataset into X and Y variables."
   ]
  },
  {
   "cell_type": "code",
   "execution_count": 26,
   "id": "4870fbcf",
   "metadata": {},
   "outputs": [],
   "source": [
    "X = df.iloc[:, :-1].values\n",
    "y = df.iloc[:, 4].values"
   ]
  },
  {
   "cell_type": "markdown",
   "id": "90ad9240",
   "metadata": {},
   "source": [
    "Then, we create test and traing splits. We want to use 40% as our test data. Using random state here is important to get the same result everytime you run all the cells.,"
   ]
  },
  {
   "cell_type": "code",
   "execution_count": 27,
   "id": "21c96440",
   "metadata": {},
   "outputs": [],
   "source": [
    "from sklearn.model_selection import train_test_split\n",
    "X_train, X_test, y_train, y_test = train_test_split(X, y, test_size=0.40, random_state=123)"
   ]
  },
  {
   "cell_type": "markdown",
   "id": "e1dcb06a",
   "metadata": {},
   "source": [
    "Before making any actual predictions, it is always a good practice to scale the features so that all of them can be uniformly evaluated."
   ]
  },
  {
   "cell_type": "code",
   "execution_count": 28,
   "id": "4c11b725",
   "metadata": {},
   "outputs": [],
   "source": [
    "from sklearn.preprocessing import StandardScaler\n",
    "scaler = StandardScaler()\n",
    "\n",
    "X_train = scaler.fit_transform(X_train)\n",
    "X_test = scaler.transform(X_test)"
   ]
  },
  {
   "cell_type": "markdown",
   "id": "333be385",
   "metadata": {},
   "source": [
    "Now, we create our model. Kernel parameter specifies the kernel type to be used in the algorithm. It must be one of ‘linear’, ‘poly’, ‘rbf’, ‘sigmoid’, ‘precomputed’ or a callable. If none is given, ‘rbf’ will be used. It stands for radial basis function."
   ]
  },
  {
   "cell_type": "code",
   "execution_count": 29,
   "id": "d0953907",
   "metadata": {},
   "outputs": [
    {
     "data": {
      "text/plain": [
       "SVC(kernel='linear')"
      ]
     },
     "execution_count": 29,
     "metadata": {},
     "output_type": "execute_result"
    }
   ],
   "source": [
    "from sklearn.svm import SVC\n",
    "classifier = SVC(kernel = 'linear')\n",
    "classifier.fit(X_train, y_train)"
   ]
  },
  {
   "cell_type": "markdown",
   "id": "12542bfd",
   "metadata": {},
   "source": [
    "We have our model, now we create predictions."
   ]
  },
  {
   "cell_type": "code",
   "execution_count": 30,
   "id": "4a54db15",
   "metadata": {},
   "outputs": [],
   "source": [
    "y_pred = classifier.predict(X_test)"
   ]
  },
  {
   "cell_type": "markdown",
   "id": "bfeba2a5",
   "metadata": {},
   "source": [
    "Now, we need to evaluate performance. We can use confusion matrix or classification report for this purpose."
   ]
  },
  {
   "cell_type": "code",
   "execution_count": 31,
   "id": "26ad2d0d",
   "metadata": {},
   "outputs": [
    {
     "name": "stdout",
     "output_type": "stream",
     "text": [
      "[[22  0  0]\n",
      " [ 0 16  0]\n",
      " [ 0  1 21]]\n",
      "                 precision    recall  f1-score   support\n",
      "\n",
      "    Iris-setosa       1.00      1.00      1.00        22\n",
      "Iris-versicolor       0.94      1.00      0.97        16\n",
      " Iris-virginica       1.00      0.95      0.98        22\n",
      "\n",
      "       accuracy                           0.98        60\n",
      "      macro avg       0.98      0.98      0.98        60\n",
      "   weighted avg       0.98      0.98      0.98        60\n",
      "\n"
     ]
    }
   ],
   "source": [
    "from sklearn.metrics import classification_report, confusion_matrix\n",
    "print(confusion_matrix(y_test, y_pred))\n",
    "print(classification_report(y_test, y_pred))"
   ]
  },
  {
   "cell_type": "markdown",
   "id": "ba16bafa",
   "metadata": {},
   "source": [
    "Please remember that p𝑟𝑒𝑐𝑖𝑠𝑖𝑜𝑛=𝑇𝑃/(𝑇𝑃+𝐹𝑃) and r𝑒𝑐𝑎𝑙𝑙=𝑇𝑃/(𝑇𝑃+𝐹𝑁). Also, we can see from confusion matrix, we labeled 98% of the data correctly."
   ]
  },
  {
   "cell_type": "markdown",
   "id": "2fb6ae02",
   "metadata": {},
   "source": [
    "<h3 style=\"margin-bottom:0\">8) Logistic Regression</h3>"
   ]
  },
  {
   "cell_type": "markdown",
   "id": "9931ffc8",
   "metadata": {},
   "source": [
    "Logistic regression is a statistical model that in its basic form uses a logistic function to model a binary dependent variable, although many more complex extensions exist."
   ]
  },
  {
   "attachments": {
    "logistic-regression-diagram.svg": {
     "image/svg+xml": [
      "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"
     ]
    }
   },
   "cell_type": "markdown",
   "id": "5f498309",
   "metadata": {},
   "source": [
    "![logistic-regression-diagram.svg](attachment:logistic-regression-diagram.svg)"
   ]
  },
  {
   "cell_type": "markdown",
   "id": "5ce072b7",
   "metadata": {},
   "source": [
    "First, we split our dataset into X and Y variables."
   ]
  },
  {
   "cell_type": "code",
   "execution_count": 32,
   "id": "6bb1f8f0",
   "metadata": {},
   "outputs": [],
   "source": [
    "X = df.iloc[:, :-1].values\n",
    "y = df.iloc[:, 4].values"
   ]
  },
  {
   "cell_type": "markdown",
   "id": "6913a019",
   "metadata": {},
   "source": [
    "Then, we create test and traing splits. We want to use 40% as our test data. Using random state here is important to get the same result everytime you run all the cells.,"
   ]
  },
  {
   "cell_type": "code",
   "execution_count": 33,
   "id": "e370d89f",
   "metadata": {},
   "outputs": [],
   "source": [
    "from sklearn.model_selection import train_test_split\n",
    "X_train, X_test, y_train, y_test = train_test_split(X, y, test_size=0.40, random_state=123)"
   ]
  },
  {
   "cell_type": "markdown",
   "id": "989db1e1",
   "metadata": {},
   "source": [
    "Before making any actual predictions, it is always a good practice to scale the features so that all of them can be uniformly evaluated."
   ]
  },
  {
   "cell_type": "code",
   "execution_count": 34,
   "id": "0e606d22",
   "metadata": {},
   "outputs": [],
   "source": [
    "from sklearn.preprocessing import StandardScaler\n",
    "scaler = StandardScaler()\n",
    "\n",
    "X_train = scaler.fit_transform(X_train)\n",
    "X_test = scaler.transform(X_test)"
   ]
  },
  {
   "cell_type": "markdown",
   "id": "12caf791",
   "metadata": {},
   "source": [
    "Now, we create our model. "
   ]
  },
  {
   "cell_type": "code",
   "execution_count": 35,
   "id": "9249c87e",
   "metadata": {},
   "outputs": [
    {
     "data": {
      "text/plain": [
       "LogisticRegression(C=1.5)"
      ]
     },
     "execution_count": 35,
     "metadata": {},
     "output_type": "execute_result"
    }
   ],
   "source": [
    "from sklearn.linear_model import LogisticRegression\n",
    "classifier = LogisticRegression(C=1.5)\n",
    "classifier.fit(X_train, y_train)"
   ]
  },
  {
   "cell_type": "markdown",
   "id": "8afecb0a",
   "metadata": {},
   "source": [
    "We have our model, now we create predictions."
   ]
  },
  {
   "cell_type": "code",
   "execution_count": 36,
   "id": "14000e06",
   "metadata": {},
   "outputs": [],
   "source": [
    "y_pred = classifier.predict(X_test)"
   ]
  },
  {
   "cell_type": "markdown",
   "id": "0171d3aa",
   "metadata": {},
   "source": [
    "Now, we need to evaluate performance. We can use confusion matrix or classification report for this purpose."
   ]
  },
  {
   "cell_type": "code",
   "execution_count": 37,
   "id": "89db3062",
   "metadata": {
    "scrolled": true
   },
   "outputs": [
    {
     "name": "stdout",
     "output_type": "stream",
     "text": [
      "[[22  0  0]\n",
      " [ 0 16  0]\n",
      " [ 0  1 21]]\n",
      "                 precision    recall  f1-score   support\n",
      "\n",
      "    Iris-setosa       1.00      1.00      1.00        22\n",
      "Iris-versicolor       0.94      1.00      0.97        16\n",
      " Iris-virginica       1.00      0.95      0.98        22\n",
      "\n",
      "       accuracy                           0.98        60\n",
      "      macro avg       0.98      0.98      0.98        60\n",
      "   weighted avg       0.98      0.98      0.98        60\n",
      "\n"
     ]
    }
   ],
   "source": [
    "from sklearn.metrics import classification_report, confusion_matrix\n",
    "print(confusion_matrix(y_test, y_pred))\n",
    "print(classification_report(y_test, y_pred))"
   ]
  },
  {
   "cell_type": "markdown",
   "id": "59834092",
   "metadata": {},
   "source": [
    "Please remember that p𝑟𝑒𝑐𝑖𝑠𝑖𝑜𝑛=𝑇𝑃/(𝑇𝑃+𝐹𝑃) and r𝑒𝑐𝑎𝑙𝑙=𝑇𝑃/(𝑇𝑃+𝐹𝑁). Also, we can see from confusion matrix, we labeled 98% of the data correctly."
   ]
  },
  {
   "cell_type": "markdown",
   "id": "ac43ee7e",
   "metadata": {},
   "source": [
    "<h3 style=\"margin-bottom:0\">9) Conclusion</h3>"
   ]
  },
  {
   "cell_type": "markdown",
   "id": "3c25b2e3",
   "metadata": {},
   "source": [
    "It is impossible to say that one is always better than another. For example, if you split training and test with another random state, you will get different results. This is mainly because we have very low amount of data here. In your projects or thesis, you should always look at different types of classification algortihms with different parameters to come up with the best solution for your problem.\n",
    "\n",
    "<table>\n",
    "  <tr>\n",
    "    <th></th>\n",
    "    <th>KNN</th>\n",
    "    <th>Naive Bayes</th>\n",
    "    <th>Decision Trees</th>\n",
    "    <th>SVM</th>\n",
    "    <th>Logistic Regression</th>\n",
    "  </tr>\n",
    "  <tr>\n",
    "    <td>Precision</td>\n",
    "    <td>0.95</td>\n",
    "    <td>0.97</td>\n",
    "      <td>0.96</td>\n",
    "      <td><b>0.98</b></td>\n",
    "      <td><b>0.98</b></td>\n",
    "  </tr>\n",
    "  <tr>\n",
    "    <td>Recall</td>\n",
    "    <td>0.95</td>\n",
    "    <td>0.97</td>\n",
    "      <td>0.95</td>\n",
    "      <td><b>0.98</b></td>\n",
    "      <td><b>0.98</b></td>\n",
    "  </tr>\n",
    "    <tr>\n",
    "    <td>Accuracy</td>\n",
    "    <td>0.95</td>\n",
    "    <td>0.97</td>\n",
    "        <td>0.95</td>\n",
    "        <td><b>0.98</b></td>\n",
    "        <td><b>0.98</b></td>\n",
    "  </tr>\n",
    "</table>"
   ]
  },
  {
   "cell_type": "markdown",
   "id": "e1d73ba9",
   "metadata": {},
   "source": [
    "<h3 style=\"margin-bottom:0\">10) Useful Links</h3>"
   ]
  },
  {
   "cell_type": "markdown",
   "id": "08717007",
   "metadata": {},
   "source": [
    "This tutorial is prepared by official scikit-learn document. I will provide an example which includes many types of classification algorithms and official documentation for 5 algorithms we used above. You can always refer to them for understanding how parameters work."
   ]
  },
  {
   "cell_type": "markdown",
   "id": "ecc5e9c2",
   "metadata": {},
   "source": [
    "<a href=\"https://developer.ibm.com/tutorials/learn-classification-algorithms-using-python-and-scikit-learn/\"> An Example:</a> This website provides example of how to implement different kinds of classification algorithms in Python.<br>\n",
    "<a href=\"https://scikit-learn.org/stable/modules/generated/sklearn.neighbors.KNeighborsClassifier.html\"> KNN:</a> Official documentation for KNN.<br>\n",
    "<a href=\"https://scikit-learn.org/stable/modules/classes.html?highlight=naive%20bayes#module-sklearn.naive_bayes\"> Naive Bayes:</a> Official documentation for Naive Bayes. <br>\n",
    "<a href=\"https://scikit-learn.org/stable/modules/generated/sklearn.tree.DecisionTreeClassifier.html?highlight=decision%20tree#sklearn.tree.DecisionTreeClassifier\"> Decision Trees:</a> Official documentation for Decision Trees.<br>\n",
    "<a href=\"https://scikit-learn.org/stable/modules/classes.html?highlight=svm#module-sklearn.svm\"> SVM:</a> Official documentation for SVM.<br>\n",
    "<a href=\"https://scikit-learn.org/stable/modules/generated/sklearn.linear_model.LogisticRegression.html?highlight=logistic%20regression#sklearn.linear_model.LogisticRegression\"> Logistic Regression:</a> Official documentation logistic regression.\n",
    "    "
   ]
  }
 ],
 "metadata": {
  "kernelspec": {
   "display_name": "Python 3",
   "language": "python",
   "name": "python3"
  },
  "language_info": {
   "codemirror_mode": {
    "name": "ipython",
    "version": 3
   },
   "file_extension": ".py",
   "mimetype": "text/x-python",
   "name": "python",
   "nbconvert_exporter": "python",
   "pygments_lexer": "ipython3",
   "version": "3.8.8"
  }
 },
 "nbformat": 4,
 "nbformat_minor": 5
}
